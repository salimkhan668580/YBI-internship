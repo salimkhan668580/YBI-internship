{
  "cells": [
    {
      "cell_type": "markdown",
      "metadata": {
        "id": "view-in-github",
        "colab_type": "text"
      },
      "source": [
        "<a href=\"https://colab.research.google.com/github/salimkhan668580/YBI-internship/blob/main/Movie_Recommendation_System.ipynb\" target=\"_parent\"><img src=\"https://colab.research.google.com/assets/colab-badge.svg\" alt=\"Open In Colab\"/></a>"
      ]
    },
    {
      "cell_type": "markdown",
      "metadata": {
        "id": "4Cgcy1xrLIJT"
      },
      "source": [
        "**Movie Recommendation System**"
      ]
    },
    {
      "cell_type": "markdown",
      "metadata": {
        "id": "5NHVHRH7LS4t"
      },
      "source": [
        "**recommender System** Recommended recommended system system performance according to the uses choses a recommendation system is utilized the variety of area including movies music news boobs research articles search queries, social tag and products in general recommendation system produce a list recommendation in any two ways-\n"
      ]
    },
    {
      "cell_type": "markdown",
      "metadata": {
        "id": "cmqu17OjNCpN"
      },
      "source": [
        "**Content-based filtering** collaborative filtering approaches build a model from the user's past behavior as well as  filter similer decision Decision made by other user this model is than used to predict item or rating of item that user may have interest in \n",
        "\n",
        "\n",
        "\n"
      ]
    },
    {
      "cell_type": "markdown",
      "metadata": {
        "id": "DHfbpnKUOBdC"
      },
      "source": [
        "**Content-based filtering** contest based filtering content best filtering approaches user a series of discrete characteristic of an item in order to recommendation additional item with similar for parties content best filtering with models are totally based on the description of the item that in profile of user performance IT recommendation items performance develop Recommend recommend item based on the user past performance list develop basic recommendation system using Python and Pandas"
      ]
    },
    {
      "cell_type": "markdown",
      "metadata": {
        "id": "YlH8uoTXOSWB"
      },
      "source": [
        "**Import Library**"
      ]
    },
    {
      "cell_type": "code",
      "execution_count": 1,
      "metadata": {
        "id": "piwfDjPpOXkl"
      },
      "outputs": [],
      "source": [
        "import pandas as pd\n"
      ]
    },
    {
      "cell_type": "code",
      "execution_count": 2,
      "metadata": {
        "id": "KVGdSJKaOf1E"
      },
      "outputs": [],
      "source": [
        "import numpy as np"
      ]
    },
    {
      "cell_type": "markdown",
      "metadata": {
        "id": "bSmcG1caOwtd"
      },
      "source": [
        "**Import Dataset**"
      ]
    },
    {
      "cell_type": "code",
      "execution_count": 3,
      "metadata": {
        "id": "XQjrK2EPO1dd"
      },
      "outputs": [],
      "source": [
        "df=pd.read_csv('https://github.com/YBI-Foundation/Dataset/raw/main/Movies%20Recommendation.csv')"
      ]
    },
    {
      "cell_type": "code",
      "execution_count": 4,
      "metadata": {
        "colab": {
          "base_uri": "https://localhost:8080/",
          "height": 716
        },
        "id": "wuiNYLpmPLy6",
        "outputId": "eb1992c7-1174-4f56-c883-1e5b26ce1dd0"
      },
      "outputs": [
        {
          "output_type": "execute_result",
          "data": {
            "text/plain": [
              "   Movie_ID      Movie_Title                       Movie_Genre Movie_Language  \\\n",
              "0         1       Four Rooms                      Crime Comedy             en   \n",
              "1         2        Star Wars  Adventure Action Science Fiction             en   \n",
              "2         3     Finding Nemo                  Animation Family             en   \n",
              "3         4     Forrest Gump              Comedy Drama Romance             en   \n",
              "4         5  American Beauty                             Drama             en   \n",
              "\n",
              "   Movie_Budget  Movie_Popularity Movie_Release_Date  Movie_Revenue  \\\n",
              "0       4000000         22.876230         09-12-1995        4300000   \n",
              "1      11000000        126.393695         25-05-1977      775398007   \n",
              "2      94000000         85.688789         30-05-2003      940335536   \n",
              "3      55000000        138.133331         06-07-1994      677945399   \n",
              "4      15000000         80.878605         15-09-1999      356296601   \n",
              "\n",
              "   Movie_Runtime  Movie_Vote  ...  \\\n",
              "0           98.0         6.5  ...   \n",
              "1          121.0         8.1  ...   \n",
              "2          100.0         7.6  ...   \n",
              "3          142.0         8.2  ...   \n",
              "4          122.0         7.9  ...   \n",
              "\n",
              "                                      Movie_Homepage  \\\n",
              "0                                                NaN   \n",
              "1  http://www.starwars.com/films/star-wars-episod...   \n",
              "2              http://movies.disney.com/finding-nemo   \n",
              "3                                                NaN   \n",
              "4                      http://www.dreamworks.com/ab/   \n",
              "\n",
              "                                      Movie_Keywords  \\\n",
              "0          hotel new year's eve witch bet hotel room   \n",
              "1        android galaxy hermit death star lightsaber   \n",
              "2  father son relationship harbor underwater fish...   \n",
              "3  vietnam veteran hippie mentally disabled runni...   \n",
              "4  male nudity female nudity adultery midlife cri...   \n",
              "\n",
              "                                      Movie_Overview  \\\n",
              "0  It's Ted the Bellhop's first night on the job....   \n",
              "1  Princess Leia is captured and held hostage by ...   \n",
              "2  Nemo, an adventurous young clownfish, is unexp...   \n",
              "3  A man with a low IQ has accomplished great thi...   \n",
              "4  Lester Burnham, a depressed suburban father in...   \n",
              "\n",
              "                              Movie_Production_House  \\\n",
              "0  [{\"name\": \"Miramax Films\", \"id\": 14}, {\"name\":...   \n",
              "1  [{\"name\": \"Lucasfilm\", \"id\": 1}, {\"name\": \"Twe...   \n",
              "2     [{\"name\": \"Pixar Animation Studios\", \"id\": 3}]   \n",
              "3          [{\"name\": \"Paramount Pictures\", \"id\": 4}]   \n",
              "4  [{\"name\": \"DreamWorks SKG\", \"id\": 27}, {\"name\"...   \n",
              "\n",
              "                            Movie_Production_Country  \\\n",
              "0  [{\"iso_3166_1\": \"US\", \"name\": \"United States o...   \n",
              "1  [{\"iso_3166_1\": \"US\", \"name\": \"United States o...   \n",
              "2  [{\"iso_3166_1\": \"US\", \"name\": \"United States o...   \n",
              "3  [{\"iso_3166_1\": \"US\", \"name\": \"United States o...   \n",
              "4  [{\"iso_3166_1\": \"US\", \"name\": \"United States o...   \n",
              "\n",
              "                      Movie_Spoken_Language  \\\n",
              "0  [{\"iso_639_1\": \"en\", \"name\": \"English\"}]   \n",
              "1  [{\"iso_639_1\": \"en\", \"name\": \"English\"}]   \n",
              "2  [{\"iso_639_1\": \"en\", \"name\": \"English\"}]   \n",
              "3  [{\"iso_639_1\": \"en\", \"name\": \"English\"}]   \n",
              "4  [{\"iso_639_1\": \"en\", \"name\": \"English\"}]   \n",
              "\n",
              "                                       Movie_Tagline  \\\n",
              "0  Twelve outrageous guests. Four scandalous requ...   \n",
              "1       A long time ago in a galaxy far, far away...   \n",
              "2  There are 3.7 trillion fish in the ocean, they...   \n",
              "3  The world will never be the same, once you've ...   \n",
              "4                                       Look closer.   \n",
              "\n",
              "                                          Movie_Cast  \\\n",
              "0  Tim Roth Antonio Banderas Jennifer Beals Madon...   \n",
              "1  Mark Hamill Harrison Ford Carrie Fisher Peter ...   \n",
              "2  Albert Brooks Ellen DeGeneres Alexander Gould ...   \n",
              "3  Tom Hanks Robin Wright Gary Sinise Mykelti Wil...   \n",
              "4  Kevin Spacey Annette Bening Thora Birch Wes Be...   \n",
              "\n",
              "                                          Movie_Crew   Movie_Director  \n",
              "0  [{'name': 'Allison Anders', 'gender': 1, 'depa...   Allison Anders  \n",
              "1  [{'name': 'George Lucas', 'gender': 2, 'depart...     George Lucas  \n",
              "2  [{'name': 'Andrew Stanton', 'gender': 2, 'depa...   Andrew Stanton  \n",
              "3  [{'name': 'Alan Silvestri', 'gender': 2, 'depa...  Robert Zemeckis  \n",
              "4  [{'name': 'Thomas Newman', 'gender': 2, 'depar...       Sam Mendes  \n",
              "\n",
              "[5 rows x 21 columns]"
            ],
            "text/html": [
              "\n",
              "  <div id=\"df-53c9fefb-2ac5-476e-b104-2ac7822e39ae\">\n",
              "    <div class=\"colab-df-container\">\n",
              "      <div>\n",
              "<style scoped>\n",
              "    .dataframe tbody tr th:only-of-type {\n",
              "        vertical-align: middle;\n",
              "    }\n",
              "\n",
              "    .dataframe tbody tr th {\n",
              "        vertical-align: top;\n",
              "    }\n",
              "\n",
              "    .dataframe thead th {\n",
              "        text-align: right;\n",
              "    }\n",
              "</style>\n",
              "<table border=\"1\" class=\"dataframe\">\n",
              "  <thead>\n",
              "    <tr style=\"text-align: right;\">\n",
              "      <th></th>\n",
              "      <th>Movie_ID</th>\n",
              "      <th>Movie_Title</th>\n",
              "      <th>Movie_Genre</th>\n",
              "      <th>Movie_Language</th>\n",
              "      <th>Movie_Budget</th>\n",
              "      <th>Movie_Popularity</th>\n",
              "      <th>Movie_Release_Date</th>\n",
              "      <th>Movie_Revenue</th>\n",
              "      <th>Movie_Runtime</th>\n",
              "      <th>Movie_Vote</th>\n",
              "      <th>...</th>\n",
              "      <th>Movie_Homepage</th>\n",
              "      <th>Movie_Keywords</th>\n",
              "      <th>Movie_Overview</th>\n",
              "      <th>Movie_Production_House</th>\n",
              "      <th>Movie_Production_Country</th>\n",
              "      <th>Movie_Spoken_Language</th>\n",
              "      <th>Movie_Tagline</th>\n",
              "      <th>Movie_Cast</th>\n",
              "      <th>Movie_Crew</th>\n",
              "      <th>Movie_Director</th>\n",
              "    </tr>\n",
              "  </thead>\n",
              "  <tbody>\n",
              "    <tr>\n",
              "      <th>0</th>\n",
              "      <td>1</td>\n",
              "      <td>Four Rooms</td>\n",
              "      <td>Crime Comedy</td>\n",
              "      <td>en</td>\n",
              "      <td>4000000</td>\n",
              "      <td>22.876230</td>\n",
              "      <td>09-12-1995</td>\n",
              "      <td>4300000</td>\n",
              "      <td>98.0</td>\n",
              "      <td>6.5</td>\n",
              "      <td>...</td>\n",
              "      <td>NaN</td>\n",
              "      <td>hotel new year's eve witch bet hotel room</td>\n",
              "      <td>It's Ted the Bellhop's first night on the job....</td>\n",
              "      <td>[{\"name\": \"Miramax Films\", \"id\": 14}, {\"name\":...</td>\n",
              "      <td>[{\"iso_3166_1\": \"US\", \"name\": \"United States o...</td>\n",
              "      <td>[{\"iso_639_1\": \"en\", \"name\": \"English\"}]</td>\n",
              "      <td>Twelve outrageous guests. Four scandalous requ...</td>\n",
              "      <td>Tim Roth Antonio Banderas Jennifer Beals Madon...</td>\n",
              "      <td>[{'name': 'Allison Anders', 'gender': 1, 'depa...</td>\n",
              "      <td>Allison Anders</td>\n",
              "    </tr>\n",
              "    <tr>\n",
              "      <th>1</th>\n",
              "      <td>2</td>\n",
              "      <td>Star Wars</td>\n",
              "      <td>Adventure Action Science Fiction</td>\n",
              "      <td>en</td>\n",
              "      <td>11000000</td>\n",
              "      <td>126.393695</td>\n",
              "      <td>25-05-1977</td>\n",
              "      <td>775398007</td>\n",
              "      <td>121.0</td>\n",
              "      <td>8.1</td>\n",
              "      <td>...</td>\n",
              "      <td>http://www.starwars.com/films/star-wars-episod...</td>\n",
              "      <td>android galaxy hermit death star lightsaber</td>\n",
              "      <td>Princess Leia is captured and held hostage by ...</td>\n",
              "      <td>[{\"name\": \"Lucasfilm\", \"id\": 1}, {\"name\": \"Twe...</td>\n",
              "      <td>[{\"iso_3166_1\": \"US\", \"name\": \"United States o...</td>\n",
              "      <td>[{\"iso_639_1\": \"en\", \"name\": \"English\"}]</td>\n",
              "      <td>A long time ago in a galaxy far, far away...</td>\n",
              "      <td>Mark Hamill Harrison Ford Carrie Fisher Peter ...</td>\n",
              "      <td>[{'name': 'George Lucas', 'gender': 2, 'depart...</td>\n",
              "      <td>George Lucas</td>\n",
              "    </tr>\n",
              "    <tr>\n",
              "      <th>2</th>\n",
              "      <td>3</td>\n",
              "      <td>Finding Nemo</td>\n",
              "      <td>Animation Family</td>\n",
              "      <td>en</td>\n",
              "      <td>94000000</td>\n",
              "      <td>85.688789</td>\n",
              "      <td>30-05-2003</td>\n",
              "      <td>940335536</td>\n",
              "      <td>100.0</td>\n",
              "      <td>7.6</td>\n",
              "      <td>...</td>\n",
              "      <td>http://movies.disney.com/finding-nemo</td>\n",
              "      <td>father son relationship harbor underwater fish...</td>\n",
              "      <td>Nemo, an adventurous young clownfish, is unexp...</td>\n",
              "      <td>[{\"name\": \"Pixar Animation Studios\", \"id\": 3}]</td>\n",
              "      <td>[{\"iso_3166_1\": \"US\", \"name\": \"United States o...</td>\n",
              "      <td>[{\"iso_639_1\": \"en\", \"name\": \"English\"}]</td>\n",
              "      <td>There are 3.7 trillion fish in the ocean, they...</td>\n",
              "      <td>Albert Brooks Ellen DeGeneres Alexander Gould ...</td>\n",
              "      <td>[{'name': 'Andrew Stanton', 'gender': 2, 'depa...</td>\n",
              "      <td>Andrew Stanton</td>\n",
              "    </tr>\n",
              "    <tr>\n",
              "      <th>3</th>\n",
              "      <td>4</td>\n",
              "      <td>Forrest Gump</td>\n",
              "      <td>Comedy Drama Romance</td>\n",
              "      <td>en</td>\n",
              "      <td>55000000</td>\n",
              "      <td>138.133331</td>\n",
              "      <td>06-07-1994</td>\n",
              "      <td>677945399</td>\n",
              "      <td>142.0</td>\n",
              "      <td>8.2</td>\n",
              "      <td>...</td>\n",
              "      <td>NaN</td>\n",
              "      <td>vietnam veteran hippie mentally disabled runni...</td>\n",
              "      <td>A man with a low IQ has accomplished great thi...</td>\n",
              "      <td>[{\"name\": \"Paramount Pictures\", \"id\": 4}]</td>\n",
              "      <td>[{\"iso_3166_1\": \"US\", \"name\": \"United States o...</td>\n",
              "      <td>[{\"iso_639_1\": \"en\", \"name\": \"English\"}]</td>\n",
              "      <td>The world will never be the same, once you've ...</td>\n",
              "      <td>Tom Hanks Robin Wright Gary Sinise Mykelti Wil...</td>\n",
              "      <td>[{'name': 'Alan Silvestri', 'gender': 2, 'depa...</td>\n",
              "      <td>Robert Zemeckis</td>\n",
              "    </tr>\n",
              "    <tr>\n",
              "      <th>4</th>\n",
              "      <td>5</td>\n",
              "      <td>American Beauty</td>\n",
              "      <td>Drama</td>\n",
              "      <td>en</td>\n",
              "      <td>15000000</td>\n",
              "      <td>80.878605</td>\n",
              "      <td>15-09-1999</td>\n",
              "      <td>356296601</td>\n",
              "      <td>122.0</td>\n",
              "      <td>7.9</td>\n",
              "      <td>...</td>\n",
              "      <td>http://www.dreamworks.com/ab/</td>\n",
              "      <td>male nudity female nudity adultery midlife cri...</td>\n",
              "      <td>Lester Burnham, a depressed suburban father in...</td>\n",
              "      <td>[{\"name\": \"DreamWorks SKG\", \"id\": 27}, {\"name\"...</td>\n",
              "      <td>[{\"iso_3166_1\": \"US\", \"name\": \"United States o...</td>\n",
              "      <td>[{\"iso_639_1\": \"en\", \"name\": \"English\"}]</td>\n",
              "      <td>Look closer.</td>\n",
              "      <td>Kevin Spacey Annette Bening Thora Birch Wes Be...</td>\n",
              "      <td>[{'name': 'Thomas Newman', 'gender': 2, 'depar...</td>\n",
              "      <td>Sam Mendes</td>\n",
              "    </tr>\n",
              "  </tbody>\n",
              "</table>\n",
              "<p>5 rows × 21 columns</p>\n",
              "</div>\n",
              "      <button class=\"colab-df-convert\" onclick=\"convertToInteractive('df-53c9fefb-2ac5-476e-b104-2ac7822e39ae')\"\n",
              "              title=\"Convert this dataframe to an interactive table.\"\n",
              "              style=\"display:none;\">\n",
              "        \n",
              "  <svg xmlns=\"http://www.w3.org/2000/svg\" height=\"24px\"viewBox=\"0 0 24 24\"\n",
              "       width=\"24px\">\n",
              "    <path d=\"M0 0h24v24H0V0z\" fill=\"none\"/>\n",
              "    <path d=\"M18.56 5.44l.94 2.06.94-2.06 2.06-.94-2.06-.94-.94-2.06-.94 2.06-2.06.94zm-11 1L8.5 8.5l.94-2.06 2.06-.94-2.06-.94L8.5 2.5l-.94 2.06-2.06.94zm10 10l.94 2.06.94-2.06 2.06-.94-2.06-.94-.94-2.06-.94 2.06-2.06.94z\"/><path d=\"M17.41 7.96l-1.37-1.37c-.4-.4-.92-.59-1.43-.59-.52 0-1.04.2-1.43.59L10.3 9.45l-7.72 7.72c-.78.78-.78 2.05 0 2.83L4 21.41c.39.39.9.59 1.41.59.51 0 1.02-.2 1.41-.59l7.78-7.78 2.81-2.81c.8-.78.8-2.07 0-2.86zM5.41 20L4 18.59l7.72-7.72 1.47 1.35L5.41 20z\"/>\n",
              "  </svg>\n",
              "      </button>\n",
              "      \n",
              "  <style>\n",
              "    .colab-df-container {\n",
              "      display:flex;\n",
              "      flex-wrap:wrap;\n",
              "      gap: 12px;\n",
              "    }\n",
              "\n",
              "    .colab-df-convert {\n",
              "      background-color: #E8F0FE;\n",
              "      border: none;\n",
              "      border-radius: 50%;\n",
              "      cursor: pointer;\n",
              "      display: none;\n",
              "      fill: #1967D2;\n",
              "      height: 32px;\n",
              "      padding: 0 0 0 0;\n",
              "      width: 32px;\n",
              "    }\n",
              "\n",
              "    .colab-df-convert:hover {\n",
              "      background-color: #E2EBFA;\n",
              "      box-shadow: 0px 1px 2px rgba(60, 64, 67, 0.3), 0px 1px 3px 1px rgba(60, 64, 67, 0.15);\n",
              "      fill: #174EA6;\n",
              "    }\n",
              "\n",
              "    [theme=dark] .colab-df-convert {\n",
              "      background-color: #3B4455;\n",
              "      fill: #D2E3FC;\n",
              "    }\n",
              "\n",
              "    [theme=dark] .colab-df-convert:hover {\n",
              "      background-color: #434B5C;\n",
              "      box-shadow: 0px 1px 3px 1px rgba(0, 0, 0, 0.15);\n",
              "      filter: drop-shadow(0px 1px 2px rgba(0, 0, 0, 0.3));\n",
              "      fill: #FFFFFF;\n",
              "    }\n",
              "  </style>\n",
              "\n",
              "      <script>\n",
              "        const buttonEl =\n",
              "          document.querySelector('#df-53c9fefb-2ac5-476e-b104-2ac7822e39ae button.colab-df-convert');\n",
              "        buttonEl.style.display =\n",
              "          google.colab.kernel.accessAllowed ? 'block' : 'none';\n",
              "\n",
              "        async function convertToInteractive(key) {\n",
              "          const element = document.querySelector('#df-53c9fefb-2ac5-476e-b104-2ac7822e39ae');\n",
              "          const dataTable =\n",
              "            await google.colab.kernel.invokeFunction('convertToInteractive',\n",
              "                                                     [key], {});\n",
              "          if (!dataTable) return;\n",
              "\n",
              "          const docLinkHtml = 'Like what you see? Visit the ' +\n",
              "            '<a target=\"_blank\" href=https://colab.research.google.com/notebooks/data_table.ipynb>data table notebook</a>'\n",
              "            + ' to learn more about interactive tables.';\n",
              "          element.innerHTML = '';\n",
              "          dataTable['output_type'] = 'display_data';\n",
              "          await google.colab.output.renderOutput(dataTable, element);\n",
              "          const docLink = document.createElement('div');\n",
              "          docLink.innerHTML = docLinkHtml;\n",
              "          element.appendChild(docLink);\n",
              "        }\n",
              "      </script>\n",
              "    </div>\n",
              "  </div>\n",
              "  "
            ]
          },
          "metadata": {},
          "execution_count": 4
        }
      ],
      "source": [
        "df.head()"
      ]
    },
    {
      "cell_type": "code",
      "execution_count": 5,
      "metadata": {
        "colab": {
          "base_uri": "https://localhost:8080/"
        },
        "id": "V1zoFp43PM-1",
        "outputId": "a289d5b0-d7c7-4e0c-f062-dec1466c8a0f"
      },
      "outputs": [
        {
          "output_type": "stream",
          "name": "stdout",
          "text": [
            "<class 'pandas.core.frame.DataFrame'>\n",
            "RangeIndex: 4760 entries, 0 to 4759\n",
            "Data columns (total 21 columns):\n",
            " #   Column                    Non-Null Count  Dtype  \n",
            "---  ------                    --------------  -----  \n",
            " 0   Movie_ID                  4760 non-null   int64  \n",
            " 1   Movie_Title               4760 non-null   object \n",
            " 2   Movie_Genre               4760 non-null   object \n",
            " 3   Movie_Language            4760 non-null   object \n",
            " 4   Movie_Budget              4760 non-null   int64  \n",
            " 5   Movie_Popularity          4760 non-null   float64\n",
            " 6   Movie_Release_Date        4760 non-null   object \n",
            " 7   Movie_Revenue             4760 non-null   int64  \n",
            " 8   Movie_Runtime             4758 non-null   float64\n",
            " 9   Movie_Vote                4760 non-null   float64\n",
            " 10  Movie_Vote_Count          4760 non-null   int64  \n",
            " 11  Movie_Homepage            1699 non-null   object \n",
            " 12  Movie_Keywords            4373 non-null   object \n",
            " 13  Movie_Overview            4757 non-null   object \n",
            " 14  Movie_Production_House    4760 non-null   object \n",
            " 15  Movie_Production_Country  4760 non-null   object \n",
            " 16  Movie_Spoken_Language     4760 non-null   object \n",
            " 17  Movie_Tagline             3942 non-null   object \n",
            " 18  Movie_Cast                4733 non-null   object \n",
            " 19  Movie_Crew                4760 non-null   object \n",
            " 20  Movie_Director            4738 non-null   object \n",
            "dtypes: float64(3), int64(4), object(14)\n",
            "memory usage: 781.1+ KB\n"
          ]
        }
      ],
      "source": [
        "df.info()"
      ]
    },
    {
      "cell_type": "code",
      "execution_count": 6,
      "metadata": {
        "colab": {
          "base_uri": "https://localhost:8080/"
        },
        "id": "ksAxEpPGPgPz",
        "outputId": "41879eef-ba78-4e4e-b265-c0df9100c9c5"
      },
      "outputs": [
        {
          "output_type": "execute_result",
          "data": {
            "text/plain": [
              "(4760, 21)"
            ]
          },
          "metadata": {},
          "execution_count": 6
        }
      ],
      "source": [
        "df.shape"
      ]
    },
    {
      "cell_type": "code",
      "execution_count": 7,
      "metadata": {
        "colab": {
          "base_uri": "https://localhost:8080/"
        },
        "id": "UkzhPiCRPpsH",
        "outputId": "587eb557-ddf7-42cd-c39a-4182396928b4"
      },
      "outputs": [
        {
          "output_type": "execute_result",
          "data": {
            "text/plain": [
              "Index(['Movie_ID', 'Movie_Title', 'Movie_Genre', 'Movie_Language',\n",
              "       'Movie_Budget', 'Movie_Popularity', 'Movie_Release_Date',\n",
              "       'Movie_Revenue', 'Movie_Runtime', 'Movie_Vote', 'Movie_Vote_Count',\n",
              "       'Movie_Homepage', 'Movie_Keywords', 'Movie_Overview',\n",
              "       'Movie_Production_House', 'Movie_Production_Country',\n",
              "       'Movie_Spoken_Language', 'Movie_Tagline', 'Movie_Cast', 'Movie_Crew',\n",
              "       'Movie_Director'],\n",
              "      dtype='object')"
            ]
          },
          "metadata": {},
          "execution_count": 7
        }
      ],
      "source": [
        "df.columns"
      ]
    },
    {
      "cell_type": "markdown",
      "metadata": {
        "id": "nfFHIgRkPt7v"
      },
      "source": [
        "**Get Feuture Selection**"
      ]
    },
    {
      "cell_type": "code",
      "execution_count": 8,
      "metadata": {
        "id": "hofNIc1lPz8l"
      },
      "outputs": [],
      "source": [
        "df_features=df[[ 'Movie_Genre','Movie_Keywords','Movie_Tagline','Movie_Cast','Movie_Director']].fillna('')"
      ]
    },
    {
      "cell_type": "code",
      "execution_count": 9,
      "metadata": {
        "colab": {
          "base_uri": "https://localhost:8080/"
        },
        "id": "4Q6pB8FYQVmW",
        "outputId": "f46a9679-4d35-41ea-ad4d-e98b2e53cd96"
      },
      "outputs": [
        {
          "output_type": "execute_result",
          "data": {
            "text/plain": [
              "(4760, 5)"
            ]
          },
          "metadata": {},
          "execution_count": 9
        }
      ],
      "source": [
        "df_features.shape"
      ]
    },
    {
      "cell_type": "code",
      "execution_count": 10,
      "metadata": {
        "colab": {
          "base_uri": "https://localhost:8080/",
          "height": 423
        },
        "id": "xHEGwbNxQdCM",
        "outputId": "38bba987-10aa-4981-800c-3eadb6a55f94"
      },
      "outputs": [
        {
          "output_type": "execute_result",
          "data": {
            "text/plain": [
              "                           Movie_Genre  \\\n",
              "0                         Crime Comedy   \n",
              "1     Adventure Action Science Fiction   \n",
              "2                     Animation Family   \n",
              "3                 Comedy Drama Romance   \n",
              "4                                Drama   \n",
              "...                                ...   \n",
              "4755                            Horror   \n",
              "4756               Comedy Family Drama   \n",
              "4757                    Thriller Drama   \n",
              "4758                            Family   \n",
              "4759                       Documentary   \n",
              "\n",
              "                                         Movie_Keywords  \\\n",
              "0             hotel new year's eve witch bet hotel room   \n",
              "1           android galaxy hermit death star lightsaber   \n",
              "2     father son relationship harbor underwater fish...   \n",
              "3     vietnam veteran hippie mentally disabled runni...   \n",
              "4     male nudity female nudity adultery midlife cri...   \n",
              "...                                                 ...   \n",
              "4755                                                      \n",
              "4756                                                      \n",
              "4757                     christian film sex trafficking   \n",
              "4758                                                      \n",
              "4759  music actors legendary perfomer classic hollyw...   \n",
              "\n",
              "                                          Movie_Tagline  \\\n",
              "0     Twelve outrageous guests. Four scandalous requ...   \n",
              "1          A long time ago in a galaxy far, far away...   \n",
              "2     There are 3.7 trillion fish in the ocean, they...   \n",
              "3     The world will never be the same, once you've ...   \n",
              "4                                          Look closer.   \n",
              "...                                                 ...   \n",
              "4755                The hot spot where Satan's waitin'.   \n",
              "4756           It’s better to stand out than to fit in.   \n",
              "4757           She never knew it could happen to her...   \n",
              "4758                                                      \n",
              "4759                                                      \n",
              "\n",
              "                                             Movie_Cast     Movie_Director  \n",
              "0     Tim Roth Antonio Banderas Jennifer Beals Madon...     Allison Anders  \n",
              "1     Mark Hamill Harrison Ford Carrie Fisher Peter ...       George Lucas  \n",
              "2     Albert Brooks Ellen DeGeneres Alexander Gould ...     Andrew Stanton  \n",
              "3     Tom Hanks Robin Wright Gary Sinise Mykelti Wil...    Robert Zemeckis  \n",
              "4     Kevin Spacey Annette Bening Thora Birch Wes Be...         Sam Mendes  \n",
              "...                                                 ...                ...  \n",
              "4755  Lisa Hart Carroll Michael Des Barres Paul Drak...         Pece Dingo  \n",
              "4756  Roni Akurati Brighton Sharbino Jason Lee Anjul...       Frank Lotito  \n",
              "4757  Nicole Smolen Kim Baldwin Ariana Stephens Brys...       Jaco Booyens  \n",
              "4758                                                                        \n",
              "4759                                    Tony Oppedisano  Simon Napier-Bell  \n",
              "\n",
              "[4760 rows x 5 columns]"
            ],
            "text/html": [
              "\n",
              "  <div id=\"df-da1e03a7-f045-4d58-824b-a4d8cc3438e2\">\n",
              "    <div class=\"colab-df-container\">\n",
              "      <div>\n",
              "<style scoped>\n",
              "    .dataframe tbody tr th:only-of-type {\n",
              "        vertical-align: middle;\n",
              "    }\n",
              "\n",
              "    .dataframe tbody tr th {\n",
              "        vertical-align: top;\n",
              "    }\n",
              "\n",
              "    .dataframe thead th {\n",
              "        text-align: right;\n",
              "    }\n",
              "</style>\n",
              "<table border=\"1\" class=\"dataframe\">\n",
              "  <thead>\n",
              "    <tr style=\"text-align: right;\">\n",
              "      <th></th>\n",
              "      <th>Movie_Genre</th>\n",
              "      <th>Movie_Keywords</th>\n",
              "      <th>Movie_Tagline</th>\n",
              "      <th>Movie_Cast</th>\n",
              "      <th>Movie_Director</th>\n",
              "    </tr>\n",
              "  </thead>\n",
              "  <tbody>\n",
              "    <tr>\n",
              "      <th>0</th>\n",
              "      <td>Crime Comedy</td>\n",
              "      <td>hotel new year's eve witch bet hotel room</td>\n",
              "      <td>Twelve outrageous guests. Four scandalous requ...</td>\n",
              "      <td>Tim Roth Antonio Banderas Jennifer Beals Madon...</td>\n",
              "      <td>Allison Anders</td>\n",
              "    </tr>\n",
              "    <tr>\n",
              "      <th>1</th>\n",
              "      <td>Adventure Action Science Fiction</td>\n",
              "      <td>android galaxy hermit death star lightsaber</td>\n",
              "      <td>A long time ago in a galaxy far, far away...</td>\n",
              "      <td>Mark Hamill Harrison Ford Carrie Fisher Peter ...</td>\n",
              "      <td>George Lucas</td>\n",
              "    </tr>\n",
              "    <tr>\n",
              "      <th>2</th>\n",
              "      <td>Animation Family</td>\n",
              "      <td>father son relationship harbor underwater fish...</td>\n",
              "      <td>There are 3.7 trillion fish in the ocean, they...</td>\n",
              "      <td>Albert Brooks Ellen DeGeneres Alexander Gould ...</td>\n",
              "      <td>Andrew Stanton</td>\n",
              "    </tr>\n",
              "    <tr>\n",
              "      <th>3</th>\n",
              "      <td>Comedy Drama Romance</td>\n",
              "      <td>vietnam veteran hippie mentally disabled runni...</td>\n",
              "      <td>The world will never be the same, once you've ...</td>\n",
              "      <td>Tom Hanks Robin Wright Gary Sinise Mykelti Wil...</td>\n",
              "      <td>Robert Zemeckis</td>\n",
              "    </tr>\n",
              "    <tr>\n",
              "      <th>4</th>\n",
              "      <td>Drama</td>\n",
              "      <td>male nudity female nudity adultery midlife cri...</td>\n",
              "      <td>Look closer.</td>\n",
              "      <td>Kevin Spacey Annette Bening Thora Birch Wes Be...</td>\n",
              "      <td>Sam Mendes</td>\n",
              "    </tr>\n",
              "    <tr>\n",
              "      <th>...</th>\n",
              "      <td>...</td>\n",
              "      <td>...</td>\n",
              "      <td>...</td>\n",
              "      <td>...</td>\n",
              "      <td>...</td>\n",
              "    </tr>\n",
              "    <tr>\n",
              "      <th>4755</th>\n",
              "      <td>Horror</td>\n",
              "      <td></td>\n",
              "      <td>The hot spot where Satan's waitin'.</td>\n",
              "      <td>Lisa Hart Carroll Michael Des Barres Paul Drak...</td>\n",
              "      <td>Pece Dingo</td>\n",
              "    </tr>\n",
              "    <tr>\n",
              "      <th>4756</th>\n",
              "      <td>Comedy Family Drama</td>\n",
              "      <td></td>\n",
              "      <td>It’s better to stand out than to fit in.</td>\n",
              "      <td>Roni Akurati Brighton Sharbino Jason Lee Anjul...</td>\n",
              "      <td>Frank Lotito</td>\n",
              "    </tr>\n",
              "    <tr>\n",
              "      <th>4757</th>\n",
              "      <td>Thriller Drama</td>\n",
              "      <td>christian film sex trafficking</td>\n",
              "      <td>She never knew it could happen to her...</td>\n",
              "      <td>Nicole Smolen Kim Baldwin Ariana Stephens Brys...</td>\n",
              "      <td>Jaco Booyens</td>\n",
              "    </tr>\n",
              "    <tr>\n",
              "      <th>4758</th>\n",
              "      <td>Family</td>\n",
              "      <td></td>\n",
              "      <td></td>\n",
              "      <td></td>\n",
              "      <td></td>\n",
              "    </tr>\n",
              "    <tr>\n",
              "      <th>4759</th>\n",
              "      <td>Documentary</td>\n",
              "      <td>music actors legendary perfomer classic hollyw...</td>\n",
              "      <td></td>\n",
              "      <td>Tony Oppedisano</td>\n",
              "      <td>Simon Napier-Bell</td>\n",
              "    </tr>\n",
              "  </tbody>\n",
              "</table>\n",
              "<p>4760 rows × 5 columns</p>\n",
              "</div>\n",
              "      <button class=\"colab-df-convert\" onclick=\"convertToInteractive('df-da1e03a7-f045-4d58-824b-a4d8cc3438e2')\"\n",
              "              title=\"Convert this dataframe to an interactive table.\"\n",
              "              style=\"display:none;\">\n",
              "        \n",
              "  <svg xmlns=\"http://www.w3.org/2000/svg\" height=\"24px\"viewBox=\"0 0 24 24\"\n",
              "       width=\"24px\">\n",
              "    <path d=\"M0 0h24v24H0V0z\" fill=\"none\"/>\n",
              "    <path d=\"M18.56 5.44l.94 2.06.94-2.06 2.06-.94-2.06-.94-.94-2.06-.94 2.06-2.06.94zm-11 1L8.5 8.5l.94-2.06 2.06-.94-2.06-.94L8.5 2.5l-.94 2.06-2.06.94zm10 10l.94 2.06.94-2.06 2.06-.94-2.06-.94-.94-2.06-.94 2.06-2.06.94z\"/><path d=\"M17.41 7.96l-1.37-1.37c-.4-.4-.92-.59-1.43-.59-.52 0-1.04.2-1.43.59L10.3 9.45l-7.72 7.72c-.78.78-.78 2.05 0 2.83L4 21.41c.39.39.9.59 1.41.59.51 0 1.02-.2 1.41-.59l7.78-7.78 2.81-2.81c.8-.78.8-2.07 0-2.86zM5.41 20L4 18.59l7.72-7.72 1.47 1.35L5.41 20z\"/>\n",
              "  </svg>\n",
              "      </button>\n",
              "      \n",
              "  <style>\n",
              "    .colab-df-container {\n",
              "      display:flex;\n",
              "      flex-wrap:wrap;\n",
              "      gap: 12px;\n",
              "    }\n",
              "\n",
              "    .colab-df-convert {\n",
              "      background-color: #E8F0FE;\n",
              "      border: none;\n",
              "      border-radius: 50%;\n",
              "      cursor: pointer;\n",
              "      display: none;\n",
              "      fill: #1967D2;\n",
              "      height: 32px;\n",
              "      padding: 0 0 0 0;\n",
              "      width: 32px;\n",
              "    }\n",
              "\n",
              "    .colab-df-convert:hover {\n",
              "      background-color: #E2EBFA;\n",
              "      box-shadow: 0px 1px 2px rgba(60, 64, 67, 0.3), 0px 1px 3px 1px rgba(60, 64, 67, 0.15);\n",
              "      fill: #174EA6;\n",
              "    }\n",
              "\n",
              "    [theme=dark] .colab-df-convert {\n",
              "      background-color: #3B4455;\n",
              "      fill: #D2E3FC;\n",
              "    }\n",
              "\n",
              "    [theme=dark] .colab-df-convert:hover {\n",
              "      background-color: #434B5C;\n",
              "      box-shadow: 0px 1px 3px 1px rgba(0, 0, 0, 0.15);\n",
              "      filter: drop-shadow(0px 1px 2px rgba(0, 0, 0, 0.3));\n",
              "      fill: #FFFFFF;\n",
              "    }\n",
              "  </style>\n",
              "\n",
              "      <script>\n",
              "        const buttonEl =\n",
              "          document.querySelector('#df-da1e03a7-f045-4d58-824b-a4d8cc3438e2 button.colab-df-convert');\n",
              "        buttonEl.style.display =\n",
              "          google.colab.kernel.accessAllowed ? 'block' : 'none';\n",
              "\n",
              "        async function convertToInteractive(key) {\n",
              "          const element = document.querySelector('#df-da1e03a7-f045-4d58-824b-a4d8cc3438e2');\n",
              "          const dataTable =\n",
              "            await google.colab.kernel.invokeFunction('convertToInteractive',\n",
              "                                                     [key], {});\n",
              "          if (!dataTable) return;\n",
              "\n",
              "          const docLinkHtml = 'Like what you see? Visit the ' +\n",
              "            '<a target=\"_blank\" href=https://colab.research.google.com/notebooks/data_table.ipynb>data table notebook</a>'\n",
              "            + ' to learn more about interactive tables.';\n",
              "          element.innerHTML = '';\n",
              "          dataTable['output_type'] = 'display_data';\n",
              "          await google.colab.output.renderOutput(dataTable, element);\n",
              "          const docLink = document.createElement('div');\n",
              "          docLink.innerHTML = docLinkHtml;\n",
              "          element.appendChild(docLink);\n",
              "        }\n",
              "      </script>\n",
              "    </div>\n",
              "  </div>\n",
              "  "
            ]
          },
          "metadata": {},
          "execution_count": 10
        }
      ],
      "source": [
        " df_features"
      ]
    },
    {
      "cell_type": "code",
      "execution_count": 11,
      "metadata": {
        "id": "0YORan-0QoMM"
      },
      "outputs": [],
      "source": [
        "x=df_features['Movie_Genre']+' '+df_features['Movie_Keywords']+' '+df_features['Movie_Tagline']+' '+df_features['Movie_Director']"
      ]
    },
    {
      "cell_type": "code",
      "execution_count": 12,
      "metadata": {
        "colab": {
          "base_uri": "https://localhost:8080/"
        },
        "id": "r57hbt2ARKJ9",
        "outputId": "c240938f-4629-4685-cfe7-1d5a338d62c9"
      },
      "outputs": [
        {
          "output_type": "execute_result",
          "data": {
            "text/plain": [
              "(4760,)"
            ]
          },
          "metadata": {},
          "execution_count": 12
        }
      ],
      "source": [
        "x.shape"
      ]
    },
    {
      "cell_type": "markdown",
      "metadata": {
        "id": "fcXl8eCaRNm_"
      },
      "source": [
        "**Get Feature Text Conversion to Tokens**"
      ]
    },
    {
      "cell_type": "code",
      "execution_count": 13,
      "metadata": {
        "id": "EqlmnaHkRVWM"
      },
      "outputs": [],
      "source": [
        "from sklearn.feature_extraction.text import TfidfVectorizer\n"
      ]
    },
    {
      "cell_type": "code",
      "execution_count": 14,
      "metadata": {
        "id": "WFI0-v00Ro6f"
      },
      "outputs": [],
      "source": [
        "tfidf=TfidfVectorizer()"
      ]
    },
    {
      "cell_type": "code",
      "execution_count": 15,
      "metadata": {
        "id": "TeohjXYyRt6U"
      },
      "outputs": [],
      "source": [
        "x=tfidf.fit_transform(x)"
      ]
    },
    {
      "cell_type": "code",
      "execution_count": 16,
      "metadata": {
        "colab": {
          "base_uri": "https://localhost:8080/"
        },
        "id": "SSGJ8wKZR6FD",
        "outputId": "f13b4bba-5721-4f54-d7ac-ab482f09164c"
      },
      "outputs": [
        {
          "output_type": "execute_result",
          "data": {
            "text/plain": [
              "(4760, 9666)"
            ]
          },
          "metadata": {},
          "execution_count": 16
        }
      ],
      "source": [
        "x.shape"
      ]
    },
    {
      "cell_type": "code",
      "execution_count": 17,
      "metadata": {
        "colab": {
          "base_uri": "https://localhost:8080/"
        },
        "id": "kssBtcPoR-Mq",
        "outputId": "8856b6a8-851c-401f-f6a9-17b64d6ef912"
      },
      "outputs": [
        {
          "output_type": "stream",
          "name": "stdout",
          "text": [
            "  (0, 376)\t0.18272810724070418\n",
            "  (0, 316)\t0.19632202064896634\n",
            "  (0, 5024)\t0.09373465698968353\n",
            "  (0, 6094)\t0.06761788284030082\n",
            "  (0, 9426)\t0.19090152648212289\n",
            "  (0, 3256)\t0.09303304831704608\n",
            "  (0, 9401)\t0.11559559866313328\n",
            "  (0, 4521)\t0.1443365785980048\n",
            "  (0, 8543)\t0.1065109136318404\n",
            "  (0, 6131)\t0.0786972588733094\n",
            "  (0, 2203)\t0.1375276201579133\n",
            "  (0, 3175)\t0.12385671298754733\n",
            "  (0, 4023)\t0.21434670508652215\n",
            "  (0, 4253)\t0.15944969524116445\n",
            "  (0, 866)\t0.21315961343110615\n",
            "  (0, 5106)\t0.16963506748686155\n",
            "  (0, 6133)\t0.08935032151608546\n",
            "  (0, 374)\t0.08264227113134892\n",
            "  (0, 7062)\t0.21315961343110615\n",
            "  (0, 7448)\t0.21315961343110615\n",
            "  (0, 3296)\t0.15847233257383517\n",
            "  (0, 3724)\t0.20331025305114117\n",
            "  (0, 6209)\t0.20331025305114117\n",
            "  (0, 8864)\t0.19090152648212289\n",
            "  (0, 7244)\t0.15847233257383517\n",
            "  :\t:\n",
            "  (4757, 1975)\t0.26800244457573114\n",
            "  (4757, 3821)\t0.29309239322653075\n",
            "  (4757, 7673)\t0.22148093071406288\n",
            "  (4757, 7622)\t0.20123579506754563\n",
            "  (4757, 3145)\t0.168092031177192\n",
            "  (4757, 4761)\t0.31653219908433233\n",
            "  (4757, 3948)\t0.2305741747626342\n",
            "  (4757, 8597)\t0.10300110054376047\n",
            "  (4757, 8644)\t0.1312593706509848\n",
            "  (4757, 4404)\t0.15447322365698812\n",
            "  (4757, 5939)\t0.1957451067341251\n",
            "  (4757, 2565)\t0.07636984555550978\n",
            "  (4758, 3012)\t1.0\n",
            "  (4759, 5864)\t0.3489795931696709\n",
            "  (4759, 7786)\t0.3489795931696709\n",
            "  (4759, 6411)\t0.3489795931696709\n",
            "  (4759, 166)\t0.3328544664486442\n",
            "  (4759, 4946)\t0.3125392093504262\n",
            "  (4759, 1692)\t0.2891632535235492\n",
            "  (4759, 865)\t0.29915789158688394\n",
            "  (4759, 4053)\t0.27159180538281574\n",
            "  (4759, 7777)\t0.255466678661789\n",
            "  (4759, 2500)\t0.1881896442203568\n",
            "  (4759, 3313)\t0.22790059245772076\n",
            "  (4759, 5811)\t0.16333000721915777\n"
          ]
        }
      ],
      "source": [
        "print(x)"
      ]
    },
    {
      "cell_type": "markdown",
      "metadata": {
        "id": "IrUUO-ObSSUW"
      },
      "source": [
        "**Get Similarity Score using Cosine Similarity**"
      ]
    },
    {
      "cell_type": "markdown",
      "metadata": {
        "id": "zU2nSayHSbs9"
      },
      "source": [
        "cosine_similarity computer the L2-normalizes dot product of vectors .Euclidean (L2) normalization projects the vectors onto the unit sphere and their dot product is then the cosine of the angle between the points denoted by the vectors"
      ]
    },
    {
      "cell_type": "code",
      "execution_count": 18,
      "metadata": {
        "id": "jLekKOcWTCtd"
      },
      "outputs": [],
      "source": [
        "from sklearn.metrics.pairwise import cosine_similarity"
      ]
    },
    {
      "cell_type": "code",
      "execution_count": 19,
      "metadata": {
        "id": "O_dvAvWBTdQ9"
      },
      "outputs": [],
      "source": [
        "Similarity_Score=cosine_similarity(x)"
      ]
    },
    {
      "cell_type": "code",
      "execution_count": 20,
      "metadata": {
        "colab": {
          "base_uri": "https://localhost:8080/"
        },
        "id": "4GMatNOqTmXd",
        "outputId": "13d19c34-515c-4eec-8483-732946a0f525"
      },
      "outputs": [
        {
          "output_type": "execute_result",
          "data": {
            "text/plain": [
              "array([[1.        , 0.01723123, 0.04583093, ..., 0.        , 0.        ,\n",
              "        0.        ],\n",
              "       [0.01723123, 1.        , 0.01127435, ..., 0.        , 0.        ,\n",
              "        0.        ],\n",
              "       [0.04583093, 0.01127435, 1.        , ..., 0.        , 0.09498713,\n",
              "        0.        ],\n",
              "       ...,\n",
              "       [0.        , 0.        , 0.        , ..., 1.        , 0.        ,\n",
              "        0.        ],\n",
              "       [0.        , 0.        , 0.09498713, ..., 0.        , 1.        ,\n",
              "        0.        ],\n",
              "       [0.        , 0.        , 0.        , ..., 0.        , 0.        ,\n",
              "        1.        ]])"
            ]
          },
          "metadata": {},
          "execution_count": 20
        }
      ],
      "source": [
        "Similarity_Score"
      ]
    },
    {
      "cell_type": "code",
      "execution_count": 21,
      "metadata": {
        "colab": {
          "base_uri": "https://localhost:8080/"
        },
        "id": "IhNz5vVvTrsj",
        "outputId": "4172adbf-044f-4350-cc34-2fa438ce096d"
      },
      "outputs": [
        {
          "output_type": "execute_result",
          "data": {
            "text/plain": [
              "(4760, 4760)"
            ]
          },
          "metadata": {},
          "execution_count": 21
        }
      ],
      "source": [
        "Similarity_Score.shape"
      ]
    },
    {
      "cell_type": "markdown",
      "metadata": {
        "id": "6V2QbcEoTuV1"
      },
      "source": [
        "**Get Movie Name as Input from User and Validate for Closest Spelling**"
      ]
    },
    {
      "cell_type": "code",
      "execution_count": 23,
      "metadata": {
        "colab": {
          "base_uri": "https://localhost:8080/"
        },
        "id": "_xGVGM4pT4WQ",
        "outputId": "baee7669-d7fe-478e-a6f7-1874e0a45a15"
      },
      "outputs": [
        {
          "name": "stdout",
          "output_type": "stream",
          "text": [
            "Enter your favourite movie name : avtaar\n"
          ]
        }
      ],
      "source": [
        "Favourite_Movie_Name=input('Enter your favourite movie name : ')"
      ]
    },
    {
      "cell_type": "code",
      "execution_count": 24,
      "metadata": {
        "id": "DVEJz_izUGcH"
      },
      "outputs": [],
      "source": [
        "All_Movies_Title_List=df['Movie_Title'].tolist()"
      ]
    },
    {
      "cell_type": "code",
      "execution_count": 25,
      "metadata": {
        "id": "_cuREHf-UV7G"
      },
      "outputs": [],
      "source": [
        "import difflib"
      ]
    },
    {
      "cell_type": "code",
      "execution_count": 26,
      "metadata": {
        "id": "nFgwVKWHUhEd",
        "colab": {
          "base_uri": "https://localhost:8080/"
        },
        "outputId": "15f34148-9ece-4b8d-9359-6001a0044954"
      },
      "outputs": [
        {
          "output_type": "stream",
          "name": "stdout",
          "text": [
            "['Avatar', 'Gattaca']\n"
          ]
        }
      ],
      "source": [
        "Movie_Recommendation=difflib.get_close_matches(Favourite_Movie_Name,All_Movies_Title_List)\n",
        "print(Movie_Recommendation)"
      ]
    },
    {
      "cell_type": "code",
      "source": [
        "Close_Match=Movie_Recommendation[0]\n",
        "print(Close_Match)"
      ],
      "metadata": {
        "colab": {
          "base_uri": "https://localhost:8080/"
        },
        "id": "84lhzH4qlaRG",
        "outputId": "8ccd550c-27f8-404b-ae8a-d4279ff3f3e1"
      },
      "execution_count": 27,
      "outputs": [
        {
          "output_type": "stream",
          "name": "stdout",
          "text": [
            "Avatar\n"
          ]
        }
      ]
    },
    {
      "cell_type": "code",
      "source": [
        "Index_of_Close_Match_Movie=df[df.Movie_Title==Close_Match]['Movie_ID'].values[0]\n",
        "print(Index_of_Close_Match_Movie)"
      ],
      "metadata": {
        "colab": {
          "base_uri": "https://localhost:8080/"
        },
        "id": "XYEiFA7xlZ-Q",
        "outputId": "7fa8aef1-0bc2-4bcc-f400-8c9827916b26"
      },
      "execution_count": 28,
      "outputs": [
        {
          "output_type": "stream",
          "name": "stdout",
          "text": [
            "2692\n"
          ]
        }
      ]
    },
    {
      "cell_type": "code",
      "source": [
        "Recommendation_Score=list(enumerate(Similarity_Score[Index_of_Close_Match_Movie]))\n",
        "print(Recommendation_Score)\n"
      ],
      "metadata": {
        "colab": {
          "base_uri": "https://localhost:8080/"
        },
        "id": "lBcuZLwDmNBw",
        "outputId": "5f7708e3-92aa-421f-dd27-7f71e0127f66"
      },
      "execution_count": 29,
      "outputs": [
        {
          "output_type": "stream",
          "name": "stdout",
          "text": [
            "[(0, 0.012799026193380369), (1, 0.0), (2, 0.0), (3, 0.011261439817266612), (4, 0.004382901530643153), (5, 0.015078561764240456), (6, 0.007624616116103712), (7, 0.020840725036144328), (8, 0.0045595290042573415), (9, 0.009013627630357087), (10, 0.012232816008570966), (11, 0.0037792709133114056), (12, 0.0043278052118629045), (13, 0.01961989789312727), (14, 0.0), (15, 0.031762320716661324), (16, 0.010625571828477426), (17, 0.0), (18, 0.020249072784981267), (19, 0.013735155527109853), (20, 0.004090752070498221), (21, 0.025982647815282638), (22, 0.009950793409584898), (23, 0.00417021752244125), (24, 0.0022626891703794627), (25, 0.010881398922352552), (26, 0.003961026393151617), (27, 0.007460859178183425), (28, 0.0), (29, 0.038937404321633506), (30, 0.0075307054940029925), (31, 0.00998298949032795), (32, 0.013686568235892635), (33, 0.03291100328480603), (34, 0.012103365173173047), (35, 0.008736858241594387), (36, 0.0), (37, 0.0), (38, 0.013199312175881321), (39, 0.0068672275402947595), (40, 0.024331015240673246), (41, 0.004391811682902873), (42, 0.011551185588157703), (43, 0.02178564408576708), (44, 0.0624536966818329), (45, 0.12643541930321367), (46, 0.028990894351015505), (47, 0.014821556065826679), (48, 0.025271369013675358), (49, 0.0), (50, 0.010014770444703959), (51, 0.023926294566377), (52, 0.01945707758893824), (53, 0.0), (54, 0.0), (55, 0.0), (56, 0.010253791108099692), (57, 0.018540795250922355), (58, 0.0), (59, 0.0), (60, 0.011460498764889951), (61, 0.02736991356033347), (62, 0.10131523241194043), (63, 0.012204184913232281), (64, 0.0), (65, 0.048296229368100484), (66, 0.00399675145212619), (67, 0.06488598595254715), (68, 0.0340863992190299), (69, 0.01047335869599155), (70, 0.019465711442012597), (71, 0.00396825083434942), (72, 0.01650193506281602), (73, 0.0), (74, 0.004454132222434403), (75, 0.019811808107621703), (76, 0.005673588479156677), (77, 0.004790472318749019), (78, 0.013922965535846474), (79, 0.01369615247837123), (80, 0.006113437878051648), (81, 0.010639267101668735), (82, 0.016003033740757105), (83, 0.02948113768011107), (84, 0.053822643418971985), (85, 0.024033261713119675), (86, 0.016331156828924928), (87, 0.019591435982516274), (88, 0.031042086541845305), (89, 0.021760835687742), (90, 0.006764978717811428), (91, 0.0), (92, 0.0035036664446600856), (93, 0.007489134124787557), (94, 0.006913927077499674), (95, 0.007357708713279499), (96, 0.012895076537290218), (97, 0.0032799246552460627), (98, 0.0037074876631286776), (99, 0.015365918547745189), (100, 0.0), (101, 0.0), (102, 0.007986072078226932), (103, 0.0038681268160833723), (104, 0.013819640102003358), (105, 0.016321894677307134), (106, 0.02396040826761854), (107, 0.012250336808731907), (108, 0.05361420627151752), (109, 0.05734068052539986), (110, 0.0), (111, 0.012523568249551071), (112, 0.047337290332307276), (113, 0.010602469217562149), (114, 0.0037684470993980686), (115, 0.003989705994550205), (116, 0.03599520167505195), (117, 0.0), (118, 0.007916357185634047), (119, 0.012869489843458317), (120, 0.016546119928129654), (121, 0.003425531684026492), (122, 0.00948200256375506), (123, 0.02712536695884077), (124, 0.03672747122288518), (125, 0.020600914386046505), (126, 0.055259019709008275), (127, 0.003841811869962539), (128, 0.00769663068103583), (129, 0.0023819107044706265), (130, 0.018665178912648087), (131, 0.009976319854296277), (132, 0.0036031864167333236), (133, 0.0), (134, 0.0), (135, 0.007184346855050006), (136, 0.003470170569944275), (137, 0.07894392941188844), (138, 0.017903950952626792), (139, 0.014212323155122731), (140, 0.004675182838408613), (141, 0.0), (142, 0.026148112532964098), (143, 0.011860228950580004), (144, 0.025646271752431192), (145, 0.029341208384304228), (146, 0.0), (147, 0.02540329232296333), (148, 0.015547736864399149), (149, 0.022328580492321524), (150, 0.0), (151, 0.0), (152, 0.006644969173593715), (153, 0.0), (154, 0.003273497127882597), (155, 0.006811236747929301), (156, 0.011468505025477528), (157, 0.005205663723180739), (158, 0.0035937207412129637), (159, 0.011845012412020305), (160, 0.027258271938045142), (161, 0.019819981523930014), (162, 0.011835887258865719), (163, 0.0), (164, 0.013905108694824793), (165, 0.0038117903611527763), (166, 0.045059835085952904), (167, 0.003554553134681872), (168, 0.008298373589632708), (169, 0.003931950989535631), (170, 0.016494780341968777), (171, 0.0), (172, 0.07299228398729785), (173, 0.02620495694157564), (174, 0.015522523480519704), (175, 0.034412607104950026), (176, 0.004632792300899535), (177, 0.009154454564776166), (178, 0.004222901197284462), (179, 0.049290132764740084), (180, 0.011293197757334917), (181, 0.021151717798650403), (182, 0.0134799686555343), (183, 0.012949431345552492), (184, 0.0032152244824737073), (185, 0.008978811962061167), (186, 0.0), (187, 0.006189645281438057), (188, 0.0), (189, 0.007798055173163363), (190, 0.021931913093569504), (191, 0.006412916266562874), (192, 0.004366193703226117), (193, 0.04191510935446152), (194, 0.002842603639589213), (195, 0.0033532442558779872), (196, 0.003071367548453647), (197, 0.01622324974199211), (198, 0.003956948103254957), (199, 0.028478791515596708), (200, 0.009739045367905257), (201, 0.018865501853920028), (202, 0.002401006535817087), (203, 0.024545306276195233), (204, 0.02728842457906285), (205, 0.0), (206, 0.015263661759324011), (207, 0.020169382478363175), (208, 0.02368297641939983), (209, 0.02559145821369684), (210, 0.02989036946260474), (211, 0.004193728090532673), (212, 0.024532303253963664), (213, 0.07413388093963477), (214, 0.0), (215, 0.0034338874332900714), (216, 0.014869215746394533), (217, 0.01030340445130419), (218, 0.023095202277025495), (219, 0.0), (220, 0.008297988812593556), (221, 0.003895374208133374), (222, 0.02519904691490807), (223, 0.0), (224, 0.013555084326629403), (225, 0.0), (226, 0.004185537847954349), (227, 0.08510235455037435), (228, 0.002600887905650013), (229, 0.0036471355545809893), (230, 0.009523916017508875), (231, 0.021493488643359097), (232, 0.011545822843721505), (233, 0.007362817453525143), (234, 0.005999989976963229), (235, 0.004185149062762342), (236, 0.02088134404617603), (237, 0.0), (238, 0.01108313360404374), (239, 0.007570372405022465), (240, 0.006443884401873222), (241, 0.007144700829520219), (242, 0.013026183938859735), (243, 0.013981479420136392), (244, 0.01687424224480535), (245, 0.0), (246, 0.0040521568147247715), (247, 0.003907751298041242), (248, 0.009447050810362274), (249, 0.0031955160182256144), (250, 0.008102551689683084), (251, 0.020145086513127887), (252, 0.025476959908242714), (253, 0.0046267735034110375), (254, 0.018098420586041393), (255, 0.011436163195534213), (256, 0.011393624812070197), (257, 0.0), (258, 0.0), (259, 0.0), (260, 0.007076508128468329), (261, 0.03407689645116405), (262, 0.004607837906704065), (263, 0.009120117205661088), (264, 0.0), (265, 0.0), (266, 0.01508590523005477), (267, 0.003481315826702427), (268, 0.0036028051211458075), (269, 0.03545189394815357), (270, 0.015488187451556631), (271, 0.0149413912215728), (272, 0.0), (273, 0.01725436768873607), (274, 0.019043301513875684), (275, 0.0), (276, 0.019515636014499405), (277, 0.06329859178352207), (278, 0.0029686012996890518), (279, 0.024284578093656722), (280, 0.024224724295844487), (281, 0.018136095310151718), (282, 0.049210046497471654), (283, 0.008881303249617027), (284, 0.006749678344440767), (285, 0.012782728870497286), (286, 0.0030148520794489922), (287, 0.023647870697305014), (288, 0.01517279664707952), (289, 0.005688333016180519), (290, 0.006073078803517429), (291, 0.016290549532675808), (292, 0.07885345589862612), (293, 0.0029906700983077473), (294, 0.0057445784464647065), (295, 0.005846816204981689), (296, 0.02597769788824658), (297, 0.0), (298, 0.0), (299, 0.0), (300, 0.009101853759972389), (301, 0.01063298485938443), (302, 0.0), (303, 0.008006752285965636), (304, 0.015278264094081473), (305, 0.007001114311451225), (306, 0.006491649141757391), (307, 0.011940749097685818), (308, 0.004380858104651405), (309, 0.010920502726490134), (310, 0.00696790658742), (311, 0.010515113293539585), (312, 0.0), (313, 0.018410643127481686), (314, 0.005793660671545816), (315, 0.007392587244974229), (316, 0.006886607593192882), (317, 0.020227317471922336), (318, 0.004557433264388412), (319, 0.0), (320, 0.007162373691121329), (321, 0.018660499355272094), (322, 0.017764373903364095), (323, 0.005927103071465574), (324, 0.0034223709004732685), (325, 0.003514182887118939), (326, 0.005302043657913231), (327, 0.014654386322540194), (328, 0.06510049248993742), (329, 0.029831130813244074), (330, 0.02701889251797119), (331, 0.0), (332, 0.018191816286829282), (333, 0.014913377697700844), (334, 0.04822800431944482), (335, 0.0), (336, 0.007128866058637418), (337, 0.0), (338, 0.0), (339, 0.0), (340, 0.010948283867055104), (341, 0.019101439784279035), (342, 0.028195756623810363), (343, 0.024938181478242775), (344, 0.0), (345, 0.03623684357183881), (346, 0.013336411461747756), (347, 0.0070430750881415195), (348, 0.0038108190337602845), (349, 0.003437112352784993), (350, 0.011831736694369247), (351, 0.0026795085642093612), (352, 0.0), (353, 0.013604236600059919), (354, 0.015556366989340513), (355, 0.0034987943219422723), (356, 0.019837869335490373), (357, 0.0033600593517782236), (358, 0.02516215144821383), (359, 0.0035213877011688803), (360, 0.058592662655440664), (361, 0.0), (362, 0.0), (363, 0.010798798763255115), (364, 0.026147170828704856), (365, 0.0), (366, 0.0), (367, 0.009774905442330865), (368, 0.013494845472863571), (369, 0.0075118332129435715), (370, 0.02088691959153733), (371, 0.04309087316737616), (372, 0.003778511701531187), (373, 0.0034010932589288944), (374, 0.023894162154337976), (375, 0.007081227254877468), (376, 0.0), (377, 0.004005531419575727), (378, 0.0043733922433004), (379, 0.0), (380, 0.008990526488696143), (381, 0.036766568451683704), (382, 0.0), (383, 0.0), (384, 0.0), (385, 0.011978931926961934), (386, 0.010340210582815933), (387, 0.04751613694676915), (388, 0.003546462981449164), (389, 0.007197711337180349), (390, 0.0), (391, 0.0), (392, 0.0), (393, 0.0), (394, 0.0), (395, 0.004228255846094442), (396, 0.016745181563185486), (397, 0.006351483450352851), (398, 0.0), (399, 0.0037852347573569473), (400, 0.004051074413724518), (401, 0.0), (402, 0.018591639597368065), (403, 0.011956745348197056), (404, 0.0), (405, 0.0), (406, 0.027350228127619912), (407, 0.018020150715786713), (408, 0.013474880653403165), (409, 0.024930366225886482), (410, 0.0034763194364671483), (411, 0.0), (412, 0.0640901659312949), (413, 0.010629200899642146), (414, 0.007013461882320812), (415, 0.0), (416, 0.003555974379200581), (417, 0.015523125373390283), (418, 0.019272141402030568), (419, 0.00481325123895137), (420, 0.008172273176041583), (421, 0.0), (422, 0.010022572451802738), (423, 0.0), (424, 0.008630628046992694), (425, 0.008556017176690798), (426, 0.006414880967303332), (427, 0.0), (428, 0.01280381996854529), (429, 0.027122978371719626), (430, 0.004301635052113822), (431, 0.005135786695448747), (432, 0.0030222387670351737), (433, 0.023085964654189467), (434, 0.0137181448113697), (435, 0.01436359429233722), (436, 0.012287375052378431), (437, 0.027077045919272708), (438, 0.06355859813247598), (439, 0.0), (440, 0.0), (441, 0.01141350717744545), (442, 0.03247426729721131), (443, 0.012986722671602474), (444, 0.004504919423894656), (445, 0.012308626003837777), (446, 0.01451326973445247), (447, 0.02227269957799244), (448, 0.004350852938323699), (449, 0.013374134854639149), (450, 0.02808575016181549), (451, 0.006936666023315442), (452, 0.018137678308615124), (453, 0.003843526381809138), (454, 0.0), (455, 0.031170755230598778), (456, 0.003961865227593672), (457, 0.003397756251728065), (458, 0.02643252717572832), (459, 0.0), (460, 0.006651472387069863), (461, 0.013377512518851494), (462, 0.0), (463, 0.02743524823590803), (464, 0.016402780495397718), (465, 0.04393932578391897), (466, 0.0041406667974343385), (467, 0.0069994577616810955), (468, 0.015912642387355975), (469, 0.005895549092979891), (470, 0.02489686064376498), (471, 0.003906568079895949), (472, 0.014444197036799188), (473, 0.004227365032651901), (474, 0.011102616756895516), (475, 0.004025133669432482), (476, 0.004549951602564378), (477, 0.007518913719284778), (478, 0.005405477621496848), (479, 0.016086373551811844), (480, 0.0036590330026859117), (481, 0.02370047853731687), (482, 0.022967958361802827), (483, 0.017525258993078167), (484, 0.0), (485, 0.016435163890274315), (486, 0.0), (487, 0.005533430637231208), (488, 0.004150370953672299), (489, 0.005187217482047332), (490, 0.003776440155022303), (491, 0.0), (492, 0.0), (493, 0.011956900088986828), (494, 0.010874163018867882), (495, 0.0037707167428238605), (496, 0.019054171731450176), (497, 0.010262352349758062), (498, 0.0), (499, 0.004247019526186616), (500, 0.01687318230419181), (501, 0.015046785440873723), (502, 0.022184910814894973), (503, 0.010755119183400266), (504, 0.004187950311293411), (505, 0.0037221545065284187), (506, 0.0), (507, 0.003570338732526777), (508, 0.005019666626734166), (509, 0.01074979402546843), (510, 0.021544300863943516), (511, 0.02356801880183789), (512, 0.008404227704959874), (513, 0.00788137992715407), (514, 0.008939681989236583), (515, 0.03340830696225072), (516, 0.0), (517, 0.0), (518, 0.0052616537722233285), (519, 0.04436388710305431), (520, 0.0), (521, 0.008950809180077382), (522, 0.0036892414796822286), (523, 0.01857259027976297), (524, 0.0034639932748753446), (525, 0.0), (526, 0.0062293315378209695), (527, 0.019543511512520928), (528, 0.0), (529, 0.0), (530, 0.04375663943878257), (531, 0.0), (532, 0.016077400368009427), (533, 0.027560379708915398), (534, 0.02233984263799197), (535, 0.0), (536, 0.0), (537, 0.020688995295118917), (538, 0.014931661597248362), (539, 0.009843013223510614), (540, 0.05007728817181382), (541, 0.003593982443613264), (542, 0.013225647208395634), (543, 0.021848501616208334), (544, 0.014726387766062159), (545, 0.019935886900209955), (546, 0.0), (547, 0.021774505188080197), (548, 0.0), (549, 0.0), (550, 0.0074175117386201615), (551, 0.02497979474979343), (552, 0.0), (553, 0.025260864379658642), (554, 0.0), (555, 0.016125735228401158), (556, 0.0), (557, 0.0), (558, 0.014750923432476913), (559, 0.006708415821054137), (560, 0.017049731419862067), (561, 0.006937476656608666), (562, 0.007391040204400238), (563, 0.008944124995046881), (564, 0.004363211717611491), (565, 0.0), (566, 0.02796882125477232), (567, 0.0), (568, 0.009798043878712477), (569, 0.0), (570, 0.0), (571, 0.007392564688251242), (572, 0.0), (573, 0.0), (574, 0.0), (575, 0.0), (576, 0.004383358271179245), (577, 0.0), (578, 0.05040823076210392), (579, 0.004382718861505548), (580, 0.011710004707407302), (581, 0.009122060145334811), (582, 0.01138903509629121), (583, 0.008798564449270505), (584, 0.023868965509590653), (585, 0.0), (586, 0.02233104675877378), (587, 0.004815647401000992), (588, 0.004113904286524368), (589, 0.003379828965815522), (590, 0.09093113708539446), (591, 0.0), (592, 0.0), (593, 0.004078273718361797), (594, 0.0033703887298844578), (595, 0.008369056143845439), (596, 0.004732682475552944), (597, 0.0126765706771877), (598, 0.0034453036193621634), (599, 0.0), (600, 0.010668196550775805), (601, 0.0), (602, 0.0), (603, 0.0), (604, 0.02056406142425736), (605, 0.003258231404273585), (606, 0.01126380761762465), (607, 0.002958849869882881), (608, 0.010427298421259931), (609, 0.017907722018761226), (610, 0.0), (611, 0.006822245557042501), (612, 0.00416931705365983), (613, 0.03554299635765702), (614, 0.004476922074076386), (615, 0.010370102370440502), (616, 0.011187753291605214), (617, 0.008580524817438413), (618, 0.009387300524314142), (619, 0.006859509350930111), (620, 0.022229764166750057), (621, 0.014817141812290317), (622, 0.022497571344562227), (623, 0.004257563834547895), (624, 0.004143942423672678), (625, 0.005784458852509142), (626, 0.0029736081360205277), (627, 0.004647509092228728), (628, 0.12351152114121296), (629, 0.04530047487030503), (630, 0.0), (631, 0.014649124167241734), (632, 0.009899303789399886), (633, 0.0069937007897379454), (634, 0.007589656774118175), (635, 0.019851482915294198), (636, 0.01071084458738461), (637, 0.012526296612165134), (638, 0.02361218788608621), (639, 0.005341171076749099), (640, 0.005360336801050144), (641, 0.010495280641453832), (642, 0.008731114214251413), (643, 0.02936581239981855), (644, 0.013085861051150869), (645, 0.003597515514320847), (646, 0.0043719734406653474), (647, 0.0035747901955095703), (648, 0.01799280103456111), (649, 0.0), (650, 0.0), (651, 0.014122623468407643), (652, 0.0210524665118125), (653, 0.017182905641076406), (654, 0.019789301032018314), (655, 0.0038679576245449847), (656, 0.0), (657, 0.03592741707801276), (658, 0.0), (659, 0.0034833358595639363), (660, 0.011665540014538262), (661, 0.006377935785922761), (662, 0.0), (663, 0.0), (664, 0.017198390160762293), (665, 0.0), (666, 0.00822081533857706), (667, 0.019807173072002943), (668, 0.012661376697121755), (669, 0.028944897327064754), (670, 0.04508222289359311), (671, 0.010721112419340253), (672, 0.003652280745532524), (673, 0.02469750992403747), (674, 0.0), (675, 0.10126400763298855), (676, 0.019724060573271286), (677, 0.025402798386425816), (678, 0.01973261714183082), (679, 0.0), (680, 0.0039479863991865195), (681, 0.0), (682, 0.024000655156877507), (683, 0.017130240393568467), (684, 0.016150750416409128), (685, 0.0073743666735274094), (686, 0.0), (687, 0.00878566580947767), (688, 0.012675019403406165), (689, 0.028668755952969874), (690, 0.006141171082639222), (691, 0.032769060935602196), (692, 0.022623463565841787), (693, 0.004326162884358098), (694, 0.0563193598134647), (695, 0.018987065868925904), (696, 0.011485002117045923), (697, 0.014108687183871777), (698, 0.003612169346532072), (699, 0.0), (700, 0.0), (701, 0.026271048568475043), (702, 0.0), (703, 0.003133473290559972), (704, 0.0), (705, 0.011443171052017882), (706, 0.03168116406855569), (707, 0.003467710798990551), (708, 0.0), (709, 0.0), (710, 0.05041716299374749), (711, 0.0), (712, 0.003261508746860433), (713, 0.0), (714, 0.0), (715, 0.016916516224541954), (716, 0.011241028897574655), (717, 0.0043562616141890175), (718, 0.0), (719, 0.01620084970710142), (720, 0.0), (721, 0.005760792198925527), (722, 0.003705231676022916), (723, 0.0054108929352449505), (724, 0.0), (725, 0.0), (726, 0.0), (727, 0.010280538893139513), (728, 0.0122635884927823), (729, 0.012392607032098456), (730, 0.0), (731, 0.0034610187488767212), (732, 0.017805704306766732), (733, 0.019235789922099483), (734, 0.01340935972789773), (735, 0.00703272585816763), (736, 0.0), (737, 0.01631337422975527), (738, 0.005198707517734273), (739, 0.004690596958155592), (740, 0.0022500765427099943), (741, 0.0), (742, 0.019518812181278627), (743, 0.011534098666406794), (744, 0.009704561639301265), (745, 0.00982939449824754), (746, 0.0), (747, 0.0), (748, 0.010444889766829132), (749, 0.0037265529406721393), (750, 0.011445437636715971), (751, 0.0), (752, 0.01027444475849596), (753, 0.023874445758029522), (754, 0.0), (755, 0.0037045113794376048), (756, 0.005895585213388812), (757, 0.023391890636783423), (758, 0.010277553321448595), (759, 0.003452547778400721), (760, 0.02655054082951175), (761, 0.014051573008685711), (762, 0.022968160800090738), (763, 0.03276719970233867), (764, 0.0), (765, 0.007424076163102344), (766, 0.014755049869473007), (767, 0.004059424277873357), (768, 0.029302033901724617), (769, 0.010593194626671534), (770, 0.0), (771, 0.0), (772, 0.0), (773, 0.0), (774, 0.0038998354176350875), (775, 0.02036911753899748), (776, 0.026396196241898068), (777, 0.00552028292679072), (778, 0.01121241269052233), (779, 0.03450345116095374), (780, 0.0), (781, 0.0), (782, 0.013829852850737175), (783, 0.006039131304865654), (784, 0.0), (785, 0.0), (786, 0.0), (787, 0.02093457454994868), (788, 0.023984994645040128), (789, 0.0), (790, 0.017350743314759366), (791, 0.004650371018305704), (792, 0.01570585677323551), (793, 0.007092275163124102), (794, 0.02875203152035964), (795, 0.03323515813624854), (796, 0.026859086217391526), (797, 0.0), (798, 0.003610495742798145), (799, 0.02341365769835698), (800, 0.018972778524104544), (801, 0.01619924969207131), (802, 0.008145851357635866), (803, 0.005954882612292336), (804, 0.009388844537592618), (805, 0.0034459717626726676), (806, 0.015140167325300258), (807, 0.0), (808, 0.025308006299631567), (809, 0.017866665177528603), (810, 0.006493663154599172), (811, 0.007889462633386508), (812, 0.010134263253160861), (813, 0.004668902418036995), (814, 0.02154732668002846), (815, 0.003311153080436461), (816, 0.01359766597075862), (817, 0.014121982648048051), (818, 0.050464882444470074), (819, 0.0), (820, 0.0), (821, 0.010773830397073445), (822, 0.0), (823, 0.0805212897738514), (824, 0.033077751606590954), (825, 0.017376686365155762), (826, 0.005269818934746809), (827, 0.018824131828584275), (828, 0.014192490698696806), (829, 0.01844004322171814), (830, 0.05172387072943688), (831, 0.008168107142369636), (832, 0.043140041605698315), (833, 0.018585304026487927), (834, 0.009794938280843055), (835, 0.00901335944383574), (836, 0.040681178460186394), (837, 0.0), (838, 0.01567190575514652), (839, 0.0), (840, 0.0), (841, 0.0), (842, 0.024007434455178566), (843, 0.010687136807706173), (844, 0.01986497378274022), (845, 0.011194422574844005), (846, 0.0), (847, 0.017444812129924943), (848, 0.00413276713357862), (849, 0.007400296515942899), (850, 0.013470633288234786), (851, 0.012367755624953803), (852, 0.003461811792245007), (853, 0.02230450084141363), (854, 0.003479802141648567), (855, 0.008648971392166792), (856, 0.0033840287407933814), (857, 0.0044969760863053645), (858, 0.0022440281511861837), (859, 0.0), (860, 0.028712144038663685), (861, 0.012049096139743757), (862, 0.008937240776360312), (863, 0.010221044235017313), (864, 0.04794927269571169), (865, 0.0036926579516123816), (866, 0.020653062177799223), (867, 0.022769103997092824), (868, 0.009246029722629091), (869, 0.011488311620099822), (870, 0.031435045241785115), (871, 0.004123362570423249), (872, 0.004264546549952396), (873, 0.07824868462977985), (874, 0.021100383479751603), (875, 0.019831014639172452), (876, 0.02496245400387258), (877, 0.06911066383676324), (878, 0.01918005740374326), (879, 0.022202741866405924), (880, 0.010854144130454185), (881, 0.0), (882, 0.0), (883, 0.003870827796220446), (884, 0.003985625548584615), (885, 0.0034976234463457746), (886, 0.0036441648444576163), (887, 0.004193315748436304), (888, 0.03321326698800646), (889, 0.005778309090478669), (890, 0.0039535952316190025), (891, 0.008527105034294085), (892, 0.0), (893, 0.0061621471343107125), (894, 0.014921803733075235), (895, 0.02027220139274784), (896, 0.024012898628238785), (897, 0.015021070938432328), (898, 0.006206859552917769), (899, 0.020625009853115876), (900, 0.021407110007479982), (901, 0.0029641186952893517), (902, 0.007428187526361363), (903, 0.005418533934537844), (904, 0.02722465980538788), (905, 0.025288665217973738), (906, 0.01914854804482614), (907, 0.00372172658337163), (908, 0.011716511348799877), (909, 0.0), (910, 0.00964027804633983), (911, 0.05138723760383277), (912, 0.0), (913, 0.0), (914, 0.0), (915, 0.01641520786102741), (916, 0.024703809009407763), (917, 0.004061695980633253), (918, 0.018873535884838203), (919, 0.007870668437868619), (920, 0.0), (921, 0.014223231478390122), (922, 0.004864970337451955), (923, 0.010947601392706032), (924, 0.013177191947088843), (925, 0.006357491427761883), (926, 0.0), (927, 0.00840926525541165), (928, 0.018133151914549752), (929, 0.029242923395798263), (930, 0.012005528254637946), (931, 0.017670917948047447), (932, 0.006149790151246148), (933, 0.0062560870748006965), (934, 0.020326135565621257), (935, 0.04773409538599048), (936, 0.017443577001658297), (937, 0.02580563753337161), (938, 0.0), (939, 0.013466378000221093), (940, 0.008658497608746787), (941, 0.006121825987043197), (942, 0.03922751747089345), (943, 0.0), (944, 0.0036037051223319267), (945, 0.0), (946, 0.0), (947, 0.03664954953635833), (948, 0.014471467429060332), (949, 0.01724799492671031), (950, 0.0), (951, 0.0034869010335913), (952, 0.0431928697910334), (953, 0.008332219299989278), (954, 0.0), (955, 0.0), (956, 0.0), (957, 0.020989605405952676), (958, 0.009074252340112696), (959, 0.003668713638161582), (960, 0.0), (961, 0.0), (962, 0.012886212071282701), (963, 0.020467195779853405), (964, 0.0), (965, 0.0), (966, 0.011930943639720932), (967, 0.03735175571755147), (968, 0.03470835301496068), (969, 0.0039050868067594825), (970, 0.013293247893685392), (971, 0.0), (972, 0.0), (973, 0.00376415496992882), (974, 0.007200295098091044), (975, 0.004132617590662073), (976, 0.04477214807991634), (977, 0.0), (978, 0.0), (979, 0.015773709568153254), (980, 0.011819994856900683), (981, 0.009234270538664997), (982, 0.0), (983, 0.0), (984, 0.0038010965217165097), (985, 0.004664937316081048), (986, 0.0306302463302688), (987, 0.004069234808436794), (988, 0.020672173824852792), (989, 0.020752160695874253), (990, 0.0), (991, 0.01459025129674707), (992, 0.008053319214588487), (993, 0.003931062135150082), (994, 0.014449695395754265), (995, 0.0), (996, 0.01612835571753304), (997, 0.005967387672272137), (998, 0.0047480679924895245), (999, 0.004627705930983801), (1000, 0.018725675750439166), (1001, 0.010012429577767695), (1002, 0.003509813234156517), (1003, 0.030413247322402158), (1004, 0.003367899479523152), (1005, 0.01927990843822812), (1006, 0.015279950653987358), (1007, 0.003946537283987137), (1008, 0.0), (1009, 0.017441941265593966), (1010, 0.0), (1011, 0.0), (1012, 0.018148128622867972), (1013, 0.0), (1014, 0.012673894584654722), (1015, 0.03334467354964457), (1016, 0.0), (1017, 0.02979098735383822), (1018, 0.022486127625061143), (1019, 0.02150628424224235), (1020, 0.014320819713695188), (1021, 0.013693163334400581), (1022, 0.0), (1023, 0.07330748519037289), (1024, 0.019160910631523836), (1025, 0.0), (1026, 0.0034897210710696015), (1027, 0.0034575868381786345), (1028, 0.0), (1029, 0.0), (1030, 0.03968174042286406), (1031, 0.0), (1032, 0.004192722297267833), (1033, 0.0340217725613988), (1034, 0.0035774727613831214), (1035, 0.024365841953337464), (1036, 0.0036585606983308774), (1037, 0.01230326764701253), (1038, 0.0), (1039, 0.0), (1040, 0.004308753388267151), (1041, 0.010537811927220083), (1042, 0.003519066400389176), (1043, 0.04783312369951356), (1044, 0.010222281079201147), (1045, 0.025887474473646904), (1046, 0.04317401862654943), (1047, 0.018461799346737976), (1048, 0.015392918192309318), (1049, 0.00578095672175867), (1050, 0.012950651199075363), (1051, 0.0), (1052, 0.030099798892132525), (1053, 0.018659121636634877), (1054, 0.01720651646952657), (1055, 0.0), (1056, 0.0), (1057, 0.0), (1058, 0.027234834217350866), (1059, 0.00376014846112874), (1060, 0.0034914434631932566), (1061, 0.014837173740157802), (1062, 0.0), (1063, 0.01726710440528667), (1064, 0.029642046059465046), (1065, 0.01379811715577128), (1066, 0.0), (1067, 0.0), (1068, 0.04486574567807121), (1069, 0.011601892080994717), (1070, 0.17262358715046028), (1071, 0.012682721546153438), (1072, 0.004374950001376762), (1073, 0.0), (1074, 0.027997983691509715), (1075, 0.017745911770558585), (1076, 0.010319750955483278), (1077, 0.015065440335697039), (1078, 0.012546046620638861), (1079, 0.0033740057861692367), (1080, 0.0034865568634305445), (1081, 0.0), (1082, 0.00682375843628225), (1083, 0.012203386011715894), (1084, 0.0038570359334016537), (1085, 0.0), (1086, 0.0), (1087, 0.01403425124124602), (1088, 0.0030054543267150832), (1089, 0.0), (1090, 0.01604840196435276), (1091, 0.0), (1092, 0.014542775439931134), (1093, 0.0), (1094, 0.009404255321507802), (1095, 0.009351302893347945), (1096, 0.014699192176234353), (1097, 0.0), (1098, 0.0033727026216009127), (1099, 0.01801736060934069), (1100, 0.004165345556700152), (1101, 0.0), (1102, 0.003930367579992301), (1103, 0.0), (1104, 0.02011925488965262), (1105, 0.0), (1106, 0.0), (1107, 0.018467626700209322), (1108, 0.0), (1109, 0.0044707925699818685), (1110, 0.0036887637976258706), (1111, 0.010150766877538294), (1112, 0.02690890595413942), (1113, 0.0), (1114, 0.021173756241499635), (1115, 0.02267887607433016), (1116, 0.0232454270387056), (1117, 0.0037522782715013604), (1118, 0.05243787989903103), (1119, 0.023064792285820847), (1120, 0.005515830534212133), (1121, 0.005434256272564983), (1122, 0.0038460289747857795), (1123, 0.010002456699213114), (1124, 0.015214476575707854), (1125, 0.012514382547864768), (1126, 0.0), (1127, 0.0070566091790544554), (1128, 0.02000008452842251), (1129, 0.027325439273371128), (1130, 0.0), (1131, 0.003677266265367638), (1132, 0.02967420339688929), (1133, 0.0), (1134, 0.05483691302712369), (1135, 0.0), (1136, 0.01143760012660014), (1137, 0.01421020502896862), (1138, 0.01115710293775949), (1139, 0.0), (1140, 0.011530634859498408), (1141, 0.036048320139554724), (1142, 0.0), (1143, 0.0), (1144, 0.011785006627642567), (1145, 0.007411633277131373), (1146, 0.016781979785673504), (1147, 0.0), (1148, 0.08648434772381793), (1149, 0.0), (1150, 0.007747907348762659), (1151, 0.0), (1152, 0.021945050543148516), (1153, 0.004460104756494185), (1154, 0.005837361173194196), (1155, 0.0), (1156, 0.0), (1157, 0.017452422009714506), (1158, 0.009134973985659106), (1159, 0.0), (1160, 0.016397966150901545), (1161, 0.00435918993983549), (1162, 0.043083413923790406), (1163, 0.004083910769385658), (1164, 0.005156934348702101), (1165, 0.0), (1166, 0.0), (1167, 0.008662059964120228), (1168, 0.004448402994618068), (1169, 0.004664084273152567), (1170, 0.0037818529356217303), (1171, 0.0), (1172, 0.009760297532290104), (1173, 0.044225142422347846), (1174, 0.01104270000740198), (1175, 0.026295951840162545), (1176, 0.0039167298968392425), (1177, 0.011426312402768746), (1178, 0.0), (1179, 0.01096696086408578), (1180, 0.0), (1181, 0.006556018252842689), (1182, 0.01428084339967197), (1183, 0.022461771560012958), (1184, 0.025149165798203317), (1185, 0.018234397266485104), (1186, 0.0033286707981617656), (1187, 0.005120373550692563), (1188, 0.012164184678514081), (1189, 0.0), (1190, 0.0), (1191, 0.010565094279071485), (1192, 0.02144214092401995), (1193, 0.0), (1194, 0.017088724453634137), (1195, 0.010533851953416487), (1196, 0.0), (1197, 0.0067200793542876785), (1198, 0.0), (1199, 0.003116598927595115), (1200, 0.0), (1201, 0.0), (1202, 0.027870761508209906), (1203, 0.06531695698881014), (1204, 0.003994726308152718), (1205, 0.0), (1206, 0.012518422541463332), (1207, 0.0067814032805344465), (1208, 0.006107203631374754), (1209, 0.0035258906126468775), (1210, 0.004714754680760225), (1211, 0.007108385162322003), (1212, 0.0), (1213, 0.010077220654535247), (1214, 0.008669974848313814), (1215, 0.0192658130514861), (1216, 0.023183368070076427), (1217, 0.0030796750570816), (1218, 0.0), (1219, 0.0032734406203447875), (1220, 0.016463850958400736), (1221, 0.0), (1222, 0.0), (1223, 0.01128185884022783), (1224, 0.02262013890453532), (1225, 0.012072753090465942), (1226, 0.025494381035996286), (1227, 0.0), (1228, 0.0), (1229, 0.01121716603230202), (1230, 0.0160867949678119), (1231, 0.010696167215041845), (1232, 0.021914626343913026), (1233, 0.0), (1234, 0.015261527557925751), (1235, 0.0), (1236, 0.01602859219732558), (1237, 0.020185244631159373), (1238, 0.01074642717032457), (1239, 0.021490302019746065), (1240, 0.0), (1241, 0.024975294845742974), (1242, 0.0), (1243, 0.0838381651392841), (1244, 0.0), (1245, 0.02589314885161671), (1246, 0.0), (1247, 0.00363629532267618), (1248, 0.06311561318326336), (1249, 0.016655772054011777), (1250, 0.0108073056525727), (1251, 0.003116806962867645), (1252, 0.020176697763564774), (1253, 0.0), (1254, 0.024049401997572648), (1255, 0.01925959010695496), (1256, 0.0), (1257, 0.0319983111036059), (1258, 0.0), (1259, 0.017567548988313572), (1260, 0.012059039130911477), (1261, 0.029950473138272912), (1262, 0.018831963714704917), (1263, 0.0), (1264, 0.025459665372809626), (1265, 0.0), (1266, 0.018344244308282163), (1267, 0.01004761077148197), (1268, 0.0), (1269, 0.0), (1270, 0.03282113490435415), (1271, 0.0), (1272, 0.049709071657847145), (1273, 0.0037833962766256816), (1274, 0.026706041053751465), (1275, 0.026428112668380032), (1276, 0.012632843538028161), (1277, 0.0028252865180031666), (1278, 0.02043403806093583), (1279, 0.013149504963697333), (1280, 0.008110378860760064), (1281, 0.006216057484708315), (1282, 0.012003281641472274), (1283, 0.0), (1284, 0.003483101572276707), (1285, 0.0), (1286, 0.003806404365145004), (1287, 0.0), (1288, 0.0), (1289, 0.0), (1290, 0.021967824020010112), (1291, 0.0), (1292, 0.064478173315939), (1293, 0.018617619282381592), (1294, 0.003968088905330658), (1295, 0.0), (1296, 0.0), (1297, 0.0), (1298, 0.0037124552753450227), (1299, 0.0), (1300, 0.01399987322268665), (1301, 0.003113853241611358), (1302, 0.06813869866688102), (1303, 0.015780871114617602), (1304, 0.0037209235579288413), (1305, 0.0028706286120838303), (1306, 0.009025588686001517), (1307, 0.008946371427856897), (1308, 0.012342316651532842), (1309, 0.005684237747887022), (1310, 0.017029734773007305), (1311, 0.052864904379067316), (1312, 0.012306852529634246), (1313, 0.003785407157052442), (1314, 0.04164596044890159), (1315, 0.0), (1316, 0.009948100011597582), (1317, 0.019299582522769306), (1318, 0.0032152825352965244), (1319, 0.0036719142264329853), (1320, 0.07469473391326133), (1321, 0.0), (1322, 0.0), (1323, 0.0), (1324, 0.0044203446143489256), (1325, 0.02450733791337839), (1326, 0.0), (1327, 0.00994673540039392), (1328, 0.0), (1329, 0.009729160818644406), (1330, 0.011135294722141748), (1331, 0.020189850290254018), (1332, 0.008846960235185936), (1333, 0.0), (1334, 0.014603956925160729), (1335, 0.02104409142435966), (1336, 0.0), (1337, 0.021270500958574988), (1338, 0.014839138587206455), (1339, 0.01593631423047289), (1340, 0.003156013310438718), (1341, 0.11077552629849736), (1342, 0.018080594647405985), (1343, 0.02287744963989589), (1344, 0.007924836685034405), (1345, 0.009903609172133537), (1346, 0.0), (1347, 0.007166935970560631), (1348, 0.01522535888583205), (1349, 0.004259519682444752), (1350, 0.0047160588039296585), (1351, 0.00710791487858921), (1352, 0.0033236197919604797), (1353, 0.0), (1354, 0.0), (1355, 0.003785663991027678), (1356, 0.00859840736975325), (1357, 0.003530686066092608), (1358, 0.028455682900995406), (1359, 0.017381057699610777), (1360, 0.022181371641290658), (1361, 0.02401225341185694), (1362, 0.03032114340404496), (1363, 0.0407401554145507), (1364, 0.004181999518315381), (1365, 0.025674503601297853), (1366, 0.0034827440403821944), (1367, 0.049804406966924994), (1368, 0.0), (1369, 0.03550715685078578), (1370, 0.0035563681414025167), (1371, 0.012460011357495448), (1372, 0.003488692299918509), (1373, 0.0), (1374, 0.0103630144605988), (1375, 0.009904948316146658), (1376, 0.01788848934884303), (1377, 0.0237228320608044), (1378, 0.004184059633578925), (1379, 0.04955737714944699), (1380, 0.00779736338597954), (1381, 0.00876640266544399), (1382, 0.01416516830943045), (1383, 0.09083456688402344), (1384, 0.026730808210690935), (1385, 0.03215167253387588), (1386, 0.030779807821917887), (1387, 0.011938607986302393), (1388, 0.011910399091794968), (1389, 0.05109167158671015), (1390, 0.0), (1391, 0.009086945330120498), (1392, 0.0034251399244442948), (1393, 0.061365242535609356), (1394, 0.0031857989199178473), (1395, 0.005356345596169552), (1396, 0.018986488154378783), (1397, 0.004170383937692764), (1398, 0.005198222416136295), (1399, 0.0), (1400, 0.011932434474530745), (1401, 0.022402987797355313), (1402, 0.004161261454496709), (1403, 0.023621159233536596), (1404, 0.0035391863278955516), (1405, 0.04168055684519797), (1406, 0.01676730862330174), (1407, 0.019062046344680145), (1408, 0.003772599798132092), (1409, 0.004396136526811645), (1410, 0.004399708658789468), (1411, 0.004110229644163841), (1412, 0.03674832112268891), (1413, 0.02097032294662305), (1414, 0.009495444697123486), (1415, 0.004202592225273414), (1416, 0.0036251991121420656), (1417, 0.023613754169925935), (1418, 0.014307196643365352), (1419, 0.016863301888846285), (1420, 0.017157259735184952), (1421, 0.009944481278306497), (1422, 0.0036593544669306748), (1423, 0.0034030001744453477), (1424, 0.0), (1425, 0.010168816795048989), (1426, 0.007922863765744649), (1427, 0.002970700479896415), (1428, 0.006911157593552237), (1429, 0.015127804197945963), (1430, 0.006153992153365777), (1431, 0.007668450226249073), (1432, 0.019594552511359276), (1433, 0.009852902589372787), (1434, 0.004841351340816073), (1435, 0.0073567222603590325), (1436, 0.018073887324040593), (1437, 0.0), (1438, 0.015215913912049253), (1439, 0.0042515354689861146), (1440, 0.015397593966988976), (1441, 0.0), (1442, 0.014162750654050218), (1443, 0.028106077665529222), (1444, 0.0), (1445, 0.024781908697344656), (1446, 0.013675051606546388), (1447, 0.0), (1448, 0.009566708945420596), (1449, 0.009750944033326055), (1450, 0.0031177798985950584), (1451, 0.006988343916239022), (1452, 0.008567371886635164), (1453, 0.007274148754973479), (1454, 0.011526671315678454), (1455, 0.01786725687739564), (1456, 0.003315860736098032), (1457, 0.0), (1458, 0.005231774105003269), (1459, 0.0), (1460, 0.0), (1461, 0.020825562282782224), (1462, 0.010334528294374451), (1463, 0.0038079949644463005), (1464, 0.0461081946243932), (1465, 0.020743984538643425), (1466, 0.0), (1467, 0.0), (1468, 0.0), (1469, 0.007256185536004369), (1470, 0.0), (1471, 0.028733010088806604), (1472, 0.010917539730836263), (1473, 0.0), (1474, 0.004304103279476872), (1475, 0.015324567983222626), (1476, 0.004110087296230201), (1477, 0.01194689199249899), (1478, 0.019588771723124856), (1479, 0.0043616769523820735), (1480, 0.00640554580058374), (1481, 0.020212367406106595), (1482, 0.0), (1483, 0.021967950159600902), (1484, 0.012143767477795015), (1485, 0.0), (1486, 0.011477856960598809), (1487, 0.0), (1488, 0.009579746657841871), (1489, 0.012233699722475101), (1490, 0.0), (1491, 0.0), (1492, 0.031167840792625044), (1493, 0.027940615151922168), (1494, 0.014914964127960974), (1495, 0.0), (1496, 0.0), (1497, 0.005029729089314701), (1498, 0.012897897504298941), (1499, 0.00509077780506682), (1500, 0.039676455981924576), (1501, 0.010040426715721064), (1502, 0.008512283546920832), (1503, 0.00339905597638193), (1504, 0.011817785855850148), (1505, 0.033174131841445346), (1506, 0.05602742709528164), (1507, 0.01414431835182715), (1508, 0.0), (1509, 0.018427896702270696), (1510, 0.0313799464258437), (1511, 0.0), (1512, 0.025679632134838384), (1513, 0.016891125545233865), (1514, 0.01219670265149771), (1515, 0.03518026208579225), (1516, 0.003927379671908815), (1517, 0.0), (1518, 0.004151129851851398), (1519, 0.02029863308108341), (1520, 0.0), (1521, 0.0), (1522, 0.0), (1523, 0.021888095826229612), (1524, 0.0), (1525, 0.0), (1526, 0.01129252465913945), (1527, 0.0602036619610324), (1528, 0.003425212142997147), (1529, 0.0), (1530, 0.00542031161384334), (1531, 0.007806945838666235), (1532, 0.0), (1533, 0.003769713634590251), (1534, 0.0), (1535, 0.0), (1536, 0.011559480883938551), (1537, 0.01194246843470104), (1538, 0.011937960503738295), (1539, 0.013239807900819404), (1540, 0.013588938037414731), (1541, 0.0), (1542, 0.01905388855677548), (1543, 0.0036451326366927174), (1544, 0.03570041448889025), (1545, 0.0), (1546, 0.006644624203159879), (1547, 0.005099791631401052), (1548, 0.0), (1549, 0.0), (1550, 0.0037652815082941057), (1551, 0.0171600744790254), (1552, 0.009702157914652374), (1553, 0.012878523549696652), (1554, 0.008447737416001449), (1555, 0.00959124260589007), (1556, 0.0), (1557, 0.0), (1558, 0.0035651246186397265), (1559, 0.005789119734099392), (1560, 0.0), (1561, 0.0), (1562, 0.006252792906555177), (1563, 0.0), (1564, 0.0), (1565, 0.003562675279450165), (1566, 0.00804736611920406), (1567, 0.021379339432550264), (1568, 0.055293692316952574), (1569, 0.0), (1570, 0.004712906208220388), (1571, 0.011409861530625535), (1572, 0.03968381694335131), (1573, 0.0076680602336674794), (1574, 0.00380460736719633), (1575, 0.008085922509423924), (1576, 0.005074705808380611), (1577, 0.0), (1578, 0.0), (1579, 0.025353273738909433), (1580, 0.004321244400147005), (1581, 0.0), (1582, 0.013611881969656996), (1583, 0.012534332564804301), (1584, 0.0), (1585, 0.03441763190962466), (1586, 0.0), (1587, 0.007222302854166891), (1588, 0.007582153991013657), (1589, 0.0), (1590, 0.005756281712237315), (1591, 0.02530829033123049), (1592, 0.0), (1593, 0.00642482061415019), (1594, 0.004444394530401973), (1595, 0.019045896576273445), (1596, 0.0), (1597, 0.0035186085105419294), (1598, 0.003914015359544833), (1599, 0.0), (1600, 0.0), (1601, 0.0), (1602, 0.0), (1603, 0.0), (1604, 0.0), (1605, 0.003575041942210657), (1606, 0.0), (1607, 0.0), (1608, 0.008906216677756925), (1609, 0.027712393018366904), (1610, 0.0), (1611, 0.0), (1612, 0.013009354894010798), (1613, 0.0), (1614, 0.007434178844376574), (1615, 0.0), (1616, 0.003267579264357984), (1617, 0.003888916199723994), (1618, 0.0), (1619, 0.01747701327869024), (1620, 0.01341960798584018), (1621, 0.022549149371750912), (1622, 0.007412875003901473), (1623, 0.00739956880184293), (1624, 0.0028539200705980905), (1625, 0.003974939184185504), (1626, 0.0), (1627, 0.008751788330228456), (1628, 0.004399801542517108), (1629, 0.03236695612045439), (1630, 0.017125900351452002), (1631, 0.007196021266271183), (1632, 0.007287914629082187), (1633, 0.006955852478383817), (1634, 0.004070180892539918), (1635, 0.007463327060943509), (1636, 0.0), (1637, 0.004230258489554162), (1638, 0.0), (1639, 0.0), (1640, 0.0), (1641, 0.0036068031949160564), (1642, 0.003497633087370338), (1643, 0.011440078942402778), (1644, 0.009463605921200203), (1645, 0.0035784482589309194), (1646, 0.0), (1647, 0.009860102156807514), (1648, 0.04664360531655801), (1649, 0.0), (1650, 0.012631921898213251), (1651, 0.0), (1652, 0.0), (1653, 0.01088378193946729), (1654, 0.01993928615850348), (1655, 0.02697147030363476), (1656, 0.0049616094033985494), (1657, 0.0), (1658, 0.016348694077179662), (1659, 0.007653167745057155), (1660, 0.00424754560637771), (1661, 0.008045935990587966), (1662, 0.015227101912101325), (1663, 0.003653243716367653), (1664, 0.009490720016988885), (1665, 0.02147706284604506), (1666, 0.003494891317532167), (1667, 0.02019424208832713), (1668, 0.0), (1669, 0.0), (1670, 0.004334817619523299), (1671, 0.032627561115078155), (1672, 0.0037541452955801454), (1673, 0.0), (1674, 0.01269423708773943), (1675, 0.03287805444193326), (1676, 0.05407375400109071), (1677, 0.00277961661384426), (1678, 0.029827358417182617), (1679, 0.0), (1680, 0.019646567536380808), (1681, 0.02093561936531694), (1682, 0.021936388679419484), (1683, 0.0055093192443126165), (1684, 0.009023968428385766), (1685, 0.017381618159171622), (1686, 0.0), (1687, 0.02395713301725911), (1688, 0.014033270438469712), (1689, 0.0), (1690, 0.012500193808248078), (1691, 0.0030638359383358244), (1692, 0.011034040855359547), (1693, 0.003455425725500271), (1694, 0.014772646646479936), (1695, 0.007522624927725155), (1696, 0.01593419858280848), (1697, 0.0), (1698, 0.0), (1699, 0.006021161618772621), (1700, 0.0), (1701, 0.011877102362999215), (1702, 0.0), (1703, 0.004025771668380309), (1704, 0.0), (1705, 0.011561088666482715), (1706, 0.004096661156082935), (1707, 0.029990563220091956), (1708, 0.015804290551662686), (1709, 0.0), (1710, 0.012756739285870468), (1711, 0.0055127276252042), (1712, 0.019303605018998225), (1713, 0.02280335250845718), (1714, 0.016814494360891993), (1715, 0.009033236310553644), (1716, 0.02632097072922889), (1717, 0.004326207122760056), (1718, 0.010932069948516171), (1719, 0.003219012023372819), (1720, 0.0), (1721, 0.041988946837577194), (1722, 0.004193775921580143), (1723, 0.015526816658870818), (1724, 0.008058285900992728), (1725, 0.0), (1726, 0.0), (1727, 0.01646283785754299), (1728, 0.0), (1729, 0.0), (1730, 0.012522100915861731), (1731, 0.0), (1732, 0.008341958020507335), (1733, 0.004215835392928934), (1734, 0.0), (1735, 0.011678969894372376), (1736, 0.015110904037970448), (1737, 0.011619798713685285), (1738, 0.009612806073409742), (1739, 0.019889373763854922), (1740, 0.02307400014969315), (1741, 0.022903924898904564), (1742, 0.0034815871358592604), (1743, 0.01087280385986731), (1744, 0.0038106830411716946), (1745, 0.0), (1746, 0.009330574539087257), (1747, 0.009714849531885122), (1748, 0.004587299470277532), (1749, 0.007067642228130132), (1750, 0.04439310435933886), (1751, 0.0), (1752, 0.01792942445351158), (1753, 0.0064484626855011214), (1754, 0.01664091635687693), (1755, 0.0), (1756, 0.0), (1757, 0.0), (1758, 0.0), (1759, 0.025530885680092923), (1760, 0.009524044943090768), (1761, 0.017249124394332932), (1762, 0.012353431174021948), (1763, 0.0033663409969135758), (1764, 0.012539175844397314), (1765, 0.003866796716061737), (1766, 0.0), (1767, 0.0), (1768, 0.004133537671369173), (1769, 0.0), (1770, 0.011445386140465523), (1771, 0.0), (1772, 0.006208217809369292), (1773, 0.019451403998319412), (1774, 0.021919249603771153), (1775, 0.0), (1776, 0.012419894671367249), (1777, 0.0), (1778, 0.0), (1779, 0.023014980808281658), (1780, 0.0021554754583429517), (1781, 0.013919971601294732), (1782, 0.0032779969304272596), (1783, 0.0), (1784, 0.006316451890572105), (1785, 0.0), (1786, 0.0), (1787, 0.018612973603086648), (1788, 0.044129220551866494), (1789, 0.016523204154686267), (1790, 0.016501773724616985), (1791, 0.008078376256338742), (1792, 0.004821936593125391), (1793, 0.012475358927572122), (1794, 0.0), (1795, 0.045351660541249714), (1796, 0.018895298897264816), (1797, 0.0085052194730614), (1798, 0.015428242905011639), (1799, 0.020060258034677005), (1800, 0.0), (1801, 0.003067110990037594), (1802, 0.019231929173634244), (1803, 0.0), (1804, 0.0), (1805, 0.004660261172192897), (1806, 0.011865147593384869), (1807, 0.014783131730649497), (1808, 0.003177661862729307), (1809, 0.017035668386203365), (1810, 0.0), (1811, 0.010571010115821762), (1812, 0.019892486052269325), (1813, 0.003688231621776091), (1814, 0.0033562442061218006), (1815, 0.021261722609551253), (1816, 0.009215619331936478), (1817, 0.03241354242245617), (1818, 0.009064455932471007), (1819, 0.010416079528913), (1820, 0.0), (1821, 0.0677352702836168), (1822, 0.0043154891249836454), (1823, 0.0), (1824, 0.0), (1825, 0.0), (1826, 0.004397575752426496), (1827, 0.003436215716729612), (1828, 0.0030609772378206285), (1829, 0.008032901705722465), (1830, 0.0033766628476612826), (1831, 0.003724262953372872), (1832, 0.021250718767465326), (1833, 0.010795001657953501), (1834, 0.0), (1835, 0.0), (1836, 0.0), (1837, 0.0), (1838, 0.029709612721353196), (1839, 0.0), (1840, 0.005962487472070773), (1841, 0.009604908724135438), (1842, 0.0), (1843, 0.02984543993341686), (1844, 0.0), (1845, 0.039032026424686096), (1846, 0.007238379059658746), (1847, 0.040380907242845425), (1848, 0.004366996472293061), (1849, 0.0094817529581139), (1850, 0.06070552048847247), (1851, 0.004258219374272868), (1852, 0.017788131720188692), (1853, 0.024592656092299076), (1854, 0.013994233430971816), (1855, 0.0), (1856, 0.0), (1857, 0.008100384660474148), (1858, 0.017484212761929775), (1859, 0.007598724823247278), (1860, 0.01401428735859669), (1861, 0.035392092867333164), (1862, 0.0050379315244522575), (1863, 0.00910471269637695), (1864, 0.020010369522022897), (1865, 0.033167371319037124), (1866, 0.012170220874228282), (1867, 0.009747587683723377), (1868, 0.04924371830292569), (1869, 0.003452989680084778), (1870, 0.017322930917478156), (1871, 0.05576207606412112), (1872, 0.02770799769438272), (1873, 0.01745296180670261), (1874, 0.017145962336560426), (1875, 0.013537974166853525), (1876, 0.02041823560043708), (1877, 0.003932950385219292), (1878, 0.02581662193326296), (1879, 0.0), (1880, 0.021360829989325574), (1881, 0.007165708950258214), (1882, 0.0036155514354498626), (1883, 0.0), (1884, 0.004186839921662645), (1885, 0.005104386126384646), (1886, 0.0029029121240143926), (1887, 0.004583958350601311), (1888, 0.0), (1889, 0.0), (1890, 0.004356187874399807), (1891, 0.003916890000977303), (1892, 0.01233434803803529), (1893, 0.004249449146649482), (1894, 0.0), (1895, 0.019897971439233678), (1896, 0.0040968385763351985), (1897, 0.023555978304718297), (1898, 0.0), (1899, 0.0), (1900, 0.017844395553188966), (1901, 0.007385674539794155), (1902, 0.011940274094079793), (1903, 0.00918429206321453), (1904, 0.00856016827196515), (1905, 0.005546927660356837), (1906, 0.023691343903895854), (1907, 0.004391154972967299), (1908, 0.009538988251270778), (1909, 0.005063429849102707), (1910, 0.005483127714488223), (1911, 0.010193193820087942), (1912, 0.0), (1913, 0.010044136479639693), (1914, 0.0071379745188488355), (1915, 0.0), (1916, 0.004334676045899727), (1917, 0.0), (1918, 0.011565463344329282), (1919, 0.019489561938963815), (1920, 0.012020758227761531), (1921, 0.0031812138366465194), (1922, 0.014684932327694735), (1923, 0.01831550092742567), (1924, 0.012626870228572479), (1925, 0.0057394581282381365), (1926, 0.0), (1927, 0.032361327483723154), (1928, 0.0), (1929, 0.003574244012175766), (1930, 0.0074773471110740645), (1931, 0.011499489289170241), (1932, 0.0), (1933, 0.006932852330055476), (1934, 0.017871056496189704), (1935, 0.034348824568432336), (1936, 0.014335488744400961), (1937, 0.02764847026221134), (1938, 0.0), (1939, 0.011895981480603732), (1940, 0.009145204100978356), (1941, 0.00974729039196985), (1942, 0.03397859547860006), (1943, 0.003141070226477526), (1944, 0.0), (1945, 0.021334483263118143), (1946, 0.004236024062452899), (1947, 0.005000680785696874), (1948, 0.012099346445150667), (1949, 0.020119734600309535), (1950, 0.010976883058316018), (1951, 0.016982631852521263), (1952, 0.007565169136400688), (1953, 0.0073629909848884996), (1954, 0.003528736760236361), (1955, 0.0), (1956, 0.0), (1957, 0.016980837565053176), (1958, 0.01777209229391798), (1959, 0.004347197240510115), (1960, 0.012433575412412388), (1961, 0.0), (1962, 0.008735519215404686), (1963, 0.0), (1964, 0.00963565381187258), (1965, 0.0), (1966, 0.0), (1967, 0.020094496927448018), (1968, 0.013269337041162541), (1969, 0.0034613578821183952), (1970, 0.043444936731333324), (1971, 0.011174864879887152), (1972, 0.0), (1973, 0.009333647867049563), (1974, 0.0), (1975, 0.008626554052893953), (1976, 0.008769001550951507), (1977, 0.0034430277211873078), (1978, 0.0), (1979, 0.0), (1980, 0.0032260299575321057), (1981, 0.00837248955589746), (1982, 0.05755567906064876), (1983, 0.021703968631008198), (1984, 0.0), (1985, 0.03468916467218622), (1986, 0.020637857368242557), (1987, 0.010623548397438835), (1988, 0.019749649111466382), (1989, 0.016121697581670313), (1990, 0.006425177055698446), (1991, 0.053922394843397926), (1992, 0.01694585474534741), (1993, 0.007830433589920745), (1994, 0.08036551643765738), (1995, 0.005090902333153629), (1996, 0.03480446738602119), (1997, 0.03608442354781702), (1998, 0.00689630859953311), (1999, 0.0), (2000, 0.0174244975660141), (2001, 0.0), (2002, 0.0), (2003, 0.0), (2004, 0.0036037685857258947), (2005, 0.017317523917849117), (2006, 0.0), (2007, 0.0), (2008, 0.019569878590165787), (2009, 0.0), (2010, 0.0032866633389309254), (2011, 0.038658576835883224), (2012, 0.008615066160649498), (2013, 0.015272136706761513), (2014, 0.04373715565980088), (2015, 0.007291321206751858), (2016, 0.014995284147249016), (2017, 0.0), (2018, 0.0), (2019, 0.0), (2020, 0.009297360471067067), (2021, 0.0), (2022, 0.007247269724092193), (2023, 0.045432085342774216), (2024, 0.022751889503039132), (2025, 0.0), (2026, 0.07864213809327213), (2027, 0.022003074760800496), (2028, 0.0), (2029, 0.014841424012077217), (2030, 0.0), (2031, 0.010114101194723274), (2032, 0.0), (2033, 0.0), (2034, 0.003962435312991165), (2035, 0.025923933304107822), (2036, 0.0), (2037, 0.04612909975516556), (2038, 0.0), (2039, 0.0030060639361283426), (2040, 0.03998101578299343), (2041, 0.0), (2042, 0.0), (2043, 0.0), (2044, 0.0077251565808197685), (2045, 0.021327977172846842), (2046, 0.0), (2047, 0.0031888516603227925), (2048, 0.004666258889890459), (2049, 0.01806457308707828), (2050, 0.0), (2051, 0.01808344955338584), (2052, 0.0239748741806519), (2053, 0.022627981453731197), (2054, 0.0), (2055, 0.02976877553330036), (2056, 0.010327520651630498), (2057, 0.01742925936483089), (2058, 0.00857579687197607), (2059, 0.0), (2060, 0.003638094647128995), (2061, 0.011013185261475801), (2062, 0.01642036678845929), (2063, 0.0), (2064, 0.006802056090454379), (2065, 0.01265672157162191), (2066, 0.020188313078421977), (2067, 0.003805692182424952), (2068, 0.003924380903328766), (2069, 0.010355206576812164), (2070, 0.0248204895206263), (2071, 0.0), (2072, 0.004407371328613039), (2073, 0.004229530506212879), (2074, 0.013743631996349707), (2075, 0.017493392003321395), (2076, 0.011277739203468782), (2077, 0.016104312858066395), (2078, 0.005308388426220234), (2079, 0.0), (2080, 0.01928936557515998), (2081, 0.0), (2082, 0.012057785688302472), (2083, 0.00394937719356879), (2084, 0.008592124770145263), (2085, 0.0), (2086, 0.0), (2087, 0.015008862038899007), (2088, 0.011598442334891563), (2089, 0.015212525610697566), (2090, 0.0), (2091, 0.01061469392654786), (2092, 0.0), (2093, 0.024415224947751495), (2094, 0.03664787841535138), (2095, 0.010150111680893926), (2096, 0.03743616711093781), (2097, 0.016263646575780114), (2098, 0.009469413334335987), (2099, 0.003550927187278418), (2100, 0.0), (2101, 0.0119257137451066), (2102, 0.0038468279508273077), (2103, 0.013031575649853695), (2104, 0.011730105424503187), (2105, 0.0043838787533319904), (2106, 0.0), (2107, 0.0), (2108, 0.00542932088719697), (2109, 0.07148949017125474), (2110, 0.026107572880632167), (2111, 0.0036164699884786967), (2112, 0.03579011696079501), (2113, 0.009412494303086518), (2114, 0.0415159140029976), (2115, 0.0), (2116, 0.02029313736352448), (2117, 0.0038422049000493078), (2118, 0.0), (2119, 0.02388143406737478), (2120, 0.0), (2121, 0.022095605707786313), (2122, 0.04867098706976497), (2123, 0.05272562154966831), (2124, 0.0), (2125, 0.0), (2126, 0.01465190455365517), (2127, 0.0034279710782637233), (2128, 0.0), (2129, 0.0037665811905839394), (2130, 0.007142903351711427), (2131, 0.0038250321741793666), (2132, 0.0034314525474435412), (2133, 0.07372275789539834), (2134, 0.004976487633849058), (2135, 0.0), (2136, 0.008183667382944626), (2137, 0.01008211388389746), (2138, 0.0), (2139, 0.007252010392053569), (2140, 0.0), (2141, 0.003855441145400437), (2142, 0.005229276775137104), (2143, 0.01258567033170428), (2144, 0.015219522842901928), (2145, 0.018741769030366746), (2146, 0.003581391967989029), (2147, 0.047707993612064084), (2148, 0.004600449022890759), (2149, 0.031346512125993674), (2150, 0.0), (2151, 0.07211188175943449), (2152, 0.0), (2153, 0.0), (2154, 0.04251776075655345), (2155, 0.06094440966294321), (2156, 0.008436246041438871), (2157, 0.0032173631420819786), (2158, 0.013266838508085374), (2159, 0.005336410033342066), (2160, 0.009060757883872152), (2161, 0.02349597973120296), (2162, 0.017818755339190032), (2163, 0.003844665132394982), (2164, 0.0), (2165, 0.0), (2166, 0.003278046355048102), (2167, 0.02656136866008516), (2168, 0.0), (2169, 0.004020338786543212), (2170, 0.0), (2171, 0.0), (2172, 0.0), (2173, 0.005051548796334038), (2174, 0.0341081637960685), (2175, 0.008511680901045277), (2176, 0.0045625601937834175), (2177, 0.018679171270423307), (2178, 0.01849799126504566), (2179, 0.0), (2180, 0.0), (2181, 0.008543522773754232), (2182, 0.0), (2183, 0.0), (2184, 0.010020285356575084), (2185, 0.0089680079046081), (2186, 0.0), (2187, 0.06625301427525655), (2188, 0.01811724277303561), (2189, 0.008167779474515463), (2190, 0.0047197683480926424), (2191, 0.08111065630209834), (2192, 0.0037282545921463657), (2193, 0.014803512836014266), (2194, 0.0), (2195, 0.00397618606664481), (2196, 0.022886982213689212), (2197, 0.014121071031660298), (2198, 0.010592582635133185), (2199, 0.006413599199300826), (2200, 0.0), (2201, 0.003596526117093653), (2202, 0.009029179020661965), (2203, 0.009482046150182187), (2204, 0.0), (2205, 0.009190969883503144), (2206, 0.019759745821410202), (2207, 0.029280622583679455), (2208, 0.007826941789578606), (2209, 0.01769913803816022), (2210, 0.033794496299175275), (2211, 0.011024478776516747), (2212, 0.015869636815348028), (2213, 0.0037528355570124235), (2214, 0.08359656019059011), (2215, 0.0), (2216, 0.020343814806869615), (2217, 0.0), (2218, 0.0), (2219, 0.0), (2220, 0.0), (2221, 0.039980165248741935), (2222, 0.0), (2223, 0.004695311815826147), (2224, 0.020225978578700225), (2225, 0.0), (2226, 0.003774554110987344), (2227, 0.0), (2228, 0.017910910903901126), (2229, 0.029874024380781718), (2230, 0.004476066541266529), (2231, 0.009691868306634443), (2232, 0.0069947966910266675), (2233, 0.0), (2234, 0.0), (2235, 0.01918445224376819), (2236, 0.011935173642500992), (2237, 0.030538162016130802), (2238, 0.0), (2239, 0.009129549902175113), (2240, 0.0030785596816305803), (2241, 0.0), (2242, 0.003680276231281444), (2243, 0.0), (2244, 0.009684390087422931), (2245, 0.006421342240353855), (2246, 0.007317152657203184), (2247, 0.0), (2248, 0.0752615322837388), (2249, 0.0), (2250, 0.014371874362892773), (2251, 0.00891972395007114), (2252, 0.021029530147328168), (2253, 0.0), (2254, 0.02273953058503263), (2255, 0.021434004124588266), (2256, 0.0), (2257, 0.00837705530338014), (2258, 0.026751475808576806), (2259, 0.0), (2260, 0.004675594040514168), (2261, 0.0), (2262, 0.0), (2263, 0.0), (2264, 0.01327764335612898), (2265, 0.01762601010366139), (2266, 0.005734798365041043), (2267, 0.0), (2268, 0.003659267219726674), (2269, 0.004952955213578811), (2270, 0.003094032152737502), (2271, 0.0), (2272, 0.0), (2273, 0.010803383497273408), (2274, 0.0), (2275, 0.04393887138981652), (2276, 0.03958462588024918), (2277, 0.015040167788816453), (2278, 0.007329625210763395), (2279, 0.014153319418326878), (2280, 0.019419395359997756), (2281, 0.0), (2282, 0.0), (2283, 0.008235415545143558), (2284, 0.022556620324389237), (2285, 0.011809923080597879), (2286, 0.0057165112625827625), (2287, 0.003176320322243111), (2288, 0.008322944025981212), (2289, 0.007089521260154169), (2290, 0.02455369951342027), (2291, 0.00808612608840935), (2292, 0.004330948739906816), (2293, 0.0050922676334189745), (2294, 0.03907734216713989), (2295, 0.022114319858258274), (2296, 0.0), (2297, 0.0), (2298, 0.022989526494702414), (2299, 0.008007278744328912), (2300, 0.0), (2301, 0.029855185997474474), (2302, 0.005263036676702323), (2303, 0.014469250293978332), (2304, 0.01452192084630962), (2305, 0.0), (2306, 0.021985761692206438), (2307, 0.0), (2308, 0.06050336390968018), (2309, 0.013121129728552875), (2310, 0.008893218623298274), (2311, 0.0), (2312, 0.0), (2313, 0.0035948165410550864), (2314, 0.009154994898885271), (2315, 0.0), (2316, 0.012732674516829978), (2317, 0.0043339155135836485), (2318, 0.034048180959967075), (2319, 0.003948802396245841), (2320, 0.004759076543189785), (2321, 0.06344798050965988), (2322, 0.0), (2323, 0.00353487918482833), (2324, 0.016460998752848715), (2325, 0.0), (2326, 0.00720371398492812), (2327, 0.0), (2328, 0.013798773194138221), (2329, 0.0), (2330, 0.00877699864056634), (2331, 0.0), (2332, 0.0), (2333, 0.0), (2334, 0.023044968085650902), (2335, 0.011350476014554972), (2336, 0.01903782194517788), (2337, 0.0), (2338, 0.0034709736885990762), (2339, 0.011823493738066515), (2340, 0.003883545063411596), (2341, 0.0), (2342, 0.0), (2343, 0.0765815899468926), (2344, 0.014376450787463422), (2345, 0.0), (2346, 0.02161101200935458), (2347, 0.023778302841934745), (2348, 0.013556997959323264), (2349, 0.007713658962890399), (2350, 0.007702684730051712), (2351, 0.0), (2352, 0.0), (2353, 0.030218095142728284), (2354, 0.003916627031787216), (2355, 0.010322385802826182), (2356, 0.004773624035211215), (2357, 0.0), (2358, 0.0), (2359, 0.0029554305310812825), (2360, 0.0), (2361, 0.005020935416844984), (2362, 0.03737270019835909), (2363, 0.02341067109772239), (2364, 0.0), (2365, 0.0), (2366, 0.01887776555849269), (2367, 0.0038126133336855916), (2368, 0.03523871418415284), (2369, 0.0), (2370, 0.00423264206581721), (2371, 0.0), (2372, 0.0), (2373, 0.0), (2374, 0.0719851413054428), (2375, 0.058122103741070005), (2376, 0.021628247290295926), (2377, 0.0), (2378, 0.0058729224488914085), (2379, 0.0098846979014398), (2380, 0.0), (2381, 0.0), (2382, 0.003106114132591224), (2383, 0.02258312186733362), (2384, 0.0), (2385, 0.0040793969014085414), (2386, 0.004911812666252856), (2387, 0.00383430379867735), (2388, 0.013228780573297239), (2389, 0.0), (2390, 0.0047427437512014385), (2391, 0.005002725215916034), (2392, 0.0069302463981577534), (2393, 0.004179553417717045), (2394, 0.007340780595135718), (2395, 0.0), (2396, 0.004013822558131462), (2397, 0.004040901584400359), (2398, 0.0), (2399, 0.0035941945406204466), (2400, 0.0053418252707257766), (2401, 0.0048261799306613135), (2402, 0.004341191666147272), (2403, 0.01724242735126899), (2404, 0.009488149253218833), (2405, 0.004893113003415322), (2406, 0.02965694469946071), (2407, 0.009029092704387875), (2408, 0.06122532346502252), (2409, 0.0), (2410, 0.004477017759579001), (2411, 0.005918679796346917), (2412, 0.01890065494838876), (2413, 0.007666572853556712), (2414, 0.0), (2415, 0.00761553801572693), (2416, 0.00382779389757539), (2417, 0.022242242431631434), (2418, 0.01608929007877431), (2419, 0.0040511156300768545), (2420, 0.0), (2421, 0.017530566171519345), (2422, 0.003803974560046657), (2423, 0.009629654290159152), (2424, 0.011284603969939052), (2425, 0.00961406097860726), (2426, 0.011921123992987148), (2427, 0.014273885588421527), (2428, 0.015545233093145473), (2429, 0.017306836795496633), (2430, 0.003987181298681558), (2431, 0.0), (2432, 0.007617418034160173), (2433, 0.0), (2434, 0.0060204001545118), (2435, 0.0), (2436, 0.016852222564147774), (2437, 0.005723546935539845), (2438, 0.005668418246397257), (2439, 0.00885122623423977), (2440, 0.034015968903933706), (2441, 0.0029197115674362423), (2442, 0.006611992137357929), (2443, 0.039562242401369914), (2444, 0.014922249867397461), (2445, 0.0), (2446, 0.0036851674419642994), (2447, 0.017383879734103103), (2448, 0.006641765432510715), (2449, 0.0), (2450, 0.0), (2451, 0.0), (2452, 0.0), (2453, 0.003479665592260655), (2454, 0.009203926123964302), (2455, 0.0), (2456, 0.0), (2457, 0.0036161397208821027), (2458, 0.0), (2459, 0.015148350559704787), (2460, 0.02283277442958495), (2461, 0.0037635859898364015), (2462, 0.0), (2463, 0.015464322595971178), (2464, 0.02970027799409072), (2465, 0.0), (2466, 0.004591175655882957), (2467, 0.003769506509660329), (2468, 0.029434739101434623), (2469, 0.028206208674987174), (2470, 0.0), (2471, 0.0), (2472, 0.0), (2473, 0.013319435724076328), (2474, 0.016511400206717722), (2475, 0.007315437752906465), (2476, 0.009912201986826154), (2477, 0.012660683526738742), (2478, 0.005550607602166183), (2479, 0.0), (2480, 0.018953886518733226), (2481, 0.0415325917733779), (2482, 0.0032907759536593586), (2483, 0.0), (2484, 0.03409286397946553), (2485, 0.0), (2486, 0.021939251932064027), (2487, 0.041472963787490005), (2488, 0.005396260828709871), (2489, 0.016326358582503864), (2490, 0.010367846556836795), (2491, 0.0), (2492, 0.004015083085476937), (2493, 0.0), (2494, 0.017408143381870366), (2495, 0.0038809027183802844), (2496, 0.01054330375052923), (2497, 0.0), (2498, 0.0), (2499, 0.0), (2500, 0.0), (2501, 0.03298668880831258), (2502, 0.0032964250632714315), (2503, 0.009890643512962533), (2504, 0.0), (2505, 0.019710666990383582), (2506, 0.009982637964704505), (2507, 0.0046090097624998504), (2508, 0.0), (2509, 0.003406354668017064), (2510, 0.01173380993263633), (2511, 0.0), (2512, 0.014555742602582255), (2513, 0.027973056368961097), (2514, 0.0), (2515, 0.0), (2516, 0.0), (2517, 0.009564723457665706), (2518, 0.0), (2519, 0.011699512151785404), (2520, 0.0037976541307925896), (2521, 0.0), (2522, 0.022961032895868767), (2523, 0.0), (2524, 0.029929136002704644), (2525, 0.0035128725250864142), (2526, 0.003264240272052675), (2527, 0.003113782229116129), (2528, 0.0033574281280102976), (2529, 0.009926962587987045), (2530, 0.00560341666840232), (2531, 0.004700533609538483), (2532, 0.0), (2533, 0.004919972434456471), (2534, 0.001427303142872386), (2535, 0.0063739196091130886), (2536, 0.0), (2537, 0.00900000272944523), (2538, 0.08977526349728222), (2539, 0.0), (2540, 0.05622120405886702), (2541, 0.005721750441271803), (2542, 0.0), (2543, 0.0), (2544, 0.008071474546138716), (2545, 0.016651076834237662), (2546, 0.015840498808679607), (2547, 0.0), (2548, 0.0), (2549, 0.0), (2550, 0.06494909344653989), (2551, 0.0), (2552, 0.0033938830681399614), (2553, 0.0256536692408557), (2554, 0.004482982885565916), (2555, 0.01752717693403611), (2556, 0.005506456190239035), (2557, 0.005494288311565886), (2558, 0.13122982456798782), (2559, 0.00799609866212515), (2560, 0.04180831712443041), (2561, 0.004845107878980673), (2562, 0.0), (2563, 0.010726696902425276), (2564, 0.0), (2565, 0.015277373281285641), (2566, 0.0), (2567, 0.00921188527820015), (2568, 0.015605454131487846), (2569, 0.003840446909841822), (2570, 0.0053441397888371244), (2571, 0.003963102249119985), (2572, 0.012744550283661924), (2573, 0.0053846143075655115), (2574, 0.0), (2575, 0.0), (2576, 0.008261232649983161), (2577, 0.0), (2578, 0.0), (2579, 0.005649069487581067), (2580, 0.00937853807516014), (2581, 0.018154966380840173), (2582, 0.029430256478595648), (2583, 0.0), (2584, 0.0), (2585, 0.004445565149313347), (2586, 0.0), (2587, 0.011501908790596848), (2588, 0.0), (2589, 0.0), (2590, 0.0), (2591, 0.0035250142275977656), (2592, 0.004529058900317083), (2593, 0.0037696954559108846), (2594, 0.0), (2595, 0.004378104244312231), (2596, 0.0), (2597, 0.0), (2598, 0.03100263571591903), (2599, 0.008996181517136511), (2600, 0.019571731180052426), (2601, 0.01562265280465492), (2602, 0.022050040156304018), (2603, 0.011960918473602235), (2604, 0.0), (2605, 0.0), (2606, 0.011386233375644008), (2607, 0.03125371517403042), (2608, 0.0), (2609, 0.004102720717151184), (2610, 0.003941828588582348), (2611, 0.0034622705320700793), (2612, 0.0038482457044325034), (2613, 0.008407457080984976), (2614, 0.00785021945185912), (2615, 0.0), (2616, 0.0), (2617, 0.018311966394163947), (2618, 0.03665953075268548), (2619, 0.005372597720626474), (2620, 0.0), (2621, 0.044964630740247674), (2622, 0.05247689134808685), (2623, 0.0058572392521910495), (2624, 0.004785920328295258), (2625, 0.01723053321885138), (2626, 0.0077175305434129945), (2627, 0.0), (2628, 0.006768411707601509), (2629, 0.004910931121020908), (2630, 0.008763788611715602), (2631, 0.0), (2632, 0.021499975869576304), (2633, 0.014816329663816496), (2634, 0.003744339254345012), (2635, 0.015595037900373787), (2636, 0.002526138343358358), (2637, 0.0), (2638, 0.046486158999770794), (2639, 0.022551643917157922), (2640, 0.01447551423213986), (2641, 0.0), (2642, 0.0038945903249989395), (2643, 0.00943392733407124), (2644, 0.02363158271295472), (2645, 0.02869816835176041), (2646, 0.0), (2647, 0.033903761002153254), (2648, 0.0), (2649, 0.04380334877931236), (2650, 0.02880337976327857), (2651, 0.004010515579296239), (2652, 0.004128673944103346), (2653, 0.06973836617554748), (2654, 0.028156126970853193), (2655, 0.024327338740561717), (2656, 0.0), (2657, 0.0), (2658, 0.0), (2659, 0.0), (2660, 0.006023229124923716), (2661, 0.004181433760742542), (2662, 0.0), (2663, 0.0), (2664, 0.0048066077034977115), (2665, 0.0076890726870926275), (2666, 0.0), (2667, 0.0), (2668, 0.03263533108728087), (2669, 0.0), (2670, 0.0), (2671, 0.0), (2672, 0.0), (2673, 0.012650636499505851), (2674, 0.005366468144776037), (2675, 0.0), (2676, 0.0), (2677, 0.0), (2678, 0.006908105006390266), (2679, 0.004070379264878269), (2680, 0.017150353697781073), (2681, 0.0), (2682, 0.006446031788202683), (2683, 0.009783324994462075), (2684, 0.0), (2685, 0.0), (2686, 0.0), (2687, 0.004431321407431557), (2688, 0.016983073488044162), (2689, 0.03851480578996659), (2690, 0.0), (2691, 0.010293413799069808), (2692, 1.0000000000000002), (2693, 0.0), (2694, 0.08047105999301116), (2695, 0.02216342963431958), (2696, 0.005903866279119635), (2697, 0.017120177332784176), (2698, 0.013761128281795057), (2699, 0.0), (2700, 0.014103191440468897), (2701, 0.0), (2702, 0.0050634018710755705), (2703, 0.0), (2704, 0.0), (2705, 0.005905652391768939), (2706, 0.013525366990124528), (2707, 0.009037706032160885), (2708, 0.011483699367913212), (2709, 0.0), (2710, 0.0), (2711, 0.0062846572271209045), (2712, 0.0355506713628387), (2713, 0.0), (2714, 0.010833172155187622), (2715, 0.0), (2716, 0.05626210472532426), (2717, 0.0), (2718, 0.0), (2719, 0.0), (2720, 0.004721319402386266), (2721, 0.0031439978792545597), (2722, 0.008658154344633321), (2723, 0.004345340180052548), (2724, 0.009065241099257628), (2725, 0.004683019922486999), (2726, 0.011353864704217106), (2727, 0.02833664182231394), (2728, 0.003173601014646693), (2729, 0.0), (2730, 0.0), (2731, 0.009645350410727987), (2732, 0.010606732594436867), (2733, 0.00899243496638795), (2734, 0.0), (2735, 0.004070353950733388), (2736, 0.030318210447637533), (2737, 0.0), (2738, 0.005078637373677265), (2739, 0.018582784933170324), (2740, 0.01707867984108123), (2741, 0.004378572617192956), (2742, 0.02583164784855838), (2743, 0.0035307452649639085), (2744, 0.01443791714554581), (2745, 0.025351006684851483), (2746, 0.004097732806595285), (2747, 0.0039023894656038073), (2748, 0.006839190496327271), (2749, 0.0), (2750, 0.0), (2751, 0.053173749756414465), (2752, 0.013763106671349778), (2753, 0.003209981749247208), (2754, 0.0), (2755, 0.004486544576983805), (2756, 0.0), (2757, 0.010873510131213017), (2758, 0.003053122277472558), (2759, 0.024389095266940594), (2760, 0.00267084836497878), (2761, 0.0030666832288333674), (2762, 0.03713139599441341), (2763, 0.0), (2764, 0.010077176300604805), (2765, 0.0035590260052214273), (2766, 0.002752419757472069), (2767, 0.0027797737600580357), (2768, 0.05146804472955867), (2769, 0.01729362373754683), (2770, 0.0), (2771, 0.016925826729448402), (2772, 0.006734788866346784), (2773, 0.0), (2774, 0.00719537401266136), (2775, 0.007009938957654771), (2776, 0.004500718859517747), (2777, 0.03587055487320631), (2778, 0.024027237103882687), (2779, 0.003968016735822517), (2780, 0.019124492311353367), (2781, 0.0), (2782, 0.004246677275674325), (2783, 0.004507488265392715), (2784, 0.022508189600202934), (2785, 0.0), (2786, 0.005406893888728009), (2787, 0.006669074154067798), (2788, 0.01980628342569152), (2789, 0.01420695529629493), (2790, 0.007393135790902016), (2791, 0.042354367390072305), (2792, 0.004462173125178602), (2793, 0.0), (2794, 0.0), (2795, 0.031981425076639716), (2796, 0.00559549056149003), (2797, 0.005581383763505777), (2798, 0.014308744593212202), (2799, 0.0), (2800, 0.003571871288369609), (2801, 0.005501180763989231), (2802, 0.0035928030148585977), (2803, 0.017035356585271368), (2804, 0.0), (2805, 0.020018475966510716), (2806, 0.0), (2807, 0.05072827525002594), (2808, 0.031004130644195535), (2809, 0.008727588808473817), (2810, 0.0), (2811, 0.0), (2812, 0.013598483620739184), (2813, 0.0), (2814, 0.0), (2815, 0.022891977902754188), (2816, 0.012257494043151707), (2817, 0.0), (2818, 0.0), (2819, 0.008292551653579928), (2820, 0.014368928103742521), (2821, 0.0057471649757465), (2822, 0.048082319535332665), (2823, 0.027083645256151978), (2824, 0.0), (2825, 0.011345492014078798), (2826, 0.003907219987570818), (2827, 0.0), (2828, 0.0), (2829, 0.0), (2830, 0.004491683649814234), (2831, 0.016325084868551512), (2832, 0.0075392577533635735), (2833, 0.008923617094652198), (2834, 0.005633569155779826), (2835, 0.0), (2836, 0.0), (2837, 0.0), (2838, 0.005937144203820702), (2839, 0.0), (2840, 0.013529067462520288), (2841, 0.024808193105735267), (2842, 0.0), (2843, 0.0), (2844, 0.010626536886413261), (2845, 0.0033180706793806314), (2846, 0.08932013544111463), (2847, 0.006751969829160276), (2848, 0.005880899581778663), (2849, 0.028853554544313126), (2850, 0.0), (2851, 0.0), (2852, 0.0), (2853, 0.004031018950493134), (2854, 0.012924084750110202), (2855, 0.0), (2856, 0.0), (2857, 0.005371622463884604), (2858, 0.011116393823507362), (2859, 0.05762058511651993), (2860, 0.0), (2861, 0.007600522335856696), (2862, 0.003687393634437844), (2863, 0.004077264535782022), (2864, 0.0), (2865, 0.0), (2866, 0.0), (2867, 0.028133544232339554), (2868, 0.022447245295136455), (2869, 0.06481395693945102), (2870, 0.008274820649195718), (2871, 0.016296162741785702), (2872, 0.008394873412789664), (2873, 0.013006541616049213), (2874, 0.01821553916500465), (2875, 0.0), (2876, 0.044875100896006), (2877, 0.0), (2878, 0.0038238442475526163), (2879, 0.02017750436664806), (2880, 0.0), (2881, 0.01522625026238058), (2882, 0.004485460328194078), (2883, 0.0070590310288366565), (2884, 0.004582250115324165), (2885, 0.0), (2886, 0.01751014491445809), (2887, 0.004687335817642232), (2888, 0.004234329849745669), (2889, 0.008722408474699184), (2890, 0.00851783755049946), (2891, 0.0), (2892, 0.0036352797199899973), (2893, 0.004479754512258497), (2894, 0.003988529082942608), (2895, 0.005481524565575985), (2896, 0.0), (2897, 0.00996640068523912), (2898, 0.0), (2899, 0.010483607211955603), (2900, 0.006514891567150379), (2901, 0.007600205375685443), (2902, 0.002632431991228857), (2903, 0.16322694403720855), (2904, 0.004025390742243908), (2905, 0.0), (2906, 0.0), (2907, 0.004146435079526715), (2908, 0.05082497524141505), (2909, 0.00353318346288238), (2910, 0.018981681487905567), (2911, 0.00422066421257864), (2912, 0.0038261827287117485), (2913, 0.021368466912972072), (2914, 0.007141655207708237), (2915, 0.01691031812170875), (2916, 0.014495626563902209), (2917, 0.023011914037584943), (2918, 0.018741327926961125), (2919, 0.022332579040283528), (2920, 0.0035291260398927576), (2921, 0.0), (2922, 0.0), (2923, 0.007867564030499648), (2924, 0.005126573150552603), (2925, 0.01679242076655975), (2926, 0.004470755170833817), (2927, 0.0), (2928, 0.0), (2929, 0.01584789131331593), (2930, 0.0), (2931, 0.020705844361947646), (2932, 0.04775243461500446), (2933, 0.013562682588128743), (2934, 0.017117180815753426), (2935, 0.009021263563709902), (2936, 0.017699488383963118), (2937, 0.008330522237670682), (2938, 0.0), (2939, 0.030060836357004097), (2940, 0.004466803200015961), (2941, 0.0), (2942, 0.012199157958625993), (2943, 0.00463186809279885), (2944, 0.04071832672443673), (2945, 0.003968742104799202), (2946, 0.005139813834237934), (2947, 0.007631658583357083), (2948, 0.01780255299724396), (2949, 0.0139010940636879), (2950, 0.0), (2951, 0.0), (2952, 0.0), (2953, 0.004715027487422766), (2954, 0.003722212745058001), (2955, 0.0), (2956, 0.0), (2957, 0.00598154912515937), (2958, 0.0), (2959, 0.00866852335621116), (2960, 0.008022124938874815), (2961, 0.02563008315818658), (2962, 0.009332890084403392), (2963, 0.019957399069396746), (2964, 0.015923459534444878), (2965, 0.0037631263744968757), (2966, 0.008198232757851356), (2967, 0.0), (2968, 0.0), (2969, 0.019845292941204788), (2970, 0.005693863038446939), (2971, 0.011134440161080117), (2972, 0.003616252984053705), (2973, 0.0), (2974, 0.005737164389837086), (2975, 0.011791887100198177), (2976, 0.003992595615468223), (2977, 0.01452310360404929), (2978, 0.022355092793391367), (2979, 0.0), (2980, 0.013642272648508702), (2981, 0.01644777978238137), (2982, 0.0), (2983, 0.0), (2984, 0.007127282070330688), (2985, 0.08620203855834117), (2986, 0.007332208791745724), (2987, 0.004989305383832472), (2988, 0.022128259406648434), (2989, 0.008698088628747328), (2990, 0.0), (2991, 0.008687051319243206), (2992, 0.016550590362428196), (2993, 0.008832266687409322), (2994, 0.014563591304732058), (2995, 0.031167319352163565), (2996, 0.024315159033500455), (2997, 0.005289459046123892), (2998, 0.008317059943796877), (2999, 0.004197700168302598), (3000, 0.030434281373986842), (3001, 0.0), (3002, 0.0), (3003, 0.004608963042440856), (3004, 0.0070296221527422886), (3005, 0.007724438840778851), (3006, 0.0), (3007, 0.005077888130292002), (3008, 0.011592061448702728), (3009, 0.0), (3010, 0.0602306969750803), (3011, 0.006964011770134544), (3012, 0.03852793276954128), (3013, 0.004616457018444507), (3014, 0.0038757611384464003), (3015, 0.007631634859961639), (3016, 0.004952920718949102), (3017, 0.0), (3018, 0.01088298626588942), (3019, 0.038260895442993395), (3020, 0.006925861483101203), (3021, 0.0), (3022, 0.009203476744972738), (3023, 0.009727470390269369), (3024, 0.003454923848941592), (3025, 0.0), (3026, 0.004748007474096862), (3027, 0.0033210344629630143), (3028, 0.0037163003804924584), (3029, 0.0), (3030, 0.009228741849962039), (3031, 0.005632697933441153), (3032, 0.014726993973915433), (3033, 0.010294530560670563), (3034, 0.0), (3035, 0.018724422802392806), (3036, 0.025399897916225045), (3037, 0.007714211928942078), (3038, 0.0), (3039, 0.014590378988296578), (3040, 0.008107368195819923), (3041, 0.0), (3042, 0.008912674012221507), (3043, 0.024411309781279943), (3044, 0.005921930647794183), (3045, 0.050621970766190634), (3046, 0.013126929686399023), (3047, 0.0), (3048, 0.0), (3049, 0.016114442114114624), (3050, 0.0041385792238409136), (3051, 0.009126666215023014), (3052, 0.010468738109378895), (3053, 0.0), (3054, 0.0), (3055, 0.007534958112935259), (3056, 0.0032458802744596955), (3057, 0.004630690245546839), (3058, 0.0), (3059, 0.0), (3060, 0.0), (3061, 0.0), (3062, 0.0070219823221069335), (3063, 0.0), (3064, 0.004807303233357379), (3065, 0.0225921152441505), (3066, 0.009663955540086245), (3067, 0.0214443648710049), (3068, 0.0), (3069, 0.004048250397240607), (3070, 0.016563643590137424), (3071, 0.0035381149035107655), (3072, 0.005669248672955098), (3073, 0.0), (3074, 0.0076257907693353085), (3075, 0.004503368954584982), (3076, 0.023031595656798444), (3077, 0.0), (3078, 0.0), (3079, 0.0075933536873456445), (3080, 0.0), (3081, 0.00715182164626492), (3082, 0.0), (3083, 0.0), (3084, 0.004507428742760711), (3085, 0.025793451094136367), (3086, 0.028141891200232264), (3087, 0.0), (3088, 0.0), (3089, 0.0), (3090, 0.0), (3091, 0.02709370567354221), (3092, 0.0), (3093, 0.004794143562545896), (3094, 0.017825979574263632), (3095, 0.04390520193609414), (3096, 0.01134805061993225), (3097, 0.030861843555626718), (3098, 0.024951366454236772), (3099, 0.015005511180032271), (3100, 0.006449533603788498), (3101, 0.004642294540414017), (3102, 0.055586118890419756), (3103, 0.0), (3104, 0.0), (3105, 0.0), (3106, 0.0), (3107, 0.0), (3108, 0.017096770767015657), (3109, 0.0), (3110, 0.022119700426443505), (3111, 0.02762829091809424), (3112, 0.014894618898665097), (3113, 0.004364605635617813), (3114, 0.00933892686046393), (3115, 0.0), (3116, 0.004548438812196642), (3117, 0.010312769230094155), (3118, 0.02040091592933726), (3119, 0.04123031385199133), (3120, 0.013730405724650249), (3121, 0.0), (3122, 0.010032092301291444), (3123, 0.020972115729064385), (3124, 0.0073477850073112895), (3125, 0.011940581764230726), (3126, 0.006779246493765135), (3127, 0.053629356730227194), (3128, 0.0070619864477095675), (3129, 0.024880911139081117), (3130, 0.0), (3131, 0.007877503698740624), (3132, 0.0), (3133, 0.00626837473368857), (3134, 0.007385809710737266), (3135, 0.0066431744549322325), (3136, 0.006872726884781594), (3137, 0.04610200929488921), (3138, 0.0), (3139, 0.009721861013805976), (3140, 0.005473683312996546), (3141, 0.0), (3142, 0.012798986954891367), (3143, 0.00641432152464659), (3144, 0.03072576917516666), (3145, 0.0), (3146, 0.005812572880302646), (3147, 0.003765915261618068), (3148, 0.00446813935200529), (3149, 0.01002432855085382), (3150, 0.0041486241741868985), (3151, 0.013718423236595743), (3152, 0.012391690959494607), (3153, 0.03461111167059269), (3154, 0.04639310968570509), (3155, 0.01842150476822289), (3156, 0.007393539872937636), (3157, 0.0546535700716336), (3158, 0.008765832539297774), (3159, 0.005038316433338936), (3160, 0.006149923257494956), (3161, 0.006762028390109866), (3162, 0.0), (3163, 0.007892689255229193), (3164, 0.007961908881538032), (3165, 0.0075098202193344486), (3166, 0.006830629143336964), (3167, 0.0033260433193275907), (3168, 0.009009139508840492), (3169, 0.0), (3170, 0.0045304189899266645), (3171, 0.018756391109688082), (3172, 0.0), (3173, 0.00429018431550177), (3174, 0.004115990302232101), (3175, 0.0), (3176, 0.0), (3177, 0.0), (3178, 0.010226694614378138), (3179, 0.007240499462006537), (3180, 0.008213156551776027), (3181, 0.0), (3182, 0.0037992286939134323), (3183, 0.005066359655002559), (3184, 0.004568657124570881), (3185, 0.01752478508192928), (3186, 0.004271289956443081), (3187, 0.004548205584688233), (3188, 0.0), (3189, 0.0), (3190, 0.0), (3191, 0.006995685105885112), (3192, 0.013465896471888995), (3193, 0.0), (3194, 0.0033777981321306415), (3195, 0.011995043905796737), (3196, 0.013139241187150343), (3197, 0.0), (3198, 0.004484099437748346), (3199, 0.003104408573022638), (3200, 0.0035482946823549664), (3201, 0.0), (3202, 0.0), (3203, 0.0), (3204, 0.0), (3205, 0.006406188140680884), (3206, 0.0051727591518182185), (3207, 0.0), (3208, 0.0), (3209, 0.06584328633791953), (3210, 0.024634089510637433), (3211, 0.0037424196481448727), (3212, 0.0), (3213, 0.023869264505388597), (3214, 0.005158844972547533), (3215, 0.014230711429448598), (3216, 0.003966439643041455), (3217, 0.0), (3218, 0.014620859364081095), (3219, 0.006149778869141867), (3220, 0.003774436715129752), (3221, 0.0), (3222, 0.03741397629449375), (3223, 0.0), (3224, 0.00438177803212152), (3225, 0.0042182495740710375), (3226, 0.02644462891136741), (3227, 0.010726797959360063), (3228, 0.03365451609162674), (3229, 0.0), (3230, 0.004752937736267351), (3231, 0.0), (3232, 0.014344709758450688), (3233, 0.011202960980191447), (3234, 0.004570620859300831), (3235, 0.005148517606635547), (3236, 0.0), (3237, 0.013474944589942608), (3238, 0.003028849153570603), (3239, 0.007058951745681076), (3240, 0.017708453790614996), (3241, 0.005066709381982376), (3242, 0.005073461193677408), (3243, 0.003918414306128314), (3244, 0.009363914315544924), (3245, 0.013903007082322033), (3246, 0.013412646690681873), (3247, 0.005913845790958286), (3248, 0.00792966722063444), (3249, 0.07290773767391823), (3250, 0.0), (3251, 0.0), (3252, 0.003024883062468309), (3253, 0.02152031312441313), (3254, 0.003303518510904659), (3255, 0.0), (3256, 0.012580444036076749), (3257, 0.0062095890029032885), (3258, 0.007549314896819298), (3259, 0.0120007695817596), (3260, 0.003914386124096319), (3261, 0.0), (3262, 0.007391052826151345), (3263, 0.008627063852816776), (3264, 0.016926206502061423), (3265, 0.01068330195600876), (3266, 0.0), (3267, 0.012883910174550936), (3268, 0.0044307054646729686), (3269, 0.004964823581606794), (3270, 0.0), (3271, 0.004172836501992137), (3272, 0.0), (3273, 0.00569112466366923), (3274, 0.005607376520499044), (3275, 0.027317065249757383), (3276, 0.008781646580527932), (3277, 0.0), (3278, 0.0038007183158985775), (3279, 0.025604587821943636), (3280, 0.05538218975539787), (3281, 0.0), (3282, 0.006204558957729168), (3283, 0.004003844279760297), (3284, 0.026995637010719796), (3285, 0.04085703914917234), (3286, 0.0), (3287, 0.0), (3288, 0.009864959308449156), (3289, 0.0040526119339653255), (3290, 0.003972940938436815), (3291, 0.009578810501769414), (3292, 0.006538816717504163), (3293, 0.022074803770976394), (3294, 0.0689926739972758), (3295, 0.02394064961340628), (3296, 0.007642156563514839), (3297, 0.01623205627873005), (3298, 0.0038536983088998714), (3299, 0.02452060099812313), (3300, 0.0036128556000492623), (3301, 0.002728230465005579), (3302, 0.004787408997002697), (3303, 0.011209754362367829), (3304, 0.0037313132328674246), (3305, 0.0), (3306, 0.023210372912925634), (3307, 0.007036552052445707), (3308, 0.004836860042760991), (3309, 0.010103570247323293), (3310, 0.0), (3311, 0.0035546638870308754), (3312, 0.027219632678272994), (3313, 0.04115887438409922), (3314, 0.004234279547654626), (3315, 0.0035547293698105307), (3316, 0.00995802255019725), (3317, 0.02235085262312365), (3318, 0.01859959918437749), (3319, 0.0), (3320, 0.0), (3321, 0.0), (3322, 0.007813352276238462), (3323, 0.0), (3324, 0.0), (3325, 0.01540047130812058), (3326, 0.07545103598502458), (3327, 0.003599921711409587), (3328, 0.01880787498954728), (3329, 0.012720180981274146), (3330, 0.011727986243622757), (3331, 0.009286650215497336), (3332, 0.0), (3333, 0.0), (3334, 0.021013562370552474), (3335, 0.0042865576635369666), (3336, 0.0032870083762238816), (3337, 0.00529741358368425), (3338, 0.007460402997922046), (3339, 0.005587409799234865), (3340, 0.0), (3341, 0.0041102694609529275), (3342, 0.010974136417711649), (3343, 0.0), (3344, 0.03952502146625435), (3345, 0.03552137285011775), (3346, 0.013655219187127754), (3347, 0.0036999358895140996), (3348, 0.00401615040526717), (3349, 0.02461971394231953), (3350, 0.0), (3351, 0.050392676618311094), (3352, 0.03223938695914663), (3353, 0.005121312688854895), (3354, 0.009263969567402322), (3355, 0.005037528800978031), (3356, 0.019338443182031855), (3357, 0.005316836845560078), (3358, 0.005401434021959036), (3359, 0.0064146502573022585), (3360, 0.08153207750356437), (3361, 0.0069653845909623605), (3362, 0.02486622961843939), (3363, 0.006849525200693127), (3364, 0.0050748702321369), (3365, 0.0027983943560482743), (3366, 0.0), (3367, 0.006582486488303272), (3368, 0.0), (3369, 0.0037403608827361046), (3370, 0.020490936388657878), (3371, 0.0), (3372, 0.004614548815779251), (3373, 0.01765145271062269), (3374, 0.08007737975602405), (3375, 0.023371975405125596), (3376, 0.045607582292821996), (3377, 0.0571872476676472), (3378, 0.0), (3379, 0.0038162625693218067), (3380, 0.003368994774357378), (3381, 0.0035748586731918787), (3382, 0.017218639675372384), (3383, 0.0), (3384, 0.03558336774342633), (3385, 0.008203107648396234), (3386, 0.015654743379034494), (3387, 0.020931802171987084), (3388, 0.004119980179921324), (3389, 0.012942021418026441), (3390, 0.0036674453495453875), (3391, 0.00905538904056701), (3392, 0.0024471144134674103), (3393, 0.0030749290802083566), (3394, 0.0), (3395, 0.025629901454595868), (3396, 0.007813352276238462), (3397, 0.0), (3398, 0.007391370659655868), (3399, 0.013578362954800638), (3400, 0.0), (3401, 0.0), (3402, 0.00385705926807798), (3403, 0.027022531760740848), (3404, 0.007769555068220095), (3405, 0.005961022743107586), (3406, 0.00419857783782122), (3407, 0.023761366036701564), (3408, 0.005506995168804553), (3409, 0.013226309296662573), (3410, 0.010243229603467859), (3411, 0.0), (3412, 0.003817954823347772), (3413, 0.005258852076296444), (3414, 0.004685543684948467), (3415, 0.0), (3416, 0.02626902709062344), (3417, 0.0052606847697512105), (3418, 0.01405517936616793), (3419, 0.00441816804494696), (3420, 0.0347696937937786), (3421, 0.023599069163258254), (3422, 0.0), (3423, 0.02195141049846268), (3424, 0.0), (3425, 0.005643055234252328), (3426, 0.01685075047917813), (3427, 0.0), (3428, 0.0), (3429, 0.006630440133809476), (3430, 0.024213246098845863), (3431, 0.00409913780923109), (3432, 0.007184727456319752), (3433, 0.03265903632980473), (3434, 0.005373477996554676), (3435, 0.010688046384534813), (3436, 0.011198246373959143), (3437, 0.024641688408327846), (3438, 0.008954063573674467), (3439, 0.0), (3440, 0.008772571489988843), (3441, 0.003843853513432506), (3442, 0.0), (3443, 0.007133009546247243), (3444, 0.0), (3445, 0.003998775642505709), (3446, 0.03822357796577279), (3447, 0.04018341896242257), (3448, 0.010346703899084682), (3449, 0.004283039427406094), (3450, 0.03764945755684024), (3451, 0.007643117955323181), (3452, 0.010239316512182989), (3453, 0.012724269941180389), (3454, 0.0), (3455, 0.0036673809836023034), (3456, 0.010509726638178778), (3457, 0.009947611766619896), (3458, 0.008467584258639436), (3459, 0.0), (3460, 0.009461517365466712), (3461, 0.0), (3462, 0.023544071912418283), (3463, 0.05117599579911089), (3464, 0.011797028134601907), (3465, 0.08426638836513889), (3466, 0.045175515764732846), (3467, 0.0), (3468, 0.007987893524333916), (3469, 0.02963615716380363), (3470, 0.008397737003354512), (3471, 0.033222598485036704), (3472, 0.0), (3473, 0.0), (3474, 0.01036955836988283), (3475, 0.0), (3476, 0.0), (3477, 0.003970897204890032), (3478, 0.003917721834275349), (3479, 0.007571042382976686), (3480, 0.048230621280421375), (3481, 0.0), (3482, 0.0), (3483, 0.03282799681637325), (3484, 0.005295463938350322), (3485, 0.0), (3486, 0.060844357097416146), (3487, 0.010701436482894474), (3488, 0.00898054163457418), (3489, 0.0), (3490, 0.0), (3491, 0.004084074280959502), (3492, 0.031157303820812457), (3493, 0.003868727829765197), (3494, 0.0), (3495, 0.0065763303965166355), (3496, 0.004502251060659831), (3497, 0.005081256339122763), (3498, 0.05424537089149485), (3499, 0.01038442377690774), (3500, 0.004467949423665326), (3501, 0.014177303541721302), (3502, 0.010739482654193337), (3503, 0.003504355160073132), (3504, 0.03219117195081238), (3505, 0.0), (3506, 0.004144109676057865), (3507, 0.018592312573012693), (3508, 0.02861323758934453), (3509, 0.008471859905787285), (3510, 0.0), (3511, 0.004431671583435298), (3512, 0.008108076539730585), (3513, 0.013065291763673154), (3514, 0.011040436633346877), (3515, 0.011775246612580437), (3516, 0.012608899769244753), (3517, 0.004013054958834468), (3518, 0.06401950792525692), (3519, 0.0), (3520, 0.007253957738368192), (3521, 0.02638423469736107), (3522, 0.0), (3523, 0.008870396077507383), (3524, 0.018471163248930795), (3525, 0.0), (3526, 0.005372373341015269), (3527, 0.006204812641721016), (3528, 0.025971451057175906), (3529, 0.0), (3530, 0.0), (3531, 0.010015631159752842), (3532, 0.0), (3533, 0.0), (3534, 0.0068850778942995666), (3535, 0.0212030046848343), (3536, 0.01412262680554183), (3537, 0.00475847165968068), (3538, 0.003271203901258989), (3539, 0.0), (3540, 0.004889561190393169), (3541, 0.026069901076268415), (3542, 0.0049172663306445595), (3543, 0.0), (3544, 0.006779302725798695), (3545, 0.0), (3546, 0.0026526818446119416), (3547, 0.0), (3548, 0.0037663180863573764), (3549, 0.0), (3550, 0.0), (3551, 0.0041686300436565215), (3552, 0.014577962380203494), (3553, 0.03955501986839424), (3554, 0.0), (3555, 0.006677778926364698), (3556, 0.050333999500919865), (3557, 0.004638931786620546), (3558, 0.0246996806609351), (3559, 0.007765008205570917), (3560, 0.00460804157899949), (3561, 0.006695709278415854), (3562, 0.0), (3563, 0.003357558510761092), (3564, 0.0036459791477027425), (3565, 0.0038555838221118453), (3566, 0.008981108898952534), (3567, 0.0), (3568, 0.0), (3569, 0.0031646904047099734), (3570, 0.011891484177775708), (3571, 0.010633298465616416), (3572, 0.0), (3573, 0.0), (3574, 0.0), (3575, 0.0031347425338805446), (3576, 0.00904311654253144), (3577, 0.005084119161684539), (3578, 0.0), (3579, 0.013186940123622405), (3580, 0.02350292455488868), (3581, 0.0), (3582, 0.017389061686125338), (3583, 0.006937473054504817), (3584, 0.007945436810997807), (3585, 0.0), (3586, 0.012163214829732429), (3587, 0.004395482425194108), (3588, 0.012102623110857061), (3589, 0.0), (3590, 0.006801001186087063), (3591, 0.0), (3592, 0.0), (3593, 0.004484407200540432), (3594, 0.011370459989456039), (3595, 0.0), (3596, 0.01432744039859438), (3597, 0.05196632940848811), (3598, 0.009000904002117182), (3599, 0.015984711591193627), (3600, 0.0), (3601, 0.005284354852325518), (3602, 0.006644697406333902), (3603, 0.0), (3604, 0.008185200309662919), (3605, 0.006546349975487375), (3606, 0.003730395965797728), (3607, 0.0), (3608, 0.004089479500808636), (3609, 0.0), (3610, 0.0), (3611, 0.004473637320231286), (3612, 0.014253516115015089), (3613, 0.007282060083618418), (3614, 0.0033593058035371252), (3615, 0.005122251088091958), (3616, 0.005601441076480496), (3617, 0.0), (3618, 0.012371181004837395), (3619, 0.006069610826765622), (3620, 0.00590028210970164), (3621, 0.0053585096647298346), (3622, 0.0), (3623, 0.010751319232798526), (3624, 0.011134359452688656), (3625, 0.0), (3626, 0.0028282637400275142), (3627, 0.004104114970319419), (3628, 0.0), (3629, 0.0032602111469960753), (3630, 0.019920331528053798), (3631, 0.0), (3632, 0.011044742762208822), (3633, 0.0), (3634, 0.011278041613474708), (3635, 0.021532463002016736), (3636, 0.005227814899568956), (3637, 0.02019505128795226), (3638, 0.015338498718698475), (3639, 0.004727437709235566), (3640, 0.0256090072621914), (3641, 0.0036865265336741863), (3642, 0.02526471546699318), (3643, 0.014268793803645999), (3644, 0.0), (3645, 0.010938805578589363), (3646, 0.003789280229301508), (3647, 0.004220939701070577), (3648, 0.010276663868351806), (3649, 0.0), (3650, 0.0), (3651, 0.006250133203480805), (3652, 0.03688244709384845), (3653, 0.0116612202678627), (3654, 0.004251936457569669), (3655, 0.07304612694153584), (3656, 0.011987692927272748), (3657, 0.0033618013207313184), (3658, 0.008513723706507095), (3659, 0.020367031117171426), (3660, 0.020519095088688724), (3661, 0.028700069608751475), (3662, 0.0), (3663, 0.0), (3664, 0.007028867912427235), (3665, 0.03195494556416848), (3666, 0.013658771914575325), (3667, 0.01266119612845323), (3668, 0.00389258598967033), (3669, 0.0036836693943161406), (3670, 0.022648638916123377), (3671, 0.0), (3672, 0.007141359574312597), (3673, 0.003923018199871402), (3674, 0.014129893357971105), (3675, 0.053115385195731474), (3676, 0.0), (3677, 0.004710492851067599), (3678, 0.004679227445208828), (3679, 0.01115414355531516), (3680, 0.016676626517246624), (3681, 0.0), (3682, 0.0), (3683, 0.0), (3684, 0.03755235503814716), (3685, 0.0), (3686, 0.0), (3687, 0.007951239598360485), (3688, 0.0), (3689, 0.014481974660178254), (3690, 0.0), (3691, 0.0035575663664843367), (3692, 0.040142544023351635), (3693, 0.0), (3694, 0.024826686486318125), (3695, 0.0), (3696, 0.010579344191870708), (3697, 0.0), (3698, 0.0), (3699, 0.02091453504080856), (3700, 0.0), (3701, 0.003944642465889201), (3702, 0.0), (3703, 0.0), (3704, 0.015702019310327706), (3705, 0.009325367929508908), (3706, 0.0040344532597399105), (3707, 0.005045645021679391), (3708, 0.029018039290265692), (3709, 0.0), (3710, 0.007655956104401663), (3711, 0.0349572829294376), (3712, 0.0), (3713, 0.02857018575382573), (3714, 0.0052077656858383016), (3715, 0.01185931217171031), (3716, 0.0), (3717, 0.0), (3718, 0.0), (3719, 0.0070619864477095675), (3720, 0.006697861936207123), (3721, 0.012087280301403188), (3722, 0.0), (3723, 0.007365931310098481), (3724, 0.0), (3725, 0.0034556336570232813), (3726, 0.0), (3727, 0.011390597649393479), (3728, 0.09013015276091167), (3729, 0.005916311671919697), (3730, 0.0), (3731, 0.017773596689137673), (3732, 0.0), (3733, 0.01418523334048126), (3734, 0.011100987535201882), (3735, 0.0), (3736, 0.0), (3737, 0.0056639139369403695), (3738, 0.0), (3739, 0.0038423305413066624), (3740, 0.0), (3741, 0.020960777879386827), (3742, 0.003503808439358898), (3743, 0.0), (3744, 0.01027255596172162), (3745, 0.0048832872921174665), (3746, 0.06804571732036159), (3747, 0.018934455177787177), (3748, 0.009977432882556926), (3749, 0.005188651186422814), (3750, 0.0198737334356091), (3751, 0.010455927548345827), (3752, 0.008650794267115817), (3753, 0.0), (3754, 0.005677799556726739), (3755, 0.003974541930461615), (3756, 0.016450272875424256), (3757, 0.00413452018425486), (3758, 0.0), (3759, 0.0), (3760, 0.0), (3761, 0.0), (3762, 0.007278437184168018), (3763, 0.0049434259081282805), (3764, 0.0), (3765, 0.0036491500257910415), (3766, 0.031104719080926588), (3767, 0.013319050614370678), (3768, 0.023217983797414105), (3769, 0.007206792395556264), (3770, 0.004454675152909566), (3771, 0.012501850934747507), (3772, 0.005038399458294862), (3773, 0.0), (3774, 0.007447630359835475), (3775, 0.0159144039759344), (3776, 0.006288159257704208), (3777, 0.023608138792237533), (3778, 0.035209513289318956), (3779, 0.00499954937484889), (3780, 0.012133966139436455), (3781, 0.0046393079475011674), (3782, 0.007563905202797749), (3783, 0.0), (3784, 0.013588767600862433), (3785, 0.0), (3786, 0.0), (3787, 0.00861589131246512), (3788, 0.007353210283431554), (3789, 0.0), (3790, 0.0), (3791, 0.0), (3792, 0.00386668429337345), (3793, 0.007494177047215251), (3794, 0.016591507163598376), (3795, 0.003624891802689006), (3796, 0.0), (3797, 0.022628203062214927), (3798, 0.0), (3799, 0.005319388124674851), (3800, 0.0), (3801, 0.03568038750605739), (3802, 0.010094439316228342), (3803, 0.0), (3804, 0.005082338504017696), (3805, 0.0), (3806, 0.006799229933107332), (3807, 0.020324085351334155), (3808, 0.0), (3809, 0.004389374064389204), (3810, 0.04251858663231003), (3811, 0.003624432165116772), (3812, 0.0), (3813, 0.005534494127573047), (3814, 0.0077331469105024865), (3815, 0.007818479212877368), (3816, 0.0), (3817, 0.0), (3818, 0.0), (3819, 0.01987540694844942), (3820, 0.0), (3821, 0.012364192548180886), (3822, 0.017241078759129235), (3823, 0.006415589846365185), (3824, 0.007671693111105351), (3825, 0.009497715606101603), (3826, 0.01285158316252829), (3827, 0.007391052826151345), (3828, 0.04028421912123171), (3829, 0.011863023857406594), (3830, 0.0), (3831, 0.0), (3832, 0.007591884568101378), (3833, 0.007742717499073106), (3834, 0.0), (3835, 0.044389963422964786), (3836, 0.0), (3837, 0.0), (3838, 0.0), (3839, 0.03519707806467842), (3840, 0.0), (3841, 0.009605120381809718), (3842, 0.010650268574570866), (3843, 0.0), (3844, 0.01157649848914951), (3845, 0.004120151740588162), (3846, 0.0), (3847, 0.0), (3848, 0.008709144435923575), (3849, 0.019612292204657673), (3850, 0.007685685310061756), (3851, 0.0), (3852, 0.005970906945371852), (3853, 0.02925658984125704), (3854, 0.020598739586074805), (3855, 0.003143811136485702), (3856, 0.0), (3857, 0.03469129233543559), (3858, 0.0), (3859, 0.0), (3860, 0.015751046493176147), (3861, 0.02073618583669878), (3862, 0.021911779942784614), (3863, 0.0033749461897365457), (3864, 0.009122546057603131), (3865, 0.008267533186626843), (3866, 0.004658747857496316), (3867, 0.004828646330876539), (3868, 0.003588249741475875), (3869, 0.0), (3870, 0.0), (3871, 0.0), (3872, 0.06164357456136151), (3873, 0.004587107828602511), (3874, 0.00686806130587312), (3875, 0.025152257569875595), (3876, 0.009427180251346895), (3877, 0.004562125319784903), (3878, 0.005825124416139103), (3879, 0.0), (3880, 0.012638330662208545), (3881, 0.007747115632164573), (3882, 0.004254048456485496), (3883, 0.032221668327976905), (3884, 0.007006479345699052), (3885, 0.0), (3886, 0.006822856848879602), (3887, 0.0), (3888, 0.013827469867476901), (3889, 0.005233592135751544), (3890, 0.0038185985103597617), (3891, 0.0), (3892, 0.008363919537353319), (3893, 0.004519755486090678), (3894, 0.003407395291689147), (3895, 0.022861199732404934), (3896, 0.0), (3897, 0.010177420512626987), (3898, 0.005540256117459472), (3899, 0.013283995928524351), (3900, 0.004421736524653308), (3901, 0.016295118853237492), (3902, 0.00434468777967893), (3903, 0.016195463913941513), (3904, 0.0053646548651785945), (3905, 0.011204003133485185), (3906, 0.0037621612444891242), (3907, 0.0075412017521089445), (3908, 0.008612241430799247), (3909, 0.00943888473943774), (3910, 0.009659006889385858), (3911, 0.004763959044937232), (3912, 0.0), (3913, 0.003676483188987138), (3914, 0.0), (3915, 0.0041505601024573084), (3916, 0.0), (3917, 0.004600065676853935), (3918, 0.0), (3919, 0.01513546241294618), (3920, 0.004801603524626457), (3921, 0.0), (3922, 0.007714211928942078), (3923, 0.0), (3924, 0.01833153848848678), (3925, 0.008541179575459119), (3926, 0.01099007479671224), (3927, 0.03736833773583609), (3928, 0.004088418563416009), (3929, 0.0), (3930, 0.0), (3931, 0.0), (3932, 0.007039571465209154), (3933, 0.0), (3934, 0.03314187954900221), (3935, 0.0057880583781004585), (3936, 0.0), (3937, 0.0), (3938, 0.00839595323052765), (3939, 0.009733722715197063), (3940, 0.008107853693901781), (3941, 0.01311883566234265), (3942, 0.011800385793445972), (3943, 0.0), (3944, 0.00582166021464584), (3945, 0.008870396077507383), (3946, 0.09974729462931411), (3947, 0.02043453093092426), (3948, 0.0), (3949, 0.022466633063021255), (3950, 0.0), (3951, 0.02122989089603925), (3952, 0.007990935227192152), (3953, 0.0035348682740833945), (3954, 0.01232326620056902), (3955, 0.060809759134491735), (3956, 0.012444478029535095), (3957, 0.0172454382958428), (3958, 0.022586785212982654), (3959, 0.04354301607712906), (3960, 0.012330208633273216), (3961, 0.05017077013666925), (3962, 0.005347685837868074), (3963, 0.0), (3964, 0.0), (3965, 0.0), (3966, 0.0061896106232533585), (3967, 0.007122112509713674), (3968, 0.0), (3969, 0.0), (3970, 0.006728525790042132), (3971, 0.0), (3972, 0.0), (3973, 0.07497254675789913), (3974, 0.07340716700748423), (3975, 0.011981753350442858), (3976, 0.030011708505846293), (3977, 0.0), (3978, 0.030725762610266057), (3979, 0.0), (3980, 0.0), (3981, 0.0), (3982, 0.0), (3983, 0.00986425085442983), (3984, 0.02032844851148066), (3985, 0.0), (3986, 0.00397761291029202), (3987, 0.004399051679821186), (3988, 0.0), (3989, 0.005633221937449528), (3990, 0.008944674711318263), (3991, 0.0), (3992, 0.01932865801828485), (3993, 0.016819342769153114), (3994, 0.0), (3995, 0.007578921818665044), (3996, 0.0), (3997, 0.007989094301043225), (3998, 0.009237283131275332), (3999, 0.02556606735532876), (4000, 0.022129328218342383), (4001, 0.01055767006651972), (4002, 0.005993261001871581), (4003, 0.0), (4004, 0.0474261253046619), (4005, 0.012420596261950377), (4006, 0.0), (4007, 0.03302145423671055), (4008, 0.00981089205699277), (4009, 0.009574928094512608), (4010, 0.0), (4011, 0.003759746141736628), (4012, 0.027860969006240858), (4013, 0.014572656486823434), (4014, 0.007689857235333495), (4015, 0.003066543909632572), (4016, 0.034151433970213835), (4017, 0.006879763080897112), (4018, 0.0), (4019, 0.006969961358827361), (4020, 0.0037488040638089986), (4021, 0.0), (4022, 0.0), (4023, 0.07109811697394576), (4024, 0.005258119449686276), (4025, 0.015195295846109865), (4026, 0.0), (4027, 0.0), (4028, 0.03956636645345262), (4029, 0.0), (4030, 0.007813352276238462), (4031, 0.0), (4032, 0.01705269725982101), (4033, 0.015742703421532833), (4034, 0.0), (4035, 0.008185625849033304), (4036, 0.0038933770199924955), (4037, 0.0), (4038, 0.01150321645001372), (4039, 0.006603033356870198), (4040, 0.0), (4041, 0.0), (4042, 0.005964734108740514), (4043, 0.010468844540148108), (4044, 0.006957167997492698), (4045, 0.011370024771535895), (4046, 0.011839411916680791), (4047, 0.013002809854304095), (4048, 0.02490473819157751), (4049, 0.004099047078131583), (4050, 0.04182169648047519), (4051, 0.004307397743625847), (4052, 0.0162897029821181), (4053, 0.03752152325279154), (4054, 0.004223992476823385), (4055, 0.008479649099047634), (4056, 0.0040771659465731695), (4057, 0.010588826878832017), (4058, 0.0), (4059, 0.003760631123730892), (4060, 0.016854077956597827), (4061, 0.011512667561089053), (4062, 0.10992289905064272), (4063, 0.0), (4064, 0.0), (4065, 0.0), (4066, 0.0034879930850068436), (4067, 0.0), (4068, 0.022700761441262866), (4069, 0.003707896424318949), (4070, 0.0), (4071, 0.0069334373256824166), (4072, 0.0), (4073, 0.0), (4074, 0.003356048048365923), (4075, 0.005279901894878883), (4076, 0.007758691399777112), (4077, 0.011357594691050762), (4078, 0.0), (4079, 0.006123383817447728), (4080, 0.004182080946317004), (4081, 0.02771821543742698), (4082, 0.006557735574621806), (4083, 0.004042876653734452), (4084, 0.0), (4085, 0.003825064548614008), (4086, 0.0), (4087, 0.004756945551256927), (4088, 0.02803324159699454), (4089, 0.011303546181252927), (4090, 0.007803387694347366), (4091, 0.008432359414825933), (4092, 0.018370309103141032), (4093, 0.010709689625307968), (4094, 0.013563880461038789), (4095, 0.018570684099452013), (4096, 0.014883043933392702), (4097, 0.0), (4098, 0.014082470633240935), (4099, 0.009805856502470978), (4100, 0.0), (4101, 0.004420846708495761), (4102, 0.006515028502126535), (4103, 0.0066812591314721744), (4104, 0.0036622152168835514), (4105, 0.01260354529548627), (4106, 0.014704342206959872), (4107, 0.005370517425329773), (4108, 0.0), (4109, 0.0), (4110, 0.008260478106411593), (4111, 0.00506112479531704), (4112, 0.0), (4113, 0.004216942217339408), (4114, 0.0), (4115, 0.0), (4116, 0.02682844412588336), (4117, 0.005043451731992759), (4118, 0.013848031526417386), (4119, 0.008209518537258396), (4120, 0.009236910625256669), (4121, 0.020566198852045282), (4122, 0.014998376750739756), (4123, 0.022520020999254545), (4124, 0.01975588122512644), (4125, 0.0), (4126, 0.007552106962483894), (4127, 0.0), (4128, 0.0), (4129, 0.003969232615294299), (4130, 0.0041172891820126295), (4131, 0.0), (4132, 0.004209151491818994), (4133, 0.016020454581069217), (4134, 0.02283851277430455), (4135, 0.003826280458011011), (4136, 0.004328751417136988), (4137, 0.0037857922064325447), (4138, 0.005296093578198979), (4139, 0.0035769205120736746), (4140, 0.004517378149709091), (4141, 0.040423864114281303), (4142, 0.004083568332888698), (4143, 0.003247436436008295), (4144, 0.0), (4145, 0.005400939308352881), (4146, 0.0), (4147, 0.005452411673717278), (4148, 0.01936022991617527), (4149, 0.03322412184666216), (4150, 0.0), (4151, 0.008345627333314006), (4152, 0.003416497915597362), (4153, 0.0), (4154, 0.00893213648617479), (4155, 0.003659299913765315), (4156, 0.030885167247027782), (4157, 0.0), (4158, 0.014151848186456898), (4159, 0.0), (4160, 0.005758028639899745), (4161, 0.005329342959355582), (4162, 0.009367406403842819), (4163, 0.01981456467896059), (4164, 0.016353673359644647), (4165, 0.016815924525150284), (4166, 0.0), (4167, 0.0), (4168, 0.0), (4169, 0.004673082546587526), (4170, 0.0), (4171, 0.002775390165056342), (4172, 0.0101963452245085), (4173, 0.0), (4174, 0.0032940974056116738), (4175, 0.07399292956040966), (4176, 0.0313392730553592), (4177, 0.051825405320277566), (4178, 0.022129707932944304), (4179, 0.0), (4180, 0.0), (4181, 0.0), (4182, 0.009816539464102396), (4183, 0.00386246258909435), (4184, 0.011381133458691003), (4185, 0.0), (4186, 0.0), (4187, 0.01658615397858184), (4188, 0.0), (4189, 0.032990493384726344), (4190, 0.0), (4191, 0.0), (4192, 0.013458575260549357), (4193, 0.007110900778759093), (4194, 0.0), (4195, 0.0), (4196, 0.011240087787771788), (4197, 0.003910963682311382), (4198, 0.0), (4199, 0.0), (4200, 0.002903089874958197), (4201, 0.0), (4202, 0.008251191368400577), (4203, 0.03423782449447735), (4204, 0.0), (4205, 0.01193045285228963), (4206, 0.00422029195709615), (4207, 0.0), (4208, 0.011152170032895906), (4209, 0.006283847222072107), (4210, 0.009629560000810769), (4211, 0.006692875362870331), (4212, 0.0), (4213, 0.005092210326619158), (4214, 0.0), (4215, 0.0), (4216, 0.01707769712634194), (4217, 0.00979860914582314), (4218, 0.0), (4219, 0.014210999373175175), (4220, 0.003523080800133303), (4221, 0.009356649525540309), (4222, 0.008394873412789664), (4223, 0.0), (4224, 0.0), (4225, 0.005397675020158645), (4226, 0.01406345984693083), (4227, 0.022515190211891904), (4228, 0.0065676221668482335), (4229, 0.0), (4230, 0.008912446909929008), (4231, 0.035904904702774645), (4232, 0.01375694838093815), (4233, 0.01181197246622992), (4234, 0.0), (4235, 0.017171082431715043), (4236, 0.010410704387165999), (4237, 0.0), (4238, 0.0), (4239, 0.0), (4240, 0.008191800646383912), (4241, 0.0), (4242, 0.05136182624460871), (4243, 0.007642156563514839), (4244, 0.03260123335071153), (4245, 0.004387749166356406), (4246, 0.024250571590567052), (4247, 0.003474075137925775), (4248, 0.007124257541571683), (4249, 0.012745341574281187), (4250, 0.0), (4251, 0.00863889551657583), (4252, 0.09315043203411548), (4253, 0.0), (4254, 0.005369668794341044), (4255, 0.022048278007478446), (4256, 0.0), (4257, 0.012174277050168276), (4258, 0.0), (4259, 0.004850168226296417), (4260, 0.0), (4261, 0.007639774200180637), (4262, 0.004400931655740269), (4263, 0.004483214469308052), (4264, 0.007991304557899545), (4265, 0.01987883829216333), (4266, 0.0045512523481673044), (4267, 0.004642059497766224), (4268, 0.08089286561333454), (4269, 0.00476314490927204), (4270, 0.0), (4271, 0.0), (4272, 0.010203807353614881), (4273, 0.004442346581236554), (4274, 0.00648058264544162), (4275, 0.007804963705371635), (4276, 0.0), (4277, 0.003638732180034275), (4278, 0.0), (4279, 0.0), (4280, 0.0051417427068031615), (4281, 0.04218889347387371), (4282, 0.010082901183273051), (4283, 0.03804174291659565), (4284, 0.011622839607559405), (4285, 0.011200065011925192), (4286, 0.0043186182825037), (4287, 0.004777307972680036), (4288, 0.04169748466851576), (4289, 0.012372527407742914), (4290, 0.006494322958682109), (4291, 0.0), (4292, 0.007763359572275612), (4293, 0.020243507796505425), (4294, 0.0), (4295, 0.005021014759639324), (4296, 0.004370515527055264), (4297, 0.0), (4298, 0.0071460879388286465), (4299, 0.01067979272693357), (4300, 0.0), (4301, 0.004564864248565107), (4302, 0.0), (4303, 0.0091329880737915), (4304, 0.004444475128328897), (4305, 0.0), (4306, 0.006062176433923161), (4307, 0.00927897683790917), (4308, 0.005999309680363239), (4309, 0.011732714329577662), (4310, 0.008363846093169107), (4311, 0.005008787298075287), (4312, 0.008272796402542894), (4313, 0.0), (4314, 0.023113536211006494), (4315, 0.0), (4316, 0.0), (4317, 0.0), (4318, 0.005420576831620943), (4319, 0.0), (4320, 0.004207045479232011), (4321, 0.02366450243858269), (4322, 0.006995708216173435), (4323, 0.0), (4324, 0.0), (4325, 0.01650953458902596), (4326, 0.004962874544605399), (4327, 0.0), (4328, 0.006528508872140224), (4329, 0.0), (4330, 0.004259164888093974), (4331, 0.01077851359029114), (4332, 0.0), (4333, 0.005103568708354984), (4334, 0.004396885353802415), (4335, 0.012399320388841333), (4336, 0.013463269933314417), (4337, 0.021668619356875703), (4338, 0.0), (4339, 0.006680719793533957), (4340, 0.004334184844026872), (4341, 0.0), (4342, 0.010259260192975211), (4343, 0.004219999518408353), (4344, 0.01636445497353301), (4345, 0.003634775377872415), (4346, 0.0), (4347, 0.0), (4348, 0.004069099825624319), (4349, 0.028410926728665388), (4350, 0.0033296391356366223), (4351, 0.012064848623545411), (4352, 0.0), (4353, 0.0), (4354, 0.004614204465575009), (4355, 0.004000591071823373), (4356, 0.003967441637886334), (4357, 0.0048384025662380195), (4358, 0.0), (4359, 0.003579967697052335), (4360, 0.007506452192526018), (4361, 0.005311723913280967), (4362, 0.06473609827868522), (4363, 0.0046223987901726155), (4364, 0.0), (4365, 0.005747274524965538), (4366, 0.017118146537461198), (4367, 0.009835981537222458), (4368, 0.004826435680312083), (4369, 0.005329966653595115), (4370, 0.0), (4371, 0.01562540809230893), (4372, 0.0), (4373, 0.007519782519412692), (4374, 0.02092745607507636), (4375, 0.13620990204211153), (4376, 0.007220312892500435), (4377, 0.007873687660602879), (4378, 0.07013313408197189), (4379, 0.022692990808857432), (4380, 0.03228526778578491), (4381, 0.004028238389312721), (4382, 0.03170475945169158), (4383, 0.007772731569873927), (4384, 0.007811553409820542), (4385, 0.008790139140721668), (4386, 0.004539486036785623), (4387, 0.02149222592708013), (4388, 0.010056677177663674), (4389, 0.008732499284479169), (4390, 0.014293014950371852), (4391, 0.005191597837430367), (4392, 0.007629850205241085), (4393, 0.0), (4394, 0.003882914909943155), (4395, 0.037783167604364246), (4396, 0.05920570488499653), (4397, 0.00486336711783119), (4398, 0.035859428502425045), (4399, 0.026171234955489214), (4400, 0.007666780271865743), (4401, 0.004672140287430903), (4402, 0.009778995467941271), (4403, 0.06688372758081718), (4404, 0.0), (4405, 0.0), (4406, 0.0), (4407, 0.0056529202459381445), (4408, 0.0), (4409, 0.004821885307753829), (4410, 0.0), (4411, 0.0032940816781256627), (4412, 0.017294885871361774), (4413, 0.0), (4414, 0.0), (4415, 0.0), (4416, 0.005694210917699051), (4417, 0.0), (4418, 0.006850619273805536), (4419, 0.006416042724103973), (4420, 0.0040612234603607834), (4421, 0.0), (4422, 0.004490230001589638), (4423, 0.007992303661362537), (4424, 0.0), (4425, 0.0), (4426, 0.006616633696053815), (4427, 0.004216917248583624), (4428, 0.003357443186337603), (4429, 0.003657488559197855), (4430, 0.012556306294736145), (4431, 0.01631279590364313), (4432, 0.00941722775739947), (4433, 0.0), (4434, 0.0), (4435, 0.014949304736756432), (4436, 0.03741346264448977), (4437, 0.0), (4438, 0.007072366642802172), (4439, 0.0), (4440, 0.03339131086236342), (4441, 0.007322063543230928), (4442, 0.013809166697316065), (4443, 0.016125362658143023), (4444, 0.01941425581891519), (4445, 0.0032045139495049963), (4446, 0.00432897084479057), (4447, 0.0), (4448, 0.004731704933909824), (4449, 0.0), (4450, 0.0410775308552432), (4451, 0.0), (4452, 0.0), (4453, 0.0), (4454, 0.0), (4455, 0.0), (4456, 0.07491521281710149), (4457, 0.0), (4458, 0.007642156563514839), (4459, 0.009017283849540212), (4460, 0.0), (4461, 0.005497616638422122), (4462, 0.008448466022934854), (4463, 0.0), (4464, 0.011420229316810901), (4465, 0.030399790566775945), (4466, 0.03514113023311051), (4467, 0.011623119081235726), (4468, 0.006122208128465912), (4469, 0.03475549525724438), (4470, 0.011836448629399053), (4471, 0.0051057449967826535), (4472, 0.003912916513032204), (4473, 0.0032404833736425485), (4474, 0.025576385158436264), (4475, 0.024839335578274002), (4476, 0.0034095046644687516), (4477, 0.02110905388403854), (4478, 0.0), (4479, 0.0033306899414150227), (4480, 0.0), (4481, 0.01628366178234523), (4482, 0.024759665711244664), (4483, 0.0), (4484, 0.006732682859480781), (4485, 0.0), (4486, 0.022343633690997636), (4487, 0.003843870746149695), (4488, 0.006140850079370092), (4489, 0.004261141962625607), (4490, 0.014970579486242861), (4491, 0.0), (4492, 0.030360830748434757), (4493, 0.0), (4494, 0.012584324919280198), (4495, 0.004310432036554029), (4496, 0.0), (4497, 0.0048652761347444465), (4498, 0.0), (4499, 0.0), (4500, 0.0), (4501, 0.004366992695424497), (4502, 0.013327603400916294), (4503, 0.022466680121744517), (4504, 0.026663422111930873), (4505, 0.004956261271579636), (4506, 0.0), (4507, 0.0054169876781841484), (4508, 0.0), (4509, 0.0), (4510, 0.020336375066071524), (4511, 0.015140338414760252), (4512, 0.044268646391145146), (4513, 0.006340770917892515), (4514, 0.019079271392134348), (4515, 0.010021471124025527), (4516, 0.00518728144353601), (4517, 0.016347828063327276), (4518, 0.010503093165601305), (4519, 0.0), (4520, 0.004302180642316401), (4521, 0.008071452860066436), (4522, 0.021388567587881536), (4523, 0.009937647831535636), (4524, 0.02395962299636416), (4525, 0.0), (4526, 0.0), (4527, 0.009897163350879687), (4528, 0.005402848684609188), (4529, 0.006632281058011033), (4530, 0.0039365263836525135), (4531, 0.023970033847637476), (4532, 0.0), (4533, 0.013018315346680197), (4534, 0.03871115885956409), (4535, 0.004511454223122386), (4536, 0.00400125871498476), (4537, 0.0169241767095165), (4538, 0.07697766223651387), (4539, 0.0), (4540, 0.00876256211830168), (4541, 0.0), (4542, 0.0), (4543, 0.020949986675261226), (4544, 0.007193285525319851), (4545, 0.004468135751346064), (4546, 0.018694352355856755), (4547, 0.0), (4548, 0.007338753368877924), (4549, 0.0), (4550, 0.003393380047070008), (4551, 0.01718556193073139), (4552, 0.007892928109227102), (4553, 0.01605427480412471), (4554, 0.042649064742997886), (4555, 0.005930107317176376), (4556, 0.0), (4557, 0.011203468045619256), (4558, 0.0), (4559, 0.0), (4560, 0.0), (4561, 0.0), (4562, 0.0), (4563, 0.004180702617123614), (4564, 0.009930475008142505), (4565, 0.0), (4566, 0.004463247510435168), (4567, 0.003995672610899471), (4568, 0.0), (4569, 0.0), (4570, 0.0), (4571, 0.011729631927830062), (4572, 0.00876256211830168), (4573, 0.00601018353049851), (4574, 0.0042081698439810755), (4575, 0.0046048953701952845), (4576, 0.019525236350367174), (4577, 0.0), (4578, 0.0), (4579, 0.016132251138986385), (4580, 0.0), (4581, 0.0108893694023312), (4582, 0.006555995657350728), (4583, 0.02517766031864158), (4584, 0.004873716575899567), (4585, 0.006959703915159269), (4586, 0.008522962364795848), (4587, 0.007583053084097527), (4588, 0.0), (4589, 0.005619910253361014), (4590, 0.009620656588002931), (4591, 0.009776259853207162), (4592, 0.0), (4593, 0.016082339184193706), (4594, 0.0057864970655178575), (4595, 0.009013307822905445), (4596, 0.017115571150368134), (4597, 0.0), (4598, 0.003541747130522208), (4599, 0.0), (4600, 0.0), (4601, 0.012483844753865611), (4602, 0.004567364459062161), (4603, 0.016275096296590536), (4604, 0.004846464844026153), (4605, 0.015975871663917694), (4606, 0.006641302863609783), (4607, 0.006394394667125761), (4608, 0.0037743584463909665), (4609, 0.0), (4610, 0.02153877676619533), (4611, 0.008233707245789678), (4612, 0.01498888711690451), (4613, 0.0), (4614, 0.14020887304316718), (4615, 0.0), (4616, 0.004584232256178063), (4617, 0.03483114256811261), (4618, 0.0), (4619, 0.0206459445872383), (4620, 0.003595913760393985), (4621, 0.008035880207550207), (4622, 0.0), (4623, 0.01888716363187691), (4624, 0.010930109605478258), (4625, 0.005375272305652871), (4626, 0.003453532735833123), (4627, 0.02234246589286612), (4628, 0.0), (4629, 0.013452581364506454), (4630, 0.00927038778378637), (4631, 0.0), (4632, 0.007642156563514839), (4633, 0.004693827148217865), (4634, 0.0035725938732251157), (4635, 0.0), (4636, 0.003649296867712168), (4637, 0.034802520520274244), (4638, 0.004524859508251633), (4639, 0.007294991888665702), (4640, 0.02577397192484435), (4641, 0.05316730225637212), (4642, 0.011323990719327886), (4643, 0.004425291913515997), (4644, 0.0), (4645, 0.0), (4646, 0.01186292051852818), (4647, 0.0), (4648, 0.0), (4649, 0.012297424819843108), (4650, 0.004707701146500388), (4651, 0.0), (4652, 0.011907563311390893), (4653, 0.009884377608568468), (4654, 0.0), (4655, 0.0), (4656, 0.01393468198706495), (4657, 0.004768341052336546), (4658, 0.029670577867605318), (4659, 0.0), (4660, 0.016781686937152214), (4661, 0.00965359278166578), (4662, 0.0), (4663, 0.07538700555968772), (4664, 0.013502376912967141), (4665, 0.008632502271524845), (4666, 0.017703627490981536), (4667, 0.0), (4668, 0.004974956209731356), (4669, 0.025198241009858784), (4670, 0.011802933890814517), (4671, 0.0), (4672, 0.0), (4673, 0.022140318957523893), (4674, 0.01051683882275208), (4675, 0.0), (4676, 0.0), (4677, 0.01088761441985437), (4678, 0.007178556780099551), (4679, 0.030168369040607657), (4680, 0.004494738742855976), (4681, 0.0), (4682, 0.034993042807862265), (4683, 0.0), (4684, 0.043302747961946095), (4685, 0.017470885391461455), (4686, 0.004157300641648433), (4687, 0.0039014515672071795), (4688, 0.0), (4689, 0.06469105647833258), (4690, 0.0), (4691, 0.013257026957443645), (4692, 0.006144964150713961), (4693, 0.006399915436120991), (4694, 0.005458600734180701), (4695, 0.021075683934301655), (4696, 0.007744798269820096), (4697, 0.0068571867648361), (4698, 0.01517931096229004), (4699, 0.015630050224564783), (4700, 0.0), (4701, 0.05067698588647215), (4702, 0.0), (4703, 0.007143529820421426), (4704, 0.00832750025692203), (4705, 0.0068627717151540195), (4706, 0.00727325575802993), (4707, 0.014404408382990924), (4708, 0.0073601222463204885), (4709, 0.031888617973314604), (4710, 0.02053535320975854), (4711, 0.0), (4712, 0.004071908262500094), (4713, 0.006668407579514662), (4714, 0.0), (4715, 0.012095173570201954), (4716, 0.0), (4717, 0.008664068101643458), (4718, 0.007754721303543038), (4719, 0.005927033855839014), (4720, 0.0), (4721, 0.010079716524923928), (4722, 0.03977595040412662), (4723, 0.007214276173652514), (4724, 0.04677677278738138), (4725, 0.0), (4726, 0.009766325336589348), (4727, 0.014716058742730713), (4728, 0.0), (4729, 0.006219004707291802), (4730, 0.0), (4731, 0.049922213714320915), (4732, 0.004663256561420696), (4733, 0.009371771413787623), (4734, 0.006741074112736782), (4735, 0.03902672279510688), (4736, 0.0), (4737, 0.0), (4738, 0.010728394305232196), (4739, 0.039826444877215525), (4740, 0.0), (4741, 0.0), (4742, 0.0), (4743, 0.004416434989553051), (4744, 0.004599018626081137), (4745, 0.0), (4746, 0.012093163905950631), (4747, 0.029066236326293095), (4748, 0.011740953222375613), (4749, 0.007514616088049885), (4750, 0.0), (4751, 0.0), (4752, 0.0029338678007044794), (4753, 0.00854246891924055), (4754, 0.0), (4755, 0.0), (4756, 0.005099641344634075), (4757, 0.012191024963766894), (4758, 0.0), (4759, 0.0)]\n"
          ]
        }
      ]
    },
    {
      "cell_type": "code",
      "source": [
        "len(Recommendation_Score)"
      ],
      "metadata": {
        "colab": {
          "base_uri": "https://localhost:8080/"
        },
        "id": "nC9ylSOplZwX",
        "outputId": "66014ae3-6da4-4641-a1bf-8b359a1a748e"
      },
      "execution_count": 30,
      "outputs": [
        {
          "output_type": "execute_result",
          "data": {
            "text/plain": [
              "4760"
            ]
          },
          "metadata": {},
          "execution_count": 30
        }
      ]
    },
    {
      "cell_type": "markdown",
      "source": [
        "**Get All Movies Sort Based on Recommendation Score wrt Favourite Movie**"
      ],
      "metadata": {
        "id": "sanCFpXdm4GN"
      }
    },
    {
      "cell_type": "code",
      "source": [
        "Sorted_Similar_Movies=sorted(Recommendation_Score,key=lambda x:x[1],reverse=True)\n",
        "print(Sorted_Similar_Movies)"
      ],
      "metadata": {
        "colab": {
          "base_uri": "https://localhost:8080/"
        },
        "id": "OQXTs6-KnNAj",
        "outputId": "312b7c53-4bb3-471b-8843-c518135dff2d"
      },
      "execution_count": 31,
      "outputs": [
        {
          "output_type": "stream",
          "name": "stdout",
          "text": [
            "[(2692, 1.0000000000000002), (1070, 0.17262358715046028), (2903, 0.16322694403720855), (4614, 0.14020887304316718), (4375, 0.13620990204211153), (2558, 0.13122982456798782), (45, 0.12643541930321367), (628, 0.12351152114121296), (1341, 0.11077552629849736), (4062, 0.10992289905064272), (62, 0.10131523241194043), (675, 0.10126400763298855), (3946, 0.09974729462931411), (4252, 0.09315043203411548), (590, 0.09093113708539446), (1383, 0.09083456688402344), (3728, 0.09013015276091167), (2538, 0.08977526349728222), (2846, 0.08932013544111463), (1148, 0.08648434772381793), (2985, 0.08620203855834117), (227, 0.08510235455037435), (3465, 0.08426638836513889), (1243, 0.0838381651392841), (2214, 0.08359656019059011), (3360, 0.08153207750356437), (2191, 0.08111065630209834), (4268, 0.08089286561333454), (823, 0.0805212897738514), (2694, 0.08047105999301116), (1994, 0.08036551643765738), (3374, 0.08007737975602405), (137, 0.07894392941188844), (292, 0.07885345589862612), (2026, 0.07864213809327213), (873, 0.07824868462977985), (4538, 0.07697766223651387), (2343, 0.0765815899468926), (3326, 0.07545103598502458), (4663, 0.07538700555968772), (2248, 0.0752615322837388), (3973, 0.07497254675789913), (4456, 0.07491521281710149), (1320, 0.07469473391326133), (213, 0.07413388093963477), (4175, 0.07399292956040966), (2133, 0.07372275789539834), (3974, 0.07340716700748423), (1023, 0.07330748519037289), (3655, 0.07304612694153584), (172, 0.07299228398729785), (3249, 0.07290773767391823), (2151, 0.07211188175943449), (2374, 0.0719851413054428), (2109, 0.07148949017125474), (4023, 0.07109811697394576), (4378, 0.07013313408197189), (2653, 0.06973836617554748), (877, 0.06911066383676324), (3294, 0.0689926739972758), (1302, 0.06813869866688102), (3746, 0.06804571732036159), (1821, 0.0677352702836168), (4403, 0.06688372758081718), (2187, 0.06625301427525655), (3209, 0.06584328633791953), (1203, 0.06531695698881014), (328, 0.06510049248993742), (2550, 0.06494909344653989), (67, 0.06488598595254715), (2869, 0.06481395693945102), (4362, 0.06473609827868522), (4689, 0.06469105647833258), (1292, 0.064478173315939), (412, 0.0640901659312949), (3518, 0.06401950792525692), (438, 0.06355859813247598), (2321, 0.06344798050965988), (277, 0.06329859178352207), (1248, 0.06311561318326336), (44, 0.0624536966818329), (3872, 0.06164357456136151), (1393, 0.061365242535609356), (2408, 0.06122532346502252), (2155, 0.06094440966294321), (3486, 0.060844357097416146), (3955, 0.060809759134491735), (1850, 0.06070552048847247), (2308, 0.06050336390968018), (3010, 0.0602306969750803), (1527, 0.0602036619610324), (4396, 0.05920570488499653), (360, 0.058592662655440664), (2375, 0.058122103741070005), (2859, 0.05762058511651993), (1982, 0.05755567906064876), (109, 0.05734068052539986), (3377, 0.0571872476676472), (694, 0.0563193598134647), (2716, 0.05626210472532426), (2540, 0.05622120405886702), (1506, 0.05602742709528164), (1871, 0.05576207606412112), (3102, 0.055586118890419756), (3280, 0.05538218975539787), (1568, 0.055293692316952574), (126, 0.055259019709008275), (1134, 0.05483691302712369), (3157, 0.0546535700716336), (3498, 0.05424537089149485), (1676, 0.05407375400109071), (1991, 0.053922394843397926), (84, 0.053822643418971985), (3127, 0.053629356730227194), (108, 0.05361420627151752), (2751, 0.053173749756414465), (4641, 0.05316730225637212), (3675, 0.053115385195731474), (1311, 0.052864904379067316), (2123, 0.05272562154966831), (2622, 0.05247689134808685), (1118, 0.05243787989903103), (3597, 0.05196632940848811), (4177, 0.051825405320277566), (830, 0.05172387072943688), (2768, 0.05146804472955867), (911, 0.05138723760383277), (4242, 0.05136182624460871), (3463, 0.05117599579911089), (1389, 0.05109167158671015), (2908, 0.05082497524141505), (2807, 0.05072827525002594), (4701, 0.05067698588647215), (3045, 0.050621970766190634), (818, 0.050464882444470074), (710, 0.05041716299374749), (578, 0.05040823076210392), (3351, 0.050392676618311094), (3556, 0.050333999500919865), (3961, 0.05017077013666925), (540, 0.05007728817181382), (4731, 0.049922213714320915), (1367, 0.049804406966924994), (1272, 0.049709071657847145), (1379, 0.04955737714944699), (179, 0.049290132764740084), (1868, 0.04924371830292569), (282, 0.049210046497471654), (2122, 0.04867098706976497), (65, 0.048296229368100484), (3480, 0.048230621280421375), (334, 0.04822800431944482), (2822, 0.048082319535332665), (864, 0.04794927269571169), (1043, 0.04783312369951356), (2932, 0.04775243461500446), (935, 0.04773409538599048), (2147, 0.047707993612064084), (387, 0.04751613694676915), (4004, 0.0474261253046619), (112, 0.047337290332307276), (4724, 0.04677677278738138), (1648, 0.04664360531655801), (2638, 0.046486158999770794), (3154, 0.04639310968570509), (2037, 0.04612909975516556), (1464, 0.0461081946243932), (3137, 0.04610200929488921), (3376, 0.045607582292821996), (2023, 0.045432085342774216), (1795, 0.045351660541249714), (629, 0.04530047487030503), (3466, 0.045175515764732846), (670, 0.04508222289359311), (166, 0.045059835085952904), (2621, 0.044964630740247674), (2876, 0.044875100896006), (1068, 0.04486574567807121), (976, 0.04477214807991634), (1750, 0.04439310435933886), (3835, 0.044389963422964786), (519, 0.04436388710305431), (4512, 0.044268646391145146), (1173, 0.044225142422347846), (1788, 0.044129220551866494), (465, 0.04393932578391897), (2275, 0.04393887138981652), (3095, 0.04390520193609414), (2649, 0.04380334877931236), (530, 0.04375663943878257), (2014, 0.04373715565980088), (3959, 0.04354301607712906), (1970, 0.043444936731333324), (4684, 0.043302747961946095), (952, 0.0431928697910334), (1046, 0.04317401862654943), (832, 0.043140041605698315), (371, 0.04309087316737616), (1162, 0.043083413923790406), (4554, 0.042649064742997886), (3810, 0.04251858663231003), (2154, 0.04251776075655345), (2791, 0.042354367390072305), (4281, 0.04218889347387371), (1721, 0.041988946837577194), (193, 0.04191510935446152), (4050, 0.04182169648047519), (2560, 0.04180831712443041), (4288, 0.04169748466851576), (1405, 0.04168055684519797), (1314, 0.04164596044890159), (2481, 0.0415325917733779), (2114, 0.0415159140029976), (2487, 0.041472963787490005), (3119, 0.04123031385199133), (3313, 0.04115887438409922), (4450, 0.0410775308552432), (3285, 0.04085703914917234), (1363, 0.0407401554145507), (2944, 0.04071832672443673), (836, 0.040681178460186394), (4141, 0.040423864114281303), (1847, 0.040380907242845425), (3828, 0.04028421912123171), (3447, 0.04018341896242257), (3692, 0.040142544023351635), (2040, 0.03998101578299343), (2221, 0.039980165248741935), (4739, 0.039826444877215525), (4722, 0.03977595040412662), (1572, 0.03968381694335131), (1030, 0.03968174042286406), (1500, 0.039676455981924576), (2276, 0.03958462588024918), (4028, 0.03956636645345262), (2443, 0.039562242401369914), (3553, 0.03955501986839424), (3344, 0.03952502146625435), (942, 0.03922751747089345), (2294, 0.03907734216713989), (1845, 0.039032026424686096), (4735, 0.03902672279510688), (29, 0.038937404321633506), (4534, 0.03871115885956409), (2011, 0.038658576835883224), (3012, 0.03852793276954128), (2689, 0.03851480578996659), (3019, 0.038260895442993395), (3446, 0.03822357796577279), (4283, 0.03804174291659565), (4395, 0.037783167604364246), (3450, 0.03764945755684024), (3684, 0.03755235503814716), (4053, 0.03752152325279154), (2096, 0.03743616711093781), (3222, 0.03741397629449375), (4436, 0.03741346264448977), (2362, 0.03737270019835909), (3927, 0.03736833773583609), (967, 0.03735175571755147), (2762, 0.03713139599441341), (3652, 0.03688244709384845), (381, 0.036766568451683704), (1412, 0.03674832112268891), (124, 0.03672747122288518), (2618, 0.03665953075268548), (947, 0.03664954953635833), (2094, 0.03664787841535138), (345, 0.03623684357183881), (1997, 0.03608442354781702), (1141, 0.036048320139554724), (116, 0.03599520167505195), (657, 0.03592741707801276), (4231, 0.035904904702774645), (2777, 0.03587055487320631), (4398, 0.035859428502425045), (2112, 0.03579011696079501), (1544, 0.03570041448889025), (3801, 0.03568038750605739), (3384, 0.03558336774342633), (2712, 0.0355506713628387), (613, 0.03554299635765702), (3345, 0.03552137285011775), (1369, 0.03550715685078578), (269, 0.03545189394815357), (1861, 0.035392092867333164), (2368, 0.03523871418415284), (3778, 0.035209513289318956), (3839, 0.03519707806467842), (1515, 0.03518026208579225), (4466, 0.03514113023311051), (4682, 0.034993042807862265), (3711, 0.0349572829294376), (4617, 0.03483114256811261), (1996, 0.03480446738602119), (4637, 0.034802520520274244), (3420, 0.0347696937937786), (4469, 0.03475549525724438), (968, 0.03470835301496068), (3857, 0.03469129233543559), (1985, 0.03468916467218622), (3153, 0.03461111167059269), (779, 0.03450345116095374), (1585, 0.03441763190962466), (175, 0.034412607104950026), (1935, 0.034348824568432336), (4203, 0.03423782449447735), (4016, 0.034151433970213835), (2174, 0.0341081637960685), (2484, 0.03409286397946553), (68, 0.0340863992190299), (261, 0.03407689645116405), (2318, 0.034048180959967075), (1033, 0.0340217725613988), (2440, 0.034015968903933706), (1942, 0.03397859547860006), (2647, 0.033903761002153254), (2210, 0.033794496299175275), (3228, 0.03365451609162674), (515, 0.03340830696225072), (4440, 0.03339131086236342), (1015, 0.03334467354964457), (795, 0.03323515813624854), (4149, 0.03322412184666216), (3471, 0.033222598485036704), (888, 0.03321326698800646), (1505, 0.033174131841445346), (1865, 0.033167371319037124), (3934, 0.03314187954900221), (824, 0.033077751606590954), (4007, 0.03302145423671055), (4189, 0.032990493384726344), (2501, 0.03298668880831258), (33, 0.03291100328480603), (1675, 0.03287805444193326), (3483, 0.03282799681637325), (1270, 0.03282113490435415), (691, 0.032769060935602196), (763, 0.03276719970233867), (3433, 0.03265903632980473), (2668, 0.03263533108728087), (1671, 0.032627561115078155), (4244, 0.03260123335071153), (442, 0.03247426729721131), (1817, 0.03241354242245617), (1629, 0.03236695612045439), (1927, 0.032361327483723154), (4380, 0.03228526778578491), (3352, 0.03223938695914663), (3883, 0.032221668327976905), (3504, 0.03219117195081238), (1385, 0.03215167253387588), (1257, 0.0319983111036059), (2795, 0.031981425076639716), (3665, 0.03195494556416848), (4709, 0.031888617973314604), (15, 0.031762320716661324), (4382, 0.03170475945169158), (706, 0.03168116406855569), (870, 0.031435045241785115), (1510, 0.0313799464258437), (2149, 0.031346512125993674), (4176, 0.0313392730553592), (2607, 0.03125371517403042), (455, 0.031170755230598778), (1492, 0.031167840792625044), (2995, 0.031167319352163565), (3492, 0.031157303820812457), (3766, 0.031104719080926588), (88, 0.031042086541845305), (2808, 0.031004130644195535), (2598, 0.03100263571591903), (4156, 0.030885167247027782), (3097, 0.030861843555626718), (1386, 0.030779807821917887), (3144, 0.03072576917516666), (3978, 0.030725762610266057), (986, 0.0306302463302688), (2237, 0.030538162016130802), (3000, 0.030434281373986842), (1003, 0.030413247322402158), (4465, 0.030399790566775945), (4492, 0.030360830748434757), (1362, 0.03032114340404496), (2736, 0.030318210447637533), (2353, 0.030218095142728284), (4679, 0.030168369040607657), (1052, 0.030099798892132525), (2939, 0.030060836357004097), (3976, 0.030011708505846293), (1707, 0.029990563220091956), (1261, 0.029950473138272912), (2524, 0.029929136002704644), (210, 0.02989036946260474), (2229, 0.029874024380781718), (2301, 0.029855185997474474), (1843, 0.02984543993341686), (329, 0.029831130813244074), (1678, 0.029827358417182617), (1017, 0.02979098735383822), (2055, 0.02976877553330036), (1838, 0.029709612721353196), (2464, 0.02970027799409072), (1132, 0.02967420339688929), (4658, 0.029670577867605318), (2406, 0.02965694469946071), (1064, 0.029642046059465046), (3469, 0.02963615716380363), (83, 0.02948113768011107), (2468, 0.029434739101434623), (2582, 0.029430256478595648), (643, 0.02936581239981855), (145, 0.029341208384304228), (768, 0.029302033901724617), (2207, 0.029280622583679455), (3853, 0.02925658984125704), (929, 0.029242923395798263), (4747, 0.029066236326293095), (3708, 0.029018039290265692), (46, 0.028990894351015505), (669, 0.028944897327064754), (2849, 0.028853554544313126), (2650, 0.02880337976327857), (794, 0.02875203152035964), (1471, 0.028733010088806604), (860, 0.028712144038663685), (3661, 0.028700069608751475), (2645, 0.02869816835176041), (689, 0.028668755952969874), (3508, 0.02861323758934453), (3713, 0.02857018575382573), (199, 0.028478791515596708), (1358, 0.028455682900995406), (4349, 0.028410926728665388), (2727, 0.02833664182231394), (2469, 0.028206208674987174), (342, 0.028195756623810363), (2654, 0.028156126970853193), (3086, 0.028141891200232264), (2867, 0.028133544232339554), (1443, 0.028106077665529222), (450, 0.02808575016181549), (4088, 0.02803324159699454), (1074, 0.027997983691509715), (2513, 0.027973056368961097), (566, 0.02796882125477232), (1493, 0.027940615151922168), (1202, 0.027870761508209906), (4012, 0.027860969006240858), (4081, 0.02771821543742698), (1609, 0.027712393018366904), (1872, 0.02770799769438272), (1937, 0.02764847026221134), (3111, 0.02762829091809424), (533, 0.027560379708915398), (463, 0.02743524823590803), (61, 0.02736991356033347), (406, 0.027350228127619912), (1129, 0.027325439273371128), (3275, 0.027317065249757383), (204, 0.02728842457906285), (160, 0.027258271938045142), (1058, 0.027234834217350866), (904, 0.02722465980538788), (3312, 0.027219632678272994), (123, 0.02712536695884077), (429, 0.027122978371719626), (3091, 0.02709370567354221), (2823, 0.027083645256151978), (437, 0.027077045919272708), (3403, 0.027022531760740848), (330, 0.02701889251797119), (3284, 0.026995637010719796), (1655, 0.02697147030363476), (1112, 0.02690890595413942), (796, 0.026859086217391526), (4116, 0.02682844412588336), (2258, 0.026751475808576806), (1384, 0.026730808210690935), (1274, 0.026706041053751465), (4504, 0.026663422111930873), (2167, 0.02656136866008516), (760, 0.02655054082951175), (3226, 0.02644462891136741), (458, 0.02643252717572832), (1275, 0.026428112668380032), (776, 0.026396196241898068), (3521, 0.02638423469736107), (1716, 0.02632097072922889), (1175, 0.026295951840162545), (701, 0.026271048568475043), (3416, 0.02626902709062344), (173, 0.02620495694157564), (4399, 0.026171234955489214), (142, 0.026148112532964098), (364, 0.026147170828704856), (2110, 0.026107572880632167), (3541, 0.026069901076268415), (21, 0.025982647815282638), (296, 0.02597769788824658), (3528, 0.025971451057175906), (2035, 0.025923933304107822), (1245, 0.02589314885161671), (1045, 0.025887474473646904), (2742, 0.02583164784855838), (1878, 0.02581662193326296), (937, 0.02580563753337161), (3085, 0.025793451094136367), (4640, 0.02577397192484435), (1512, 0.025679632134838384), (1365, 0.025674503601297853), (2553, 0.0256536692408557), (144, 0.025646271752431192), (2961, 0.02563008315818658), (3395, 0.025629901454595868), (3640, 0.0256090072621914), (3279, 0.025604587821943636), (209, 0.02559145821369684), (4474, 0.025576385158436264), (3999, 0.02556606735532876), (1759, 0.025530885680092923), (1226, 0.025494381035996286), (252, 0.025476959908242714), (1264, 0.025459665372809626), (147, 0.02540329232296333), (677, 0.025402798386425816), (3036, 0.025399897916225045), (1579, 0.025353273738909433), (2745, 0.025351006684851483), (1591, 0.02530829033123049), (808, 0.025308006299631567), (905, 0.025288665217973738), (48, 0.025271369013675358), (3642, 0.02526471546699318), (553, 0.025260864379658642), (222, 0.02519904691490807), (4669, 0.025198241009858784), (4583, 0.02517766031864158), (358, 0.02516215144821383), (3875, 0.025152257569875595), (1184, 0.025149165798203317), (551, 0.02497979474979343), (1241, 0.024975294845742974), (876, 0.02496245400387258), (3098, 0.024951366454236772), (343, 0.024938181478242775), (409, 0.024930366225886482), (4048, 0.02490473819157751), (470, 0.02489686064376498), (3129, 0.024880911139081117), (3362, 0.02486622961843939), (4475, 0.024839335578274002), (3694, 0.024826686486318125), (2070, 0.0248204895206263), (2841, 0.024808193105735267), (1445, 0.024781908697344656), (4482, 0.024759665711244664), (916, 0.024703809009407763), (3558, 0.0246996806609351), (673, 0.02469750992403747), (3437, 0.024641688408327846), (3210, 0.024634089510637433), (3349, 0.02461971394231953), (1853, 0.024592656092299076), (2290, 0.02455369951342027), (203, 0.024545306276195233), (212, 0.024532303253963664), (3299, 0.02452060099812313), (1325, 0.02450733791337839), (2093, 0.024415224947751495), (3043, 0.024411309781279943), (2759, 0.024389095266940594), (1035, 0.024365841953337464), (40, 0.024331015240673246), (2655, 0.024327338740561717), (2996, 0.024315159033500455), (279, 0.024284578093656722), (4246, 0.024250571590567052), (280, 0.024224724295844487), (3430, 0.024213246098845863), (1254, 0.024049401997572648), (85, 0.024033261713119675), (2778, 0.024027237103882687), (896, 0.024012898628238785), (1361, 0.02401225341185694), (842, 0.024007434455178566), (682, 0.024000655156877507), (788, 0.023984994645040128), (2052, 0.0239748741806519), (4531, 0.023970033847637476), (106, 0.02396040826761854), (4524, 0.02395962299636416), (1687, 0.02395713301725911), (3295, 0.02394064961340628), (51, 0.023926294566377), (374, 0.023894162154337976), (2119, 0.02388143406737478), (753, 0.023874445758029522), (3213, 0.023869264505388597), (584, 0.023868965509590653), (2347, 0.023778302841934745), (3407, 0.023761366036701564), (1377, 0.0237228320608044), (481, 0.02370047853731687), (1906, 0.023691343903895854), (208, 0.02368297641939983), (4321, 0.02366450243858269), (287, 0.023647870697305014), (2644, 0.02363158271295472), (1403, 0.023621159233536596), (1417, 0.023613754169925935), (638, 0.02361218788608621), (3777, 0.023608138792237533), (3421, 0.023599069163258254), (511, 0.02356801880183789), (1897, 0.023555978304718297), (3462, 0.023544071912418283), (3580, 0.02350292455488868), (2161, 0.02349597973120296), (799, 0.02341365769835698), (2363, 0.02341067109772239), (757, 0.023391890636783423), (3375, 0.023371975405125596), (1116, 0.0232454270387056), (3768, 0.023217983797414105), (3306, 0.023210372912925634), (1216, 0.023183368070076427), (4314, 0.023113536211006494), (218, 0.023095202277025495), (433, 0.023085964654189467), (1740, 0.02307400014969315), (1119, 0.023064792285820847), (2334, 0.023044968085650902), (3076, 0.023031595656798444), (1779, 0.023014980808281658), (2917, 0.023011914037584943), (2298, 0.022989526494702414), (762, 0.022968160800090738), (482, 0.022967958361802827), (2522, 0.022961032895868767), (1741, 0.022903924898904564), (2815, 0.022891977902754188), (2196, 0.022886982213689212), (1343, 0.02287744963989589), (3895, 0.022861199732404934), (4134, 0.02283851277430455), (2460, 0.02283277442958495), (1713, 0.02280335250845718), (867, 0.022769103997092824), (2024, 0.022751889503039132), (2254, 0.02273953058503263), (4068, 0.022700761441262866), (4379, 0.022692990808857432), (1115, 0.02267887607433016), (3670, 0.022648638916123377), (3797, 0.022628203062214927), (2053, 0.022627981453731197), (692, 0.022623463565841787), (1224, 0.02262013890453532), (3065, 0.0225921152441505), (3958, 0.022586785212982654), (2383, 0.02258312186733362), (2284, 0.022556620324389237), (2639, 0.022551643917157922), (1621, 0.022549149371750912), (4123, 0.022520020999254545), (4227, 0.022515190211891904), (2784, 0.022508189600202934), (622, 0.022497571344562227), (1018, 0.022486127625061143), (4503, 0.022466680121744517), (3949, 0.022466633063021255), (1183, 0.022461771560012958), (2868, 0.022447245295136455), (1401, 0.022402987797355313), (2978, 0.022355092793391367), (3317, 0.02235085262312365), (4486, 0.022343633690997636), (4627, 0.02234246589286612), (534, 0.02233984263799197), (2919, 0.022332579040283528), (586, 0.02233104675877378), (149, 0.022328580492321524), (853, 0.02230450084141363), (447, 0.02227269957799244), (2417, 0.022242242431631434), (620, 0.022229764166750057), (879, 0.022202741866405924), (502, 0.022184910814894973), (1360, 0.022181371641290658), (2695, 0.02216342963431958), (4673, 0.022140318957523893), (4178, 0.022129707932944304), (4000, 0.022129328218342383), (2988, 0.022128259406648434), (3110, 0.022119700426443505), (2295, 0.022114319858258274), (2121, 0.022095605707786313), (3293, 0.022074803770976394), (2602, 0.022050040156304018), (4255, 0.022048278007478446), (2027, 0.022003074760800496), (2306, 0.021985761692206438), (1483, 0.021967950159600902), (1290, 0.021967824020010112), (3423, 0.02195141049846268), (1152, 0.021945050543148516), (2486, 0.021939251932064027), (1682, 0.021936388679419484), (190, 0.021931913093569504), (1774, 0.021919249603771153), (1232, 0.021914626343913026), (3862, 0.021911779942784614), (1523, 0.021888095826229612), (543, 0.021848501616208334), (43, 0.02178564408576708), (547, 0.021774505188080197), (89, 0.021760835687742), (1983, 0.021703968631008198), (4337, 0.021668619356875703), (2376, 0.021628247290295926), (2346, 0.02161101200935458), (814, 0.02154732668002846), (510, 0.021544300863943516), (4610, 0.02153877676619533), (3635, 0.021532463002016736), (3253, 0.02152031312441313), (1019, 0.02150628424224235), (2632, 0.021499975869576304), (231, 0.021493488643359097), (4387, 0.02149222592708013), (1239, 0.021490302019746065), (1665, 0.02147706284604506), (3067, 0.0214443648710049), (1192, 0.02144214092401995), (2255, 0.021434004124588266), (900, 0.021407110007479982), (4522, 0.021388567587881536), (1567, 0.021379339432550264), (2913, 0.021368466912972072), (1880, 0.021360829989325574), (1945, 0.021334483263118143), (2045, 0.021327977172846842), (1337, 0.021270500958574988), (1815, 0.021261722609551253), (1832, 0.021250718767465326), (3951, 0.02122989089603925), (3535, 0.0212030046848343), (1114, 0.021173756241499635), (181, 0.021151717798650403), (4477, 0.02110905388403854), (874, 0.021100383479751603), (4695, 0.021075683934301655), (652, 0.0210524665118125), (1335, 0.02104409142435966), (2252, 0.021029530147328168), (3334, 0.021013562370552474), (957, 0.020989605405952676), (3123, 0.020972115729064385), (1413, 0.02097032294662305), (3741, 0.020960777879386827), (4543, 0.020949986675261226), (1681, 0.02093561936531694), (787, 0.02093457454994868), (3387, 0.020931802171987084), (4374, 0.02092745607507636), (3699, 0.02091453504080856), (370, 0.02088691959153733), (236, 0.02088134404617603), (7, 0.020840725036144328), (1461, 0.020825562282782224), (989, 0.020752160695874253), (1465, 0.020743984538643425), (3861, 0.02073618583669878), (2931, 0.020705844361947646), (537, 0.020688995295118917), (988, 0.020672173824852792), (866, 0.020653062177799223), (4619, 0.0206459445872383), (1986, 0.020637857368242557), (899, 0.020625009853115876), (125, 0.020600914386046505), (3854, 0.020598739586074805), (4121, 0.020566198852045282), (604, 0.02056406142425736), (4710, 0.02053535320975854), (3660, 0.020519095088688724), (3370, 0.020490936388657878), (963, 0.020467195779853405), (3947, 0.02043453093092426), (1278, 0.02043403806093583), (1876, 0.02041823560043708), (3118, 0.02040091592933726), (775, 0.02036911753899748), (3659, 0.020367031117171426), (2216, 0.020343814806869615), (4510, 0.020336375066071524), (3984, 0.02032844851148066), (934, 0.020326135565621257), (3807, 0.020324085351334155), (1519, 0.02029863308108341), (2116, 0.02029313736352448), (895, 0.02027220139274784), (18, 0.020249072784981267), (4293, 0.020243507796505425), (317, 0.020227317471922336), (2224, 0.020225978578700225), (1481, 0.020212367406106595), (3637, 0.02019505128795226), (1667, 0.02019424208832713), (1331, 0.020189850290254018), (2066, 0.020188313078421977), (1237, 0.020185244631159373), (2879, 0.02017750436664806), (1252, 0.020176697763564774), (207, 0.020169382478363175), (251, 0.020145086513127887), (1949, 0.020119734600309535), (1104, 0.02011925488965262), (1967, 0.020094496927448018), (1799, 0.020060258034677005), (2805, 0.020018475966510716), (1864, 0.020010369522022897), (1128, 0.02000008452842251), (2963, 0.019957399069396746), (1654, 0.01993928615850348), (545, 0.019935886900209955), (3630, 0.019920331528053798), (1895, 0.019897971439233678), (1812, 0.019892486052269325), (1739, 0.019889373763854922), (4265, 0.01987883829216333), (3819, 0.01987540694844942), (3750, 0.0198737334356091), (844, 0.01986497378274022), (635, 0.019851482915294198), (2969, 0.019845292941204788), (356, 0.019837869335490373), (875, 0.019831014639172452), (161, 0.019819981523930014), (4163, 0.01981456467896059), (75, 0.019811808107621703), (667, 0.019807173072002943), (2788, 0.01980628342569152), (654, 0.019789301032018314), (2206, 0.019759745821410202), (4124, 0.01975588122512644), (1988, 0.019749649111466382), (678, 0.01973261714183082), (676, 0.019724060573271286), (2505, 0.019710666990383582), (1680, 0.019646567536380808), (13, 0.01961989789312727), (3849, 0.019612292204657673), (1432, 0.019594552511359276), (87, 0.019591435982516274), (1478, 0.019588771723124856), (2600, 0.019571731180052426), (2008, 0.019569878590165787), (527, 0.019543511512520928), (4576, 0.019525236350367174), (742, 0.019518812181278627), (276, 0.019515636014499405), (1919, 0.019489561938963815), (70, 0.019465711442012597), (52, 0.01945707758893824), (1773, 0.019451403998319412), (2280, 0.019419395359997756), (4444, 0.01941425581891519), (4148, 0.01936022991617527), (3356, 0.019338443182031855), (3992, 0.01932865801828485), (1712, 0.019303605018998225), (1317, 0.019299582522769306), (2080, 0.01928936557515998), (1005, 0.01927990843822812), (418, 0.019272141402030568), (1215, 0.0192658130514861), (1255, 0.01925959010695496), (733, 0.019235789922099483), (1802, 0.019231929173634244), (2235, 0.01918445224376819), (878, 0.01918005740374326), (1024, 0.019160910631523836), (906, 0.01914854804482614), (2780, 0.019124492311353367), (341, 0.019101439784279035), (4514, 0.019079271392134348), (1407, 0.019062046344680145), (496, 0.019054171731450176), (1542, 0.01905388855677548), (1595, 0.019045896576273445), (274, 0.019043301513875684), (2336, 0.01903782194517788), (695, 0.018987065868925904), (1396, 0.018986488154378783), (2910, 0.018981681487905567), (800, 0.018972778524104544), (2480, 0.018953886518733226), (3747, 0.018934455177787177), (2412, 0.01890065494838876), (1796, 0.018895298897264816), (4623, 0.01888716363187691), (2366, 0.01887776555849269), (918, 0.018873535884838203), (201, 0.018865501853920028), (1262, 0.018831963714704917), (827, 0.018824131828584275), (3328, 0.01880787498954728), (3171, 0.018756391109688082), (2145, 0.018741769030366746), (2918, 0.018741327926961125), (1000, 0.018725675750439166), (3035, 0.018724422802392806), (4546, 0.018694352355856755), (2177, 0.018679171270423307), (130, 0.018665178912648087), (321, 0.018660499355272094), (1053, 0.018659121636634877), (1293, 0.018617619282381592), (1787, 0.018612973603086648), (3318, 0.01859959918437749), (3507, 0.018592312573012693), (402, 0.018591639597368065), (833, 0.018585304026487927), (2739, 0.018582784933170324), (523, 0.01857259027976297), (4095, 0.018570684099452013), (57, 0.018540795250922355), (2178, 0.01849799126504566), (3524, 0.018471163248930795), (1107, 0.018467626700209322), (1047, 0.018461799346737976), (829, 0.01844004322171814), (1509, 0.018427896702270696), (3155, 0.01842150476822289), (313, 0.018410643127481686), (4092, 0.018370309103141032), (1266, 0.018344244308282163), (3924, 0.01833153848848678), (1923, 0.01831550092742567), (2617, 0.018311966394163947), (1185, 0.018234397266485104), (2874, 0.01821553916500465), (332, 0.018191816286829282), (2581, 0.018154966380840173), (1012, 0.018148128622867972), (452, 0.018137678308615124), (281, 0.018136095310151718), (928, 0.018133151914549752), (2188, 0.01811724277303561), (254, 0.018098420586041393), (2051, 0.01808344955338584), (1342, 0.018080594647405985), (1436, 0.018073887324040593), (2049, 0.01806457308707828), (407, 0.018020150715786713), (1099, 0.01801736060934069), (648, 0.01799280103456111), (1752, 0.01792942445351158), (2228, 0.017910910903901126), (609, 0.017907722018761226), (138, 0.017903950952626792), (1376, 0.01788848934884303), (1934, 0.017871056496189704), (1455, 0.01786725687739564), (809, 0.017866665177528603), (1900, 0.017844395553188966), (3094, 0.017825979574263632), (2162, 0.017818755339190032), (732, 0.017805704306766732), (2948, 0.01780255299724396), (1852, 0.017788131720188692), (3731, 0.017773596689137673), (1958, 0.01777209229391798), (322, 0.017764373903364095), (1075, 0.017745911770558585), (3240, 0.017708453790614996), (4666, 0.017703627490981536), (2936, 0.017699488383963118), (2209, 0.01769913803816022), (931, 0.017670917948047447), (3373, 0.01765145271062269), (2265, 0.01762601010366139), (1259, 0.017567548988313572), (2421, 0.017530566171519345), (2555, 0.01752717693403611), (483, 0.017525258993078167), (3185, 0.01752478508192928), (2886, 0.01751014491445809), (2075, 0.017493392003321395), (1858, 0.017484212761929775), (1619, 0.01747701327869024), (4685, 0.017470885391461455), (1873, 0.01745296180670261), (1157, 0.017452422009714506), (847, 0.017444812129924943), (936, 0.017443577001658297), (1009, 0.017441941265593966), (2057, 0.01742925936483089), (2000, 0.0174244975660141), (2494, 0.017408143381870366), (3582, 0.017389061686125338), (2447, 0.017383879734103103), (1685, 0.017381618159171622), (1359, 0.017381057699610777), (825, 0.017376686365155762), (790, 0.017350743314759366), (1870, 0.017322930917478156), (2005, 0.017317523917849117), (2429, 0.017306836795496633), (4412, 0.017294885871361774), (2769, 0.01729362373754683), (1063, 0.01726710440528667), (273, 0.01725436768873607), (1761, 0.017249124394332932), (949, 0.01724799492671031), (3957, 0.0172454382958428), (2403, 0.01724242735126899), (3822, 0.017241078759129235), (2625, 0.01723053321885138), (3382, 0.017218639675372384), (1054, 0.01720651646952657), (664, 0.017198390160762293), (4551, 0.01718556193073139), (653, 0.017182905641076406), (4235, 0.017171082431715043), (1551, 0.0171600744790254), (1420, 0.017157259735184952), (2680, 0.017150353697781073), (1874, 0.017145962336560426), (683, 0.017130240393568467), (1630, 0.017125900351452002), (2697, 0.017120177332784176), (4366, 0.017118146537461198), (2934, 0.017117180815753426), (4596, 0.017115571150368134), (3108, 0.017096770767015657), (1194, 0.017088724453634137), (2740, 0.01707867984108123), (4216, 0.01707769712634194), (4032, 0.01705269725982101), (560, 0.017049731419862067), (1809, 0.017035668386203365), (2803, 0.017035356585271368), (1310, 0.017029734773007305), (2688, 0.016983073488044162), (1951, 0.016982631852521263), (1957, 0.016980837565053176), (1992, 0.01694585474534741), (3264, 0.016926206502061423), (2771, 0.016925826729448402), (4537, 0.0169241767095165), (715, 0.016916516224541954), (2915, 0.01691031812170875), (1513, 0.016891125545233865), (244, 0.01687424224480535), (500, 0.01687318230419181), (1419, 0.016863301888846285), (4060, 0.016854077956597827), (2436, 0.016852222564147774), (3426, 0.01685075047917813), (3993, 0.016819342769153114), (4165, 0.016815924525150284), (1714, 0.016814494360891993), (2925, 0.01679242076655975), (1146, 0.016781979785673504), (4660, 0.016781686937152214), (1406, 0.01676730862330174), (396, 0.016745181563185486), (3680, 0.016676626517246624), (1249, 0.016655772054011777), (2545, 0.016651076834237662), (1754, 0.01664091635687693), (3794, 0.016591507163598376), (4187, 0.01658615397858184), (3070, 0.016563643590137424), (2992, 0.016550590362428196), (120, 0.016546119928129654), (1789, 0.016523204154686267), (2474, 0.016511400206717722), (4325, 0.01650953458902596), (72, 0.01650193506281602), (1790, 0.016501773724616985), (170, 0.016494780341968777), (1220, 0.016463850958400736), (1727, 0.01646283785754299), (2324, 0.016460998752848715), (3756, 0.016450272875424256), (2981, 0.01644777978238137), (485, 0.016435163890274315), (2062, 0.01642036678845929), (915, 0.01641520786102741), (464, 0.016402780495397718), (1160, 0.016397966150901545), (4344, 0.01636445497353301), (4164, 0.016353673359644647), (1658, 0.016348694077179662), (4517, 0.016347828063327276), (86, 0.016331156828924928), (2489, 0.016326358582503864), (2831, 0.016325084868551512), (105, 0.016321894677307134), (737, 0.01631337422975527), (4431, 0.01631279590364313), (2871, 0.016296162741785702), (3901, 0.016295118853237492), (291, 0.016290549532675808), (4052, 0.0162897029821181), (4481, 0.01628366178234523), (4603, 0.016275096296590536), (2097, 0.016263646575780114), (3297, 0.01623205627873005), (197, 0.01622324974199211), (719, 0.01620084970710142), (801, 0.01619924969207131), (3903, 0.016195463913941513), (684, 0.016150750416409128), (4579, 0.016132251138986385), (996, 0.01612835571753304), (555, 0.016125735228401158), (4443, 0.016125362658143023), (1989, 0.016121697581670313), (3049, 0.016114442114114624), (2077, 0.016104312858066395), (2418, 0.01608929007877431), (1230, 0.0160867949678119), (479, 0.016086373551811844), (4593, 0.016082339184193706), (532, 0.016077400368009427), (4553, 0.01605427480412471), (1090, 0.01604840196435276), (1236, 0.01602859219732558), (4133, 0.016020454581069217), (82, 0.016003033740757105), (3599, 0.015984711591193627), (4605, 0.015975871663917694), (1339, 0.01593631423047289), (1696, 0.01593419858280848), (2964, 0.015923459534444878), (3775, 0.0159144039759344), (468, 0.015912642387355975), (2212, 0.015869636815348028), (2929, 0.01584789131331593), (2546, 0.015840498808679607), (1708, 0.015804290551662686), (1303, 0.015780871114617602), (979, 0.015773709568153254), (3860, 0.015751046493176147), (4033, 0.015742703421532833), (792, 0.01570585677323551), (3704, 0.015702019310327706), (838, 0.01567190575514652), (3386, 0.015654743379034494), (4699, 0.015630050224564783), (4371, 0.01562540809230893), (2601, 0.01562265280465492), (2568, 0.015605454131487846), (2635, 0.015595037900373787), (354, 0.015556366989340513), (148, 0.015547736864399149), (2428, 0.015545233093145473), (1723, 0.015526816658870818), (417, 0.015523125373390283), (174, 0.015522523480519704), (270, 0.015488187451556631), (2463, 0.015464322595971178), (1798, 0.015428242905011639), (3325, 0.01540047130812058), (1440, 0.015397593966988976), (1048, 0.015392918192309318), (99, 0.015365918547745189), (3638, 0.015338498718698475), (1475, 0.015324567983222626), (1006, 0.015279950653987358), (304, 0.015278264094081473), (2565, 0.015277373281285641), (2013, 0.015272136706761513), (206, 0.015263661759324011), (1234, 0.015261527557925751), (1662, 0.015227101912101325), (2881, 0.01522625026238058), (1348, 0.01522535888583205), (2144, 0.015219522842901928), (1438, 0.015215913912049253), (1124, 0.015214476575707854), (2089, 0.015212525610697566), (4025, 0.015195295846109865), (4698, 0.01517931096229004), (288, 0.01517279664707952), (2459, 0.015148350559704787), (4511, 0.015140338414760252), (806, 0.015140167325300258), (3919, 0.01513546241294618), (1429, 0.015127804197945963), (1736, 0.015110904037970448), (266, 0.01508590523005477), (5, 0.015078561764240456), (1077, 0.015065440335697039), (501, 0.015046785440873723), (2277, 0.015040167788816453), (897, 0.015021070938432328), (2087, 0.015008862038899007), (3099, 0.015005511180032271), (4122, 0.014998376750739756), (2016, 0.014995284147249016), (4612, 0.01498888711690451), (4490, 0.014970579486242861), (4435, 0.014949304736756432), (271, 0.0149413912215728), (538, 0.014931661597248362), (2444, 0.014922249867397461), (894, 0.014921803733075235), (1494, 0.014914964127960974), (333, 0.014913377697700844), (3112, 0.014894618898665097), (4096, 0.014883043933392702), (216, 0.014869215746394533), (2029, 0.014841424012077217), (1338, 0.014839138587206455), (1061, 0.014837173740157802), (47, 0.014821556065826679), (621, 0.014817141812290317), (2633, 0.014816329663816496), (2193, 0.014803512836014266), (1807, 0.014783131730649497), (1694, 0.014772646646479936), (766, 0.014755049869473007), (558, 0.014750923432476913), (3032, 0.014726993973915433), (544, 0.014726387766062159), (4727, 0.014716058742730713), (4106, 0.014704342206959872), (1096, 0.014699192176234353), (1922, 0.014684932327694735), (327, 0.014654386322540194), (2126, 0.01465190455365517), (631, 0.014649124167241734), (3218, 0.014620859364081095), (1334, 0.014603956925160729), (3039, 0.014590378988296578), (991, 0.01459025129674707), (3552, 0.014577962380203494), (4013, 0.014572656486823434), (2994, 0.014563591304732058), (2512, 0.014555742602582255), (1092, 0.014542775439931134), (2977, 0.01452310360404929), (2304, 0.01452192084630962), (446, 0.01451326973445247), (2916, 0.014495626563902209), (3689, 0.014481974660178254), (2640, 0.01447551423213986), (948, 0.014471467429060332), (2303, 0.014469250293978332), (994, 0.014449695395754265), (472, 0.014444197036799188), (2744, 0.01443791714554581), (4707, 0.014404408382990924), (2344, 0.014376450787463422), (2250, 0.014371874362892773), (2820, 0.014368928103742521), (435, 0.01436359429233722), (3232, 0.014344709758450688), (1936, 0.014335488744400961), (3596, 0.01432744039859438), (1020, 0.014320819713695188), (2798, 0.014308744593212202), (1418, 0.014307196643365352), (4390, 0.014293014950371852), (1182, 0.01428084339967197), (2427, 0.014273885588421527), (3643, 0.014268793803645999), (3612, 0.014253516115015089), (3215, 0.014230711429448598), (921, 0.014223231478390122), (139, 0.014212323155122731), (4219, 0.014210999373175175), (1137, 0.01421020502896862), (2789, 0.01420695529629493), (828, 0.014192490698696806), (3733, 0.01418523334048126), (3501, 0.014177303541721302), (1382, 0.01416516830943045), (1442, 0.014162750654050218), (2279, 0.014153319418326878), (4158, 0.014151848186456898), (1507, 0.01414431835182715), (3674, 0.014129893357971105), (3536, 0.01412262680554183), (651, 0.014122623468407643), (817, 0.014121982648048051), (2197, 0.014121071031660298), (697, 0.014108687183871777), (2700, 0.014103191440468897), (4098, 0.014082470633240935), (4226, 0.01406345984693083), (3418, 0.01405517936616793), (761, 0.014051573008685711), (1087, 0.01403425124124602), (1688, 0.014033270438469712), (1860, 0.01401428735859669), (1300, 0.01399987322268665), (1854, 0.013994233430971816), (243, 0.013981479420136392), (4656, 0.01393468198706495), (78, 0.013922965535846474), (1781, 0.013919971601294732), (164, 0.013905108694824793), (3245, 0.013903007082322033), (2949, 0.0139010940636879), (4118, 0.013848031526417386), (782, 0.013829852850737175), (3888, 0.013827469867476901), (104, 0.013819640102003358), (4442, 0.013809166697316065), (2328, 0.013798773194138221), (1065, 0.01379811715577128), (2752, 0.013763106671349778), (2698, 0.013761128281795057), (4232, 0.01375694838093815), (2074, 0.013743631996349707), (19, 0.013735155527109853), (3120, 0.013730405724650249), (3151, 0.013718423236595743), (434, 0.0137181448113697), (79, 0.01369615247837123), (1021, 0.013693163334400581), (32, 0.013686568235892635), (1446, 0.013675051606546388), (3666, 0.013658771914575325), (3346, 0.013655219187127754), (2980, 0.013642272648508702), (1582, 0.013611881969656996), (353, 0.013604236600059919), (2812, 0.013598483620739184), (816, 0.01359766597075862), (1540, 0.013588938037414731), (3784, 0.013588767600862433), (3399, 0.013578362954800638), (4094, 0.013563880461038789), (2933, 0.013562682588128743), (2348, 0.013556997959323264), (224, 0.013555084326629403), (1875, 0.013537974166853525), (2840, 0.013529067462520288), (2706, 0.013525366990124528), (4664, 0.013502376912967141), (368, 0.013494845472863571), (182, 0.0134799686555343), (3237, 0.013474944589942608), (408, 0.013474880653403165), (850, 0.013470633288234786), (939, 0.013466378000221093), (3192, 0.013465896471888995), (4336, 0.013463269933314417), (4192, 0.013458575260549357), (4629, 0.013452581364506454), (1620, 0.01341960798584018), (3246, 0.013412646690681873), (734, 0.01340935972789773), (461, 0.013377512518851494), (449, 0.013374134854639149), (346, 0.013336411461747756), (4502, 0.013327603400916294), (2473, 0.013319435724076328), (3767, 0.013319050614370678), (970, 0.013293247893685392), (3899, 0.013283995928524351), (2264, 0.01327764335612898), (1968, 0.013269337041162541), (2158, 0.013266838508085374), (4691, 0.013257026957443645), (1539, 0.013239807900819404), (2388, 0.013228780573297239), (3409, 0.013226309296662573), (542, 0.013225647208395634), (38, 0.013199312175881321), (3579, 0.013186940123622405), (924, 0.013177191947088843), (1279, 0.013149504963697333), (3196, 0.013139241187150343), (3046, 0.013126929686399023), (2309, 0.013121129728552875), (3941, 0.01311883566234265), (644, 0.013085861051150869), (3513, 0.013065291763673154), (2103, 0.013031575649853695), (242, 0.013026183938859735), (4533, 0.013018315346680197), (1612, 0.013009354894010798), (2873, 0.013006541616049213), (4047, 0.013002809854304095), (443, 0.012986722671602474), (1050, 0.012950651199075363), (183, 0.012949431345552492), (3389, 0.012942021418026441), (2854, 0.012924084750110202), (1498, 0.012897897504298941), (96, 0.012895076537290218), (962, 0.012886212071282701), (3267, 0.012883910174550936), (1553, 0.012878523549696652), (119, 0.012869489843458317), (3826, 0.01285158316252829), (428, 0.01280381996854529), (0, 0.012799026193380369), (3142, 0.012798986954891367), (285, 0.012782728870497286), (1710, 0.012756739285870468), (4249, 0.012745341574281187), (2572, 0.012744550283661924), (2316, 0.012732674516829978), (3453, 0.012724269941180389), (3329, 0.012720180981274146), (1674, 0.01269423708773943), (1071, 0.012682721546153438), (597, 0.0126765706771877), (688, 0.012675019403406165), (1014, 0.012673894584654722), (668, 0.012661376697121755), (3667, 0.01266119612845323), (2477, 0.012660683526738742), (2065, 0.01265672157162191), (2673, 0.012650636499505851), (3880, 0.012638330662208545), (1276, 0.012632843538028161), (1650, 0.012631921898213251), (1924, 0.012626870228572479), (3516, 0.012608899769244753), (4105, 0.01260354529548627), (2143, 0.01258567033170428), (4494, 0.012584324919280198), (3256, 0.012580444036076749), (4430, 0.012556306294736145), (1078, 0.012546046620638861), (1764, 0.012539175844397314), (1583, 0.012534332564804301), (637, 0.012526296612165134), (111, 0.012523568249551071), (1730, 0.012522100915861731), (1206, 0.012518422541463332), (1125, 0.012514382547864768), (3771, 0.012501850934747507), (1690, 0.012500193808248078), (4601, 0.012483844753865611), (1793, 0.012475358927572122), (1371, 0.012460011357495448), (3956, 0.012444478029535095), (1960, 0.012433575412412388), (4005, 0.012420596261950377), (1776, 0.012419894671367249), (4335, 0.012399320388841333), (729, 0.012392607032098456), (3152, 0.012391690959494607), (4289, 0.012372527407742914), (3618, 0.012371181004837395), (851, 0.012367755624953803), (3821, 0.012364192548180886), (1762, 0.012353431174021948), (1308, 0.012342316651532842), (1892, 0.01233434803803529), (3960, 0.012330208633273216), (3954, 0.01232326620056902), (445, 0.012308626003837777), (1312, 0.012306852529634246), (1037, 0.01230326764701253), (4649, 0.012297424819843108), (436, 0.012287375052378431), (728, 0.0122635884927823), (2816, 0.012257494043151707), (107, 0.012250336808731907), (1489, 0.012233699722475101), (10, 0.012232816008570966), (63, 0.012204184913232281), (1083, 0.012203386011715894), (2942, 0.012199157958625993), (1514, 0.01219670265149771), (4757, 0.012191024963766894), (4257, 0.012174277050168276), (1866, 0.012170220874228282), (1188, 0.012164184678514081), (3586, 0.012163214829732429), (1484, 0.012143767477795015), (3780, 0.012133966139436455), (34, 0.012103365173173047), (3588, 0.012102623110857061), (1948, 0.012099346445150667), (4715, 0.012095173570201954), (4746, 0.012093163905950631), (3721, 0.012087280301403188), (1225, 0.012072753090465942), (4351, 0.012064848623545411), (1260, 0.012059039130911477), (2082, 0.012057785688302472), (861, 0.012049096139743757), (1920, 0.012020758227761531), (930, 0.012005528254637946), (1282, 0.012003281641472274), (3259, 0.0120007695817596), (3195, 0.011995043905796737), (3656, 0.011987692927272748), (3975, 0.011981753350442858), (385, 0.011978931926961934), (2603, 0.011960918473602235), (493, 0.011956900088986828), (403, 0.011956745348197056), (1477, 0.01194689199249899), (1537, 0.01194246843470104), (307, 0.011940749097685818), (3125, 0.011940581764230726), (1902, 0.011940274094079793), (1387, 0.011938607986302393), (1538, 0.011937960503738295), (2236, 0.011935173642500992), (1400, 0.011932434474530745), (966, 0.011930943639720932), (4205, 0.01193045285228963), (2101, 0.0119257137451066), (2426, 0.011921123992987148), (1388, 0.011910399091794968), (4652, 0.011907563311390893), (1939, 0.011895981480603732), (3570, 0.011891484177775708), (1701, 0.011877102362999215), (1806, 0.011865147593384869), (3829, 0.011863023857406594), (4646, 0.01186292051852818), (143, 0.011860228950580004), (3715, 0.01185931217171031), (159, 0.011845012412020305), (4046, 0.011839411916680791), (4470, 0.011836448629399053), (162, 0.011835887258865719), (350, 0.011831736694369247), (2339, 0.011823493738066515), (980, 0.011819994856900683), (1504, 0.011817785855850148), (4233, 0.01181197246622992), (2285, 0.011809923080597879), (4670, 0.011802933890814517), (3942, 0.011800385793445972), (3464, 0.011797028134601907), (2975, 0.011791887100198177), (1144, 0.011785006627642567), (3515, 0.011775246612580437), (4748, 0.011740953222375613), (2510, 0.01173380993263633), (4309, 0.011732714329577662), (2104, 0.011730105424503187), (4571, 0.011729631927830062), (3330, 0.011727986243622757), (908, 0.011716511348799877), (580, 0.011710004707407302), (2519, 0.011699512151785404), (1735, 0.011678969894372376), (660, 0.011665540014538262), (3653, 0.0116612202678627), (4467, 0.011623119081235726), (4284, 0.011622839607559405), (1737, 0.011619798713685285), (1069, 0.011601892080994717), (2088, 0.011598442334891563), (3008, 0.011592061448702728), (3844, 0.01157649848914951), (1918, 0.011565463344329282), (1705, 0.011561088666482715), (1536, 0.011559480883938551), (42, 0.011551185588157703), (232, 0.011545822843721505), (743, 0.011534098666406794), (1140, 0.011530634859498408), (1454, 0.011526671315678454), (4061, 0.011512667561089053), (4038, 0.01150321645001372), (2587, 0.011501908790596848), (1931, 0.011499489289170241), (869, 0.011488311620099822), (696, 0.011485002117045923), (2708, 0.011483699367913212), (1486, 0.011477856960598809), (156, 0.011468505025477528), (60, 0.011460498764889951), (750, 0.011445437636715971), (1770, 0.011445386140465523), (705, 0.011443171052017882), (1643, 0.011440078942402778), (1136, 0.01143760012660014), (255, 0.011436163195534213), (1177, 0.011426312402768746), (4464, 0.011420229316810901), (441, 0.01141350717744545), (1571, 0.011409861530625535), (256, 0.011393624812070197), (3727, 0.011390597649393479), (582, 0.01138903509629121), (2606, 0.011386233375644008), (4184, 0.011381133458691003), (3594, 0.011370459989456039), (4045, 0.011370024771535895), (4077, 0.011357594691050762), (2726, 0.011353864704217106), (2335, 0.011350476014554972), (3096, 0.01134805061993225), (2825, 0.011345492014078798), (4642, 0.011323990719327886), (4089, 0.011303546181252927), (180, 0.011293197757334917), (1526, 0.01129252465913945), (2424, 0.011284603969939052), (1223, 0.01128185884022783), (3634, 0.011278041613474708), (2076, 0.011277739203468782), (606, 0.01126380761762465), (3, 0.011261439817266612), (716, 0.011241028897574655), (4196, 0.011240087787771788), (1229, 0.01121716603230202), (778, 0.01121241269052233), (3303, 0.011209754362367829), (3905, 0.011204003133485185), (4557, 0.011203468045619256), (3233, 0.011202960980191447), (4285, 0.011200065011925192), (3436, 0.011198246373959143), (845, 0.011194422574844005), (616, 0.011187753291605214), (1971, 0.011174864879887152), (1138, 0.01115710293775949), (3679, 0.01115414355531516), (4208, 0.011152170032895906), (1330, 0.011135294722141748), (2971, 0.011134440161080117), (3624, 0.011134359452688656), (2858, 0.011116393823507362), (474, 0.011102616756895516), (3734, 0.011100987535201882), (238, 0.01108313360404374), (3632, 0.011044742762208822), (1174, 0.01104270000740198), (3514, 0.011040436633346877), (1692, 0.011034040855359547), (2211, 0.011024478776516747), (2061, 0.011013185261475801), (3926, 0.01099007479671224), (1950, 0.010976883058316018), (3342, 0.010974136417711649), (1179, 0.01096696086408578), (340, 0.010948283867055104), (923, 0.010947601392706032), (3645, 0.010938805578589363), (1718, 0.010932069948516171), (4624, 0.010930109605478258), (309, 0.010920502726490134), (1472, 0.010917539730836263), (4581, 0.0108893694023312), (4677, 0.01088761441985437), (1653, 0.01088378193946729), (3018, 0.01088298626588942), (25, 0.010881398922352552), (494, 0.010874163018867882), (2757, 0.010873510131213017), (1743, 0.01087280385986731), (880, 0.010854144130454185), (2714, 0.010833172155187622), (1250, 0.0108073056525727), (2273, 0.010803383497273408), (363, 0.010798798763255115), (1833, 0.010795001657953501), (4331, 0.01077851359029114), (821, 0.010773830397073445), (503, 0.010755119183400266), (3623, 0.010751319232798526), (509, 0.01074979402546843), (1238, 0.01074642717032457), (3502, 0.010739482654193337), (4738, 0.010728394305232196), (3227, 0.010726797959360063), (2563, 0.010726696902425276), (671, 0.010721112419340253), (636, 0.01071084458738461), (4093, 0.010709689625307968), (3487, 0.010701436482894474), (1231, 0.010696167215041845), (3435, 0.010688046384534813), (843, 0.010687136807706173), (3265, 0.01068330195600876), (4299, 0.01067979272693357), (600, 0.010668196550775805), (3842, 0.010650268574570866), (81, 0.010639267101668735), (3571, 0.010633298465616416), (301, 0.01063298485938443), (413, 0.010629200899642146), (2844, 0.010626536886413261), (16, 0.010625571828477426), (1987, 0.010623548397438835), (2091, 0.01061469392654786), (2732, 0.010606732594436867), (113, 0.010602469217562149), (769, 0.010593194626671534), (2198, 0.010592582635133185), (4057, 0.010588826878832017), (3696, 0.010579344191870708), (1811, 0.010571010115821762), (1191, 0.010565094279071485), (4001, 0.01055767006651972), (2496, 0.01054330375052923), (1041, 0.010537811927220083), (1195, 0.010533851953416487), (4674, 0.01051683882275208), (311, 0.010515113293539585), (3456, 0.010509726638178778), (4518, 0.010503093165601305), (641, 0.010495280641453832), (2899, 0.010483607211955603), (69, 0.01047335869599155), (4043, 0.010468844540148108), (3052, 0.010468738109378895), (3751, 0.010455927548345827), (748, 0.010444889766829132), (608, 0.010427298421259931), (1819, 0.010416079528913), (4236, 0.010410704387165999), (3499, 0.01038442377690774), (615, 0.010370102370440502), (3474, 0.01036955836988283), (2490, 0.010367846556836795), (1374, 0.0103630144605988), (2069, 0.010355206576812164), (3448, 0.010346703899084682), (386, 0.010340210582815933), (1462, 0.010334528294374451), (2056, 0.010327520651630498), (2355, 0.010322385802826182), (1076, 0.010319750955483278), (3117, 0.010312769230094155), (217, 0.01030340445130419), (3033, 0.010294530560670563), (2691, 0.010293413799069808), (727, 0.010280538893139513), (758, 0.010277553321448595), (3648, 0.010276663868351806), (752, 0.01027444475849596), (3744, 0.01027255596172162), (497, 0.010262352349758062), (4342, 0.010259260192975211), (56, 0.010253791108099692), (3410, 0.010243229603467859), (3452, 0.010239316512182989), (3178, 0.010226694614378138), (1044, 0.010222281079201147), (863, 0.010221044235017313), (4272, 0.010203807353614881), (4172, 0.0101963452245085), (1911, 0.010193193820087942), (3897, 0.010177420512626987), (1425, 0.010168816795048989), (1111, 0.010150766877538294), (2095, 0.010150111680893926), (812, 0.010134263253160861), (2031, 0.010114101194723274), (3309, 0.010103570247323293), (3802, 0.010094439316228342), (4282, 0.010082901183273051), (2137, 0.01008211388389746), (4721, 0.010079716524923928), (1213, 0.010077220654535247), (2764, 0.010077176300604805), (4388, 0.010056677177663674), (1267, 0.01004761077148197), (1913, 0.010044136479639693), (1501, 0.010040426715721064), (3122, 0.010032092301291444), (3149, 0.01002432855085382), (422, 0.010022572451802738), (4515, 0.010021471124025527), (2184, 0.010020285356575084), (3531, 0.010015631159752842), (50, 0.010014770444703959), (1001, 0.010012429577767695), (1123, 0.010002456699213114), (31, 0.00998298949032795), (2506, 0.009982637964704505), (3748, 0.009977432882556926), (131, 0.009976319854296277), (2897, 0.00996640068523912), (3316, 0.00995802255019725), (22, 0.009950793409584898), (1316, 0.009948100011597582), (3457, 0.009947611766619896), (1327, 0.00994673540039392), (1421, 0.009944481278306497), (4523, 0.009937647831535636), (4564, 0.009930475008142505), (2529, 0.009926962587987045), (2476, 0.009912201986826154), (1375, 0.009904948316146658), (1345, 0.009903609172133537), (632, 0.009899303789399886), (4527, 0.009897163350879687), (2503, 0.009890643512962533), (2379, 0.0098846979014398), (4653, 0.009884377608568468), (3288, 0.009864959308449156), (3983, 0.00986425085442983), (1647, 0.009860102156807514), (1433, 0.009852902589372787), (539, 0.009843013223510614), (4367, 0.009835981537222458), (745, 0.00982939449824754), (4182, 0.009816539464102396), (4008, 0.00981089205699277), (4099, 0.009805856502470978), (4217, 0.00979860914582314), (568, 0.009798043878712477), (834, 0.009794938280843055), (2683, 0.009783324994462075), (4402, 0.009778995467941271), (4591, 0.009776259853207162), (367, 0.009774905442330865), (4726, 0.009766325336589348), (1172, 0.009760297532290104), (1449, 0.009750944033326055), (1867, 0.009747587683723377), (1941, 0.00974729039196985), (200, 0.009739045367905257), (3939, 0.009733722715197063), (1329, 0.009729160818644406), (3023, 0.009727470390269369), (3139, 0.009721861013805976), (1747, 0.009714849531885122), (744, 0.009704561639301265), (1552, 0.009702157914652374), (2231, 0.009691868306634443), (2244, 0.009684390087422931), (3066, 0.009663955540086245), (3910, 0.009659006889385858), (4661, 0.00965359278166578), (2731, 0.009645350410727987), (910, 0.00964027804633983), (1964, 0.00963565381187258), (2423, 0.009629654290159152), (4210, 0.009629560000810769), (4590, 0.009620656588002931), (2425, 0.00961406097860726), (1738, 0.009612806073409742), (3841, 0.009605120381809718), (1841, 0.009604908724135438), (1555, 0.00959124260589007), (1488, 0.009579746657841871), (3291, 0.009578810501769414), (4009, 0.009574928094512608), (1448, 0.009566708945420596), (2517, 0.009564723457665706), (1908, 0.009538988251270778), (1760, 0.009524044943090768), (230, 0.009523916017508875), (3825, 0.009497715606101603), (1414, 0.009495444697123486), (1664, 0.009490720016988885), (2404, 0.009488149253218833), (2203, 0.009482046150182187), (122, 0.00948200256375506), (1849, 0.0094817529581139), (2098, 0.009469413334335987), (1644, 0.009463605921200203), (3460, 0.009461517365466712), (248, 0.009447050810362274), (3909, 0.00943888473943774), (2643, 0.00943392733407124), (3876, 0.009427180251346895), (4432, 0.00941722775739947), (2113, 0.009412494303086518), (1094, 0.009404255321507802), (804, 0.009388844537592618), (618, 0.009387300524314142), (2580, 0.00937853807516014), (4733, 0.009371771413787623), (4162, 0.009367406403842819), (3244, 0.009363914315544924), (4221, 0.009356649525540309), (1095, 0.009351302893347945), (3114, 0.00933892686046393), (1973, 0.009333647867049563), (2962, 0.009332890084403392), (1746, 0.009330574539087257), (3705, 0.009325367929508908), (2020, 0.009297360471067067), (3331, 0.009286650215497336), (4307, 0.00927897683790917), (4630, 0.00927038778378637), (3354, 0.009263969567402322), (868, 0.009246029722629091), (3998, 0.009237283131275332), (4120, 0.009236910625256669), (981, 0.009234270538664997), (3030, 0.009228741849962039), (1816, 0.009215619331936478), (2567, 0.00921188527820015), (2454, 0.009203926123964302), (3022, 0.009203476744972738), (2205, 0.009190969883503144), (1903, 0.00918429206321453), (2314, 0.009154994898885271), (177, 0.009154454564776166), (1940, 0.009145204100978356), (1158, 0.009134973985659106), (4303, 0.0091329880737915), (2239, 0.009129549902175113), (3051, 0.009126666215023014), (3864, 0.009122546057603131), (581, 0.009122060145334811), (263, 0.009120117205661088), (1863, 0.00910471269637695), (300, 0.009101853759972389), (1391, 0.009086945330120498), (958, 0.009074252340112696), (2724, 0.009065241099257628), (1818, 0.009064455932471007), (2160, 0.009060757883872152), (3391, 0.00905538904056701), (3576, 0.00904311654253144), (2707, 0.009037706032160885), (1715, 0.009033236310553644), (2202, 0.009029179020661965), (2407, 0.009029092704387875), (1306, 0.009025588686001517), (1684, 0.009023968428385766), (2935, 0.009021263563709902), (4459, 0.009017283849540212), (9, 0.009013627630357087), (835, 0.00901335944383574), (4595, 0.009013307822905445), (3168, 0.009009139508840492), (3598, 0.009000904002117182), (2537, 0.00900000272944523), (2599, 0.008996181517136511), (2733, 0.00899243496638795), (380, 0.008990526488696143), (3566, 0.008981108898952534), (3488, 0.00898054163457418), (185, 0.008978811962061167), (2185, 0.0089680079046081), (3438, 0.008954063573674467), (521, 0.008950809180077382), (1307, 0.008946371427856897), (3990, 0.008944674711318263), (563, 0.008944124995046881), (514, 0.008939681989236583), (862, 0.008937240776360312), (4154, 0.00893213648617479), (2833, 0.008923617094652198), (2251, 0.00891972395007114), (3042, 0.008912674012221507), (4230, 0.008912446909929008), (1608, 0.008906216677756925), (2310, 0.008893218623298274), (283, 0.008881303249617027), (3523, 0.008870396077507383), (3945, 0.008870396077507383), (2439, 0.00885122623423977), (1332, 0.008846960235185936), (2993, 0.008832266687409322), (583, 0.008798564449270505), (4385, 0.008790139140721668), (687, 0.00878566580947767), (3276, 0.008781646580527932), (2330, 0.00877699864056634), (3440, 0.008772571489988843), (1976, 0.008769001550951507), (1381, 0.00876640266544399), (3158, 0.008765832539297774), (2630, 0.008763788611715602), (4540, 0.00876256211830168), (4572, 0.00876256211830168), (1627, 0.008751788330228456), (35, 0.008736858241594387), (1962, 0.008735519215404686), (4389, 0.008732499284479169), (642, 0.008731114214251413), (2809, 0.008727588808473817), (2889, 0.008722408474699184), (3848, 0.008709144435923575), (2989, 0.008698088628747328), (2991, 0.008687051319243206), (1214, 0.008669974848313814), (2959, 0.00866852335621116), (4717, 0.008664068101643458), (1167, 0.008662059964120228), (940, 0.008658497608746787), (2722, 0.008658154344633321), (3752, 0.008650794267115817), (855, 0.008648971392166792), (4251, 0.00863889551657583), (4665, 0.008632502271524845), (424, 0.008630628046992694), (3263, 0.008627063852816776), (1975, 0.008626554052893953), (3787, 0.00861589131246512), (2012, 0.008615066160649498), (3908, 0.008612241430799247), (1356, 0.00859840736975325), (2084, 0.008592124770145263), (617, 0.008580524817438413), (2058, 0.00857579687197607), (1452, 0.008567371886635164), (1904, 0.00856016827196515), (425, 0.008556017176690798), (2181, 0.008543522773754232), (4753, 0.00854246891924055), (3925, 0.008541179575459119), (891, 0.008527105034294085), (4586, 0.008522962364795848), (2890, 0.00851783755049946), (3658, 0.008513723706507095), (1502, 0.008512283546920832), (2175, 0.008511680901045277), (1797, 0.0085052194730614), (4055, 0.008479649099047634), (3509, 0.008471859905787285), (3458, 0.008467584258639436), (4462, 0.008448466022934854), (1554, 0.008447737416001449), (2156, 0.008436246041438871), (4091, 0.008432359414825933), (927, 0.00840926525541165), (2613, 0.008407457080984976), (512, 0.008404227704959874), (3470, 0.008397737003354512), (3938, 0.00839595323052765), (2872, 0.008394873412789664), (4222, 0.008394873412789664), (2257, 0.00837705530338014), (1981, 0.00837248955589746), (595, 0.008369056143845439), (3892, 0.008363919537353319), (4310, 0.008363846093169107), (4151, 0.008345627333314006), (1732, 0.008341958020507335), (953, 0.008332219299989278), (2937, 0.008330522237670682), (4704, 0.00832750025692203), (2288, 0.008322944025981212), (2998, 0.008317059943796877), (168, 0.008298373589632708), (220, 0.008297988812593556), (2819, 0.008292551653579928), (2870, 0.008274820649195718), (4312, 0.008272796402542894), (3865, 0.008267533186626843), (2576, 0.008261232649983161), (4110, 0.008260478106411593), (4202, 0.008251191368400577), (2283, 0.008235415545143558), (4611, 0.008233707245789678), (666, 0.00822081533857706), (3180, 0.008213156551776027), (4119, 0.008209518537258396), (3385, 0.008203107648396234), (2966, 0.008198232757851356), (4240, 0.008191800646383912), (4035, 0.008185625849033304), (3604, 0.008185200309662919), (2136, 0.008183667382944626), (420, 0.008172273176041583), (831, 0.008168107142369636), (2189, 0.008167779474515463), (802, 0.008145851357635866), (1280, 0.008110378860760064), (3512, 0.008108076539730585), (3940, 0.008107853693901781), (3040, 0.008107368195819923), (250, 0.008102551689683084), (1857, 0.008100384660474148), (2291, 0.00808612608840935), (1575, 0.008085922509423924), (1791, 0.008078376256338742), (2544, 0.008071474546138716), (4521, 0.008071452860066436), (1724, 0.008058285900992728), (992, 0.008053319214588487), (1566, 0.00804736611920406), (1661, 0.008045935990587966), (4621, 0.008035880207550207), (1829, 0.008032901705722465), (2960, 0.008022124938874815), (2299, 0.008007278744328912), (303, 0.008006752285965636), (2559, 0.00799609866212515), (4423, 0.007992303661362537), (4264, 0.007991304557899545), (3952, 0.007990935227192152), (3997, 0.007989094301043225), (3468, 0.007987893524333916), (102, 0.007986072078226932), (3164, 0.007961908881538032), (3687, 0.007951239598360485), (3584, 0.007945436810997807), (3248, 0.00792966722063444), (1344, 0.007924836685034405), (1426, 0.007922863765744649), (118, 0.007916357185634047), (4552, 0.007892928109227102), (3163, 0.007892689255229193), (811, 0.007889462633386508), (513, 0.00788137992715407), (3131, 0.007877503698740624), (4377, 0.007873687660602879), (919, 0.007870668437868619), (2923, 0.007867564030499648), (2614, 0.00785021945185912), (1993, 0.007830433589920745), (2208, 0.007826941789578606), (3815, 0.007818479212877368), (3322, 0.007813352276238462), (3396, 0.007813352276238462), (4030, 0.007813352276238462), (4384, 0.007811553409820542), (1531, 0.007806945838666235), (4275, 0.007804963705371635), (4090, 0.007803387694347366), (189, 0.007798055173163363), (1380, 0.00779736338597954), (4383, 0.007772731569873927), (3404, 0.007769555068220095), (3559, 0.007765008205570917), (4292, 0.007763359572275612), (4076, 0.007758691399777112), (4718, 0.007754721303543038), (1150, 0.007747907348762659), (3881, 0.007747115632164573), (4696, 0.007744798269820096), (3833, 0.007742717499073106), (3814, 0.0077331469105024865), (2044, 0.0077251565808197685), (3005, 0.007724438840778851), (2626, 0.0077175305434129945), (3037, 0.007714211928942078), (3922, 0.007714211928942078), (2349, 0.007713658962890399), (2350, 0.007702684730051712), (128, 0.00769663068103583), (4014, 0.007689857235333495), (2665, 0.0076890726870926275), (3850, 0.007685685310061756), (3824, 0.007671693111105351), (1431, 0.007668450226249073), (1573, 0.0076680602336674794), (4400, 0.007666780271865743), (2413, 0.007666572853556712), (3710, 0.007655956104401663), (1659, 0.007653167745057155), (3451, 0.007643117955323181), (3296, 0.007642156563514839), (4243, 0.007642156563514839), (4458, 0.007642156563514839), (4632, 0.007642156563514839), (4261, 0.007639774200180637), (2947, 0.007631658583357083), (3015, 0.007631634859961639), (4392, 0.007629850205241085), (3074, 0.0076257907693353085), (6, 0.007624616116103712), (2432, 0.007617418034160173), (2415, 0.00761553801572693), (2861, 0.007600522335856696), (2901, 0.007600205375685443), (1859, 0.007598724823247278), (3079, 0.0075933536873456445), (3832, 0.007591884568101378), (634, 0.007589656774118175), (4587, 0.007583053084097527), (1588, 0.007582153991013657), (3995, 0.007578921818665044), (3479, 0.007571042382976686), (239, 0.007570372405022465), (1952, 0.007565169136400688), (3782, 0.007563905202797749), (4126, 0.007552106962483894), (3258, 0.007549314896819298), (3907, 0.0075412017521089445), (2832, 0.0075392577533635735), (3055, 0.007534958112935259), (30, 0.0075307054940029925), (1695, 0.007522624927725155), (4373, 0.007519782519412692), (477, 0.007518913719284778), (4749, 0.007514616088049885), (369, 0.0075118332129435715), (3165, 0.0075098202193344486), (4360, 0.007506452192526018), (3793, 0.007494177047215251), (93, 0.007489134124787557), (1930, 0.0074773471110740645), (1635, 0.007463327060943509), (27, 0.007460859178183425), (3338, 0.007460402997922046), (3774, 0.007447630359835475), (1614, 0.007434178844376574), (902, 0.007428187526361363), (765, 0.007424076163102344), (550, 0.0074175117386201615), (1622, 0.007412875003901473), (1145, 0.007411633277131373), (849, 0.007400296515942899), (1623, 0.00739956880184293), (3156, 0.007393539872937636), (2790, 0.007393135790902016), (315, 0.007392587244974229), (571, 0.007392564688251242), (3398, 0.007391370659655868), (3262, 0.007391052826151345), (3827, 0.007391052826151345), (562, 0.007391040204400238), (3134, 0.007385809710737266), (1901, 0.007385674539794155), (685, 0.0073743666735274094), (3723, 0.007365931310098481), (1953, 0.0073629909848884996), (233, 0.007362817453525143), (4708, 0.0073601222463204885), (95, 0.007357708713279499), (1435, 0.0073567222603590325), (3788, 0.007353210283431554), (3124, 0.0073477850073112895), (2394, 0.007340780595135718), (4548, 0.007338753368877924), (2986, 0.007332208791745724), (2278, 0.007329625210763395), (4441, 0.007322063543230928), (2246, 0.007317152657203184), (2475, 0.007315437752906465), (4639, 0.007294991888665702), (2015, 0.007291321206751858), (1632, 0.007287914629082187), (3613, 0.007282060083618418), (3762, 0.007278437184168018), (1453, 0.007274148754973479), (4706, 0.00727325575802993), (1469, 0.007256185536004369), (3520, 0.007253957738368192), (2139, 0.007252010392053569), (2022, 0.007247269724092193), (3179, 0.007240499462006537), (1846, 0.007238379059658746), (1587, 0.007222302854166891), (4376, 0.007220312892500435), (4723, 0.007214276173652514), (3769, 0.007206792395556264), (2326, 0.00720371398492812), (974, 0.007200295098091044), (389, 0.007197711337180349), (1631, 0.007196021266271183), (2774, 0.00719537401266136), (4544, 0.007193285525319851), (3432, 0.007184727456319752), (135, 0.007184346855050006), (4678, 0.007178556780099551), (1347, 0.007166935970560631), (1881, 0.007165708950258214), (320, 0.007162373691121329), (3081, 0.00715182164626492), (4298, 0.0071460879388286465), (241, 0.007144700829520219), (4703, 0.007143529820421426), (2130, 0.007142903351711427), (2914, 0.007141655207708237), (3672, 0.007141359574312597), (1914, 0.0071379745188488355), (3443, 0.007133009546247243), (336, 0.007128866058637418), (2984, 0.007127282070330688), (4248, 0.007124257541571683), (3967, 0.007122112509713674), (4193, 0.007110900778759093), (1211, 0.007108385162322003), (1351, 0.00710791487858921), (793, 0.007092275163124102), (2289, 0.007089521260154169), (375, 0.007081227254877468), (260, 0.007076508128468329), (4438, 0.007072366642802172), (1749, 0.007067642228130132), (3128, 0.0070619864477095675), (3719, 0.0070619864477095675), (2883, 0.0070590310288366565), (3239, 0.007058951745681076), (1127, 0.0070566091790544554), (347, 0.0070430750881415195), (3932, 0.007039571465209154), (3307, 0.007036552052445707), (735, 0.00703272585816763), (3004, 0.0070296221527422886), (3664, 0.007028867912427235), (3062, 0.0070219823221069335), (414, 0.007013461882320812), (2775, 0.007009938957654771), (3884, 0.007006479345699052), (305, 0.007001114311451225), (467, 0.0069994577616810955), (4322, 0.006995708216173435), (3191, 0.006995685105885112), (2232, 0.0069947966910266675), (633, 0.0069937007897379454), (1451, 0.006988343916239022), (4019, 0.006969961358827361), (310, 0.00696790658742), (3361, 0.0069653845909623605), (3011, 0.006964011770134544), (4585, 0.006959703915159269), (4044, 0.006957167997492698), (1633, 0.006955852478383817), (561, 0.006937476656608666), (3583, 0.006937473054504817), (451, 0.006936666023315442), (4071, 0.0069334373256824166), (1933, 0.006932852330055476), (2392, 0.0069302463981577534), (3020, 0.006925861483101203), (94, 0.006913927077499674), (1428, 0.006911157593552237), (2678, 0.006908105006390266), (1998, 0.00689630859953311), (316, 0.006886607593192882), (3534, 0.0068850778942995666), (4017, 0.006879763080897112), (3136, 0.006872726884781594), (3874, 0.00686806130587312), (39, 0.0068672275402947595), (4705, 0.0068627717151540195), (619, 0.006859509350930111), (4697, 0.0068571867648361), (4418, 0.006850619273805536), (3363, 0.006849525200693127), (2748, 0.006839190496327271), (3166, 0.006830629143336964), (1082, 0.00682375843628225), (3886, 0.006822856848879602), (611, 0.006822245557042501), (155, 0.006811236747929301), (2064, 0.006802056090454379), (3590, 0.006801001186087063), (3806, 0.006799229933107332), (1207, 0.0067814032805344465), (3544, 0.006779302725798695), (3126, 0.006779246493765135), (2628, 0.006768411707601509), (90, 0.006764978717811428), (3161, 0.006762028390109866), (2847, 0.006751969829160276), (284, 0.006749678344440767), (4734, 0.006741074112736782), (2772, 0.006734788866346784), (4484, 0.006732682859480781), (3970, 0.006728525790042132), (1197, 0.0067200793542876785), (559, 0.006708415821054137), (3720, 0.006697861936207123), (3561, 0.006695709278415854), (4211, 0.006692875362870331), (4103, 0.0066812591314721744), (4339, 0.006680719793533957), (3555, 0.006677778926364698), (2787, 0.006669074154067798), (4713, 0.006668407579514662), (460, 0.006651472387069863), (152, 0.006644969173593715), (3602, 0.006644697406333902), (1546, 0.006644624203159879), (3135, 0.0066431744549322325), (2448, 0.006641765432510715), (4606, 0.006641302863609783), (4529, 0.006632281058011033), (3429, 0.006630440133809476), (4426, 0.006616633696053815), (2442, 0.006611992137357929), (4039, 0.006603033356870198), (3367, 0.006582486488303272), (3495, 0.0065763303965166355), (4228, 0.0065676221668482335), (4082, 0.006557735574621806), (1181, 0.006556018252842689), (4582, 0.006555995657350728), (3605, 0.006546349975487375), (3292, 0.006538816717504163), (4328, 0.006528508872140224), (4102, 0.006515028502126535), (2900, 0.006514891567150379), (4290, 0.006494322958682109), (810, 0.006493663154599172), (306, 0.006491649141757391), (4274, 0.00648058264544162), (3100, 0.006449533603788498), (1753, 0.0064484626855011214), (2682, 0.006446031788202683), (240, 0.006443884401873222), (1990, 0.006425177055698446), (1593, 0.00642482061415019), (2245, 0.006421342240353855), (4419, 0.006416042724103973), (3823, 0.006415589846365185), (426, 0.006414880967303332), (3359, 0.0064146502573022585), (3143, 0.00641432152464659), (2199, 0.006413599199300826), (191, 0.006412916266562874), (3205, 0.006406188140680884), (1480, 0.00640554580058374), (4693, 0.006399915436120991), (4607, 0.006394394667125761), (661, 0.006377935785922761), (2535, 0.0063739196091130886), (925, 0.006357491427761883), (397, 0.006351483450352851), (4513, 0.006340770917892515), (1784, 0.006316451890572105), (3776, 0.006288159257704208), (2711, 0.0062846572271209045), (4209, 0.006283847222072107), (3133, 0.00626837473368857), (933, 0.0062560870748006965), (1562, 0.006252792906555177), (3651, 0.006250133203480805), (526, 0.0062293315378209695), (4729, 0.006219004707291802), (1281, 0.006216057484708315), (3257, 0.0062095890029032885), (1772, 0.006208217809369292), (898, 0.006206859552917769), (3527, 0.006204812641721016), (3282, 0.006204558957729168), (187, 0.006189645281438057), (3966, 0.0061896106232533585), (893, 0.0061621471343107125), (1430, 0.006153992153365777), (3160, 0.006149923257494956), (932, 0.006149790151246148), (3219, 0.006149778869141867), (4692, 0.006144964150713961), (690, 0.006141171082639222), (4488, 0.006140850079370092), (4079, 0.006123383817447728), (4468, 0.006122208128465912), (941, 0.006121825987043197), (80, 0.006113437878051648), (1208, 0.006107203631374754), (290, 0.006073078803517429), (3619, 0.006069610826765622), (4306, 0.006062176433923161), (783, 0.006039131304865654), (2660, 0.006023229124923716), (1699, 0.006021161618772621), (2434, 0.0060204001545118), (4573, 0.00601018353049851), (234, 0.005999989976963229), (4308, 0.005999309680363239), (4002, 0.005993261001871581), (2957, 0.00598154912515937), (3852, 0.005970906945371852), (997, 0.005967387672272137), (4042, 0.005964734108740514), (1840, 0.005962487472070773), (3405, 0.005961022743107586), (803, 0.005954882612292336), (2838, 0.005937144203820702), (4555, 0.005930107317176376), (323, 0.005927103071465574), (4719, 0.005927033855839014), (3044, 0.005921930647794183), (2411, 0.005918679796346917), (3729, 0.005916311671919697), (3247, 0.005913845790958286), (2705, 0.005905652391768939), (2696, 0.005903866279119635), (3620, 0.00590028210970164), (756, 0.005895585213388812), (469, 0.005895549092979891), (2848, 0.005880899581778663), (2378, 0.0058729224488914085), (2623, 0.0058572392521910495), (295, 0.005846816204981689), (1154, 0.005837361173194196), (3878, 0.005825124416139103), (3944, 0.00582166021464584), (3146, 0.005812572880302646), (314, 0.005793660671545816), (1559, 0.005789119734099392), (3935, 0.0057880583781004585), (4594, 0.0057864970655178575), (625, 0.005784458852509142), (1049, 0.00578095672175867), (889, 0.005778309090478669), (721, 0.005760792198925527), (4160, 0.005758028639899745), (1590, 0.005756281712237315), (4365, 0.005747274524965538), (2821, 0.0057471649757465), (294, 0.0057445784464647065), (1925, 0.0057394581282381365), (2974, 0.005737164389837086), (2266, 0.005734798365041043), (2437, 0.005723546935539845), (2541, 0.005721750441271803), (2286, 0.0057165112625827625), (4416, 0.005694210917699051), (2970, 0.005693863038446939), (3273, 0.00569112466366923), (289, 0.005688333016180519), (1309, 0.005684237747887022), (3754, 0.005677799556726739), (76, 0.005673588479156677), (3072, 0.005669248672955098), (2438, 0.005668418246397257), (3737, 0.0056639139369403695), (4407, 0.0056529202459381445), (2579, 0.005649069487581067), (3425, 0.005643055234252328), (2834, 0.005633569155779826), (3989, 0.005633221937449528), (3031, 0.005632697933441153), (4589, 0.005619910253361014), (3274, 0.005607376520499044), (2530, 0.00560341666840232), (3616, 0.005601441076480496), (2796, 0.00559549056149003), (3339, 0.005587409799234865), (2797, 0.005581383763505777), (2478, 0.005550607602166183), (1905, 0.005546927660356837), (3898, 0.005540256117459472), (3813, 0.005534494127573047), (487, 0.005533430637231208), (777, 0.00552028292679072), (1120, 0.005515830534212133), (1711, 0.0055127276252042), (1683, 0.0055093192443126165), (3408, 0.005506995168804553), (2556, 0.005506456190239035), (2801, 0.005501180763989231), (4461, 0.005497616638422122), (2557, 0.005494288311565886), (1910, 0.005483127714488223), (2895, 0.005481524565575985), (3140, 0.005473683312996546), (4694, 0.005458600734180701), (4147, 0.005452411673717278), (1121, 0.005434256272564983), (2108, 0.00542932088719697), (4318, 0.005420576831620943), (1530, 0.00542031161384334), (903, 0.005418533934537844), (4507, 0.0054169876781841484), (723, 0.0054108929352449505), (2786, 0.005406893888728009), (478, 0.005405477621496848), (4528, 0.005402848684609188), (3358, 0.005401434021959036), (4145, 0.005400939308352881), (4225, 0.005397675020158645), (2488, 0.005396260828709871), (2573, 0.0053846143075655115), (4625, 0.005375272305652871), (3434, 0.005373477996554676), (2619, 0.005372597720626474), (3526, 0.005372373341015269), (2857, 0.005371622463884604), (4107, 0.005370517425329773), (4254, 0.005369668794341044), (2674, 0.005366468144776037), (3904, 0.0053646548651785945), (640, 0.005360336801050144), (3621, 0.0053585096647298346), (1395, 0.005356345596169552), (3962, 0.005347685837868074), (2570, 0.0053441397888371244), (2400, 0.0053418252707257766), (639, 0.005341171076749099), (2159, 0.005336410033342066), (4369, 0.005329966653595115), (4161, 0.005329342959355582), (3799, 0.005319388124674851), (3357, 0.005316836845560078), (4361, 0.005311723913280967), (2078, 0.005308388426220234), (326, 0.005302043657913231), (3337, 0.00529741358368425), (4138, 0.005296093578198979), (3484, 0.005295463938350322), (2997, 0.005289459046123892), (3601, 0.005284354852325518), (4075, 0.005279901894878883), (826, 0.005269818934746809), (2302, 0.005263036676702323), (518, 0.0052616537722233285), (3417, 0.0052606847697512105), (3413, 0.005258852076296444), (4024, 0.005258119449686276), (3889, 0.005233592135751544), (1458, 0.005231774105003269), (2142, 0.005229276775137104), (3636, 0.005227814899568956), (3714, 0.0052077656858383016), (157, 0.005205663723180739), (738, 0.005198707517734273), (1398, 0.005198222416136295), (4391, 0.005191597837430367), (3749, 0.005188651186422814), (4516, 0.00518728144353601), (489, 0.005187217482047332), (3206, 0.0051727591518182185), (3214, 0.005158844972547533), (1164, 0.005156934348702101), (3235, 0.005148517606635547), (4280, 0.0051417427068031615), (2946, 0.005139813834237934), (431, 0.005135786695448747), (2924, 0.005126573150552603), (3615, 0.005122251088091958), (3353, 0.005121312688854895), (1187, 0.005120373550692563), (4471, 0.0051057449967826535), (1885, 0.005104386126384646), (4333, 0.005103568708354984), (1547, 0.005099791631401052), (4756, 0.005099641344634075), (2293, 0.0050922676334189745), (4213, 0.005092210326619158), (1995, 0.005090902333153629), (1499, 0.00509077780506682), (3577, 0.005084119161684539), (3804, 0.005082338504017696), (3497, 0.005081256339122763), (2738, 0.005078637373677265), (3007, 0.005077888130292002), (3364, 0.0050748702321369), (1576, 0.005074705808380611), (3242, 0.005073461193677408), (3241, 0.005066709381982376), (3183, 0.005066359655002559), (1909, 0.005063429849102707), (2702, 0.0050634018710755705), (4111, 0.00506112479531704), (2173, 0.005051548796334038), (3707, 0.005045645021679391), (4117, 0.005043451731992759), (3772, 0.005038399458294862), (3159, 0.005038316433338936), (1862, 0.0050379315244522575), (3355, 0.005037528800978031), (1497, 0.005029729089314701), (4295, 0.005021014759639324), (2361, 0.005020935416844984), (508, 0.005019666626734166), (4311, 0.005008787298075287), (2391, 0.005002725215916034), (1947, 0.005000680785696874), (3779, 0.00499954937484889), (2987, 0.004989305383832472), (2134, 0.004976487633849058), (4668, 0.004974956209731356), (3269, 0.004964823581606794), (4326, 0.004962874544605399), (1656, 0.0049616094033985494), (4505, 0.004956261271579636), (2269, 0.004952955213578811), (3016, 0.004952920718949102), (3763, 0.0049434259081282805), (2533, 0.004919972434456471), (3542, 0.0049172663306445595), (2386, 0.004911812666252856), (2629, 0.004910931121020908), (2405, 0.004893113003415322), (3540, 0.004889561190393169), (3745, 0.0048832872921174665), (4584, 0.004873716575899567), (4497, 0.0048652761347444465), (922, 0.004864970337451955), (4397, 0.00486336711783119), (4259, 0.004850168226296417), (4604, 0.004846464844026153), (2561, 0.004845107878980673), (1434, 0.004841351340816073), (4357, 0.0048384025662380195), (3308, 0.004836860042760991), (3867, 0.004828646330876539), (4368, 0.004826435680312083), (2401, 0.0048261799306613135), (1792, 0.004821936593125391), (4409, 0.004821885307753829), (587, 0.004815647401000992), (419, 0.00481325123895137), (3064, 0.004807303233357379), (2664, 0.0048066077034977115), (3920, 0.004801603524626457), (3093, 0.004794143562545896), (77, 0.004790472318749019), (3302, 0.004787408997002697), (2624, 0.004785920328295258), (4287, 0.004777307972680036), (2356, 0.004773624035211215), (4657, 0.004768341052336546), (3911, 0.004763959044937232), (4269, 0.00476314490927204), (2320, 0.004759076543189785), (3537, 0.00475847165968068), (4087, 0.004756945551256927), (3230, 0.004752937736267351), (998, 0.0047480679924895245), (3026, 0.004748007474096862), (2390, 0.0047427437512014385), (596, 0.004732682475552944), (4448, 0.004731704933909824), (3639, 0.004727437709235566), (2720, 0.004721319402386266), (2190, 0.0047197683480926424), (1350, 0.0047160588039296585), (2953, 0.004715027487422766), (1210, 0.004714754680760225), (1570, 0.004712906208220388), (3677, 0.004710492851067599), (4650, 0.004707701146500388), (2531, 0.004700533609538483), (2223, 0.004695311815826147), (4633, 0.004693827148217865), (739, 0.004690596958155592), (2887, 0.004687335817642232), (3414, 0.004685543684948467), (2725, 0.004683019922486999), (3678, 0.004679227445208828), (2260, 0.004675594040514168), (140, 0.004675182838408613), (4169, 0.004673082546587526), (4401, 0.004672140287430903), (813, 0.004668902418036995), (2048, 0.004666258889890459), (985, 0.004664937316081048), (1169, 0.004664084273152567), (4732, 0.004663256561420696), (1805, 0.004660261172192897), (3866, 0.004658747857496316), (791, 0.004650371018305704), (627, 0.004647509092228728), (3101, 0.004642294540414017), (4267, 0.004642059497766224), (3781, 0.0046393079475011674), (3557, 0.004638931786620546), (176, 0.004632792300899535), (2943, 0.00463186809279885), (3057, 0.004630690245546839), (999, 0.004627705930983801), (253, 0.0046267735034110375), (4363, 0.0046223987901726155), (3013, 0.004616457018444507), (3372, 0.004614548815779251), (4354, 0.004614204465575009), (2507, 0.0046090097624998504), (3003, 0.004608963042440856), (3560, 0.00460804157899949), (262, 0.004607837906704065), (4575, 0.0046048953701952845), (2148, 0.004600449022890759), (3917, 0.004600065676853935), (4744, 0.004599018626081137), (2466, 0.004591175655882957), (1748, 0.004587299470277532), (3873, 0.004587107828602511), (4616, 0.004584232256178063), (1887, 0.004583958350601311), (2884, 0.004582250115324165), (3234, 0.004570620859300831), (3184, 0.004568657124570881), (4602, 0.004567364459062161), (4301, 0.004564864248565107), (2176, 0.0045625601937834175), (3877, 0.004562125319784903), (8, 0.0045595290042573415), (318, 0.004557433264388412), (4266, 0.0045512523481673044), (476, 0.004549951602564378), (3116, 0.004548438812196642), (3187, 0.004548205584688233), (4386, 0.004539486036785623), (3170, 0.0045304189899266645), (2592, 0.004529058900317083), (4638, 0.004524859508251633), (3893, 0.004519755486090678), (4140, 0.004517378149709091), (4535, 0.004511454223122386), (2783, 0.004507488265392715), (3084, 0.004507428742760711), (444, 0.004504919423894656), (3075, 0.004503368954584982), (3496, 0.004502251060659831), (2776, 0.004500718859517747), (857, 0.0044969760863053645), (4680, 0.004494738742855976), (2830, 0.004491683649814234), (4422, 0.004490230001589638), (2755, 0.004486544576983805), (2882, 0.004485460328194078), (3593, 0.004484407200540432), (3198, 0.004484099437748346), (4263, 0.004483214469308052), (2554, 0.004482982885565916), (2893, 0.004479754512258497), (2410, 0.004477017759579001), (614, 0.004476922074076386), (2230, 0.004476066541266529), (3611, 0.004473637320231286), (1109, 0.0044707925699818685), (2926, 0.004470755170833817), (3148, 0.00446813935200529), (4545, 0.004468135751346064), (3500, 0.004467949423665326), (2940, 0.004466803200015961), (4566, 0.004463247510435168), (2792, 0.004462173125178602), (1153, 0.004460104756494185), (3770, 0.004454675152909566), (74, 0.004454132222434403), (1168, 0.004448402994618068), (2585, 0.004445565149313347), (4304, 0.004444475128328897), (1594, 0.004444394530401973), (4273, 0.004442346581236554), (3511, 0.004431671583435298), (2687, 0.004431321407431557), (3268, 0.0044307054646729686), (4643, 0.004425291913515997), (3900, 0.004421736524653308), (4101, 0.004420846708495761), (1324, 0.0044203446143489256), (3419, 0.00441816804494696), (4743, 0.004416434989553051), (2072, 0.004407371328613039), (4262, 0.004400931655740269), (1628, 0.004399801542517108), (1410, 0.004399708658789468), (3987, 0.004399051679821186), (1826, 0.004397575752426496), (4334, 0.004396885353802415), (1409, 0.004396136526811645), (3587, 0.004395482425194108), (41, 0.004391811682902873), (1907, 0.004391154972967299), (3809, 0.004389374064389204), (4245, 0.004387749166356406), (2105, 0.0043838787533319904), (576, 0.004383358271179245), (4, 0.004382901530643153), (579, 0.004382718861505548), (3224, 0.00438177803212152), (308, 0.004380858104651405), (2741, 0.004378572617192956), (2595, 0.004378104244312231), (1072, 0.004374950001376762), (378, 0.0043733922433004), (646, 0.0043719734406653474), (4296, 0.004370515527055264), (1848, 0.004366996472293061), (4501, 0.004366992695424497), (192, 0.004366193703226117), (3113, 0.004364605635617813), (564, 0.004363211717611491), (1479, 0.0043616769523820735), (1161, 0.00435918993983549), (717, 0.0043562616141890175), (1890, 0.004356187874399807), (448, 0.004350852938323699), (1959, 0.004347197240510115), (2723, 0.004345340180052548), (3902, 0.00434468777967893), (2402, 0.004341191666147272), (1670, 0.004334817619523299), (1916, 0.004334676045899727), (4340, 0.004334184844026872), (2317, 0.0043339155135836485), (2292, 0.004330948739906816), (4446, 0.00432897084479057), (4136, 0.004328751417136988), (12, 0.0043278052118629045), (1717, 0.004326207122760056), (693, 0.004326162884358098), (1580, 0.004321244400147005), (4286, 0.0043186182825037), (1822, 0.0043154891249836454), (4495, 0.004310432036554029), (1040, 0.004308753388267151), (4051, 0.004307397743625847), (1474, 0.004304103279476872), (4520, 0.004302180642316401), (430, 0.004301635052113822), (3173, 0.00429018431550177), (3335, 0.0042865576635369666), (3449, 0.004283039427406094), (3186, 0.004271289956443081), (872, 0.004264546549952396), (4489, 0.004261141962625607), (1349, 0.004259519682444752), (4330, 0.004259164888093974), (1851, 0.004258219374272868), (623, 0.004257563834547895), (3882, 0.004254048456485496), (3654, 0.004251936457569669), (1439, 0.0042515354689861146), (1893, 0.004249449146649482), (1660, 0.00424754560637771), (499, 0.004247019526186616), (2782, 0.004246677275674325), (1946, 0.004236024062452899), (2888, 0.004234329849745669), (3314, 0.004234279547654626), (2370, 0.00423264206581721), (1637, 0.004230258489554162), (2073, 0.004229530506212879), (395, 0.004228255846094442), (473, 0.004227365032651901), (4054, 0.004223992476823385), (178, 0.004222901197284462), (3647, 0.004220939701070577), (2911, 0.00422066421257864), (4206, 0.00422029195709615), (4343, 0.004219999518408353), (3225, 0.0042182495740710375), (4113, 0.004216942217339408), (4427, 0.004216917248583624), (1733, 0.004215835392928934), (4132, 0.004209151491818994), (4574, 0.0042081698439810755), (4320, 0.004207045479232011), (1415, 0.004202592225273414), (3406, 0.00419857783782122), (2999, 0.004197700168302598), (1722, 0.004193775921580143), (211, 0.004193728090532673), (887, 0.004193315748436304), (1032, 0.004192722297267833), (504, 0.004187950311293411), (1884, 0.004186839921662645), (226, 0.004185537847954349), (235, 0.004185149062762342), (1378, 0.004184059633578925), (4080, 0.004182080946317004), (1364, 0.004181999518315381), (2661, 0.004181433760742542), (4563, 0.004180702617123614), (2393, 0.004179553417717045), (3271, 0.004172836501992137), (1397, 0.004170383937692764), (23, 0.00417021752244125), (612, 0.00416931705365983), (3551, 0.0041686300436565215), (1100, 0.004165345556700152), (1402, 0.004161261454496709), (4686, 0.004157300641648433), (1518, 0.004151129851851398), (3915, 0.0041505601024573084), (488, 0.004150370953672299), (3150, 0.0041486241741868985), (2907, 0.004146435079526715), (3506, 0.004144109676057865), (624, 0.004143942423672678), (466, 0.0041406667974343385), (3050, 0.0041385792238409136), (3757, 0.00413452018425486), (1768, 0.004133537671369173), (848, 0.00413276713357862), (975, 0.004132617590662073), (2652, 0.004128673944103346), (871, 0.004123362570423249), (3845, 0.004120151740588162), (3388, 0.004119980179921324), (4130, 0.0041172891820126295), (3174, 0.004115990302232101), (588, 0.004113904286524368), (3341, 0.0041102694609529275), (1411, 0.004110229644163841), (1476, 0.004110087296230201), (3627, 0.004104114970319419), (2609, 0.004102720717151184), (3431, 0.00409913780923109), (4049, 0.004099047078131583), (2746, 0.004097732806595285), (1896, 0.0040968385763351985), (1706, 0.004096661156082935), (20, 0.004090752070498221), (3608, 0.004089479500808636), (3928, 0.004088418563416009), (3491, 0.004084074280959502), (1163, 0.004083910769385658), (4142, 0.004083568332888698), (2385, 0.0040793969014085414), (593, 0.004078273718361797), (2863, 0.004077264535782022), (4056, 0.0040771659465731695), (4712, 0.004071908262500094), (2679, 0.004070379264878269), (2735, 0.004070353950733388), (1634, 0.004070180892539918), (987, 0.004069234808436794), (4348, 0.004069099825624319), (917, 0.004061695980633253), (4420, 0.0040612234603607834), (767, 0.004059424277873357), (3289, 0.0040526119339653255), (246, 0.0040521568147247715), (2419, 0.0040511156300768545), (400, 0.004051074413724518), (3069, 0.004048250397240607), (4083, 0.004042876653734452), (2397, 0.004040901584400359), (3706, 0.0040344532597399105), (2853, 0.004031018950493134), (4381, 0.004028238389312721), (1703, 0.004025771668380309), (2904, 0.004025390742243908), (475, 0.004025133669432482), (2169, 0.004020338786543212), (3348, 0.00401615040526717), (2492, 0.004015083085476937), (2396, 0.004013822558131462), (3517, 0.004013054958834468), (2651, 0.004010515579296239), (377, 0.004005531419575727), (3283, 0.004003844279760297), (4536, 0.00400125871498476), (4355, 0.004000591071823373), (3445, 0.003998775642505709), (66, 0.00399675145212619), (4567, 0.003995672610899471), (1204, 0.003994726308152718), (2976, 0.003992595615468223), (115, 0.003989705994550205), (2894, 0.003988529082942608), (2430, 0.003987181298681558), (884, 0.003985625548584615), (3986, 0.00397761291029202), (2195, 0.00397618606664481), (1625, 0.003974939184185504), (3755, 0.003974541930461615), (3290, 0.003972940938436815), (3477, 0.003970897204890032), (4129, 0.003969232615294299), (2945, 0.003968742104799202), (71, 0.00396825083434942), (1294, 0.003968088905330658), (2779, 0.003968016735822517), (4356, 0.003967441637886334), (3216, 0.003966439643041455), (2571, 0.003963102249119985), (2034, 0.003962435312991165), (456, 0.003961865227593672), (26, 0.003961026393151617), (198, 0.003956948103254957), (890, 0.0039535952316190025), (2083, 0.00394937719356879), (2319, 0.003948802396245841), (680, 0.0039479863991865195), (1007, 0.003946537283987137), (3701, 0.003944642465889201), (2610, 0.003941828588582348), (4530, 0.0039365263836525135), (1877, 0.003932950385219292), (169, 0.003931950989535631), (993, 0.003931062135150082), (1102, 0.003930367579992301), (1516, 0.003927379671908815), (2068, 0.003924380903328766), (3673, 0.003923018199871402), (3243, 0.003918414306128314), (3478, 0.003917721834275349), (1891, 0.003916890000977303), (1176, 0.0039167298968392425), (2354, 0.003916627031787216), (3260, 0.003914386124096319), (1598, 0.003914015359544833), (4472, 0.003912916513032204), (4197, 0.003910963682311382), (247, 0.003907751298041242), (2826, 0.003907219987570818), (471, 0.003906568079895949), (969, 0.0039050868067594825), (2747, 0.0039023894656038073), (4687, 0.0039014515672071795), (774, 0.0038998354176350875), (221, 0.003895374208133374), (2642, 0.0038945903249989395), (4036, 0.0038933770199924955), (3668, 0.00389258598967033), (1617, 0.003888916199723994), (2340, 0.003883545063411596), (4394, 0.003882914909943155), (2495, 0.0038809027183802844), (3014, 0.0038757611384464003), (883, 0.003870827796220446), (3493, 0.003868727829765197), (103, 0.0038681268160833723), (655, 0.0038679576245449847), (1765, 0.003866796716061737), (3792, 0.00386668429337345), (4183, 0.00386246258909435), (3402, 0.00385705926807798), (1084, 0.0038570359334016537), (3565, 0.0038555838221118453), (2141, 0.003855441145400437), (3298, 0.0038536983088998714), (2612, 0.0038482457044325034), (2102, 0.0038468279508273077), (1122, 0.0038460289747857795), (2163, 0.003844665132394982), (4487, 0.003843870746149695), (3441, 0.003843853513432506), (453, 0.003843526381809138), (3739, 0.0038423305413066624), (2117, 0.0038422049000493078), (127, 0.003841811869962539), (2569, 0.003840446909841822), (2387, 0.00383430379867735), (2416, 0.00382779389757539), (4135, 0.003826280458011011), (2912, 0.0038261827287117485), (4085, 0.003825064548614008), (2131, 0.0038250321741793666), (2878, 0.0038238442475526163), (3890, 0.0038185985103597617), (3412, 0.003817954823347772), (3379, 0.0038162625693218067), (2367, 0.0038126133336855916), (165, 0.0038117903611527763), (348, 0.0038108190337602845), (1744, 0.0038106830411716946), (1463, 0.0038079949644463005), (1286, 0.003806404365145004), (2067, 0.003805692182424952), (1574, 0.00380460736719633), (2422, 0.003803974560046657), (984, 0.0038010965217165097), (3278, 0.0038007183158985775), (3182, 0.0037992286939134323), (2520, 0.0037976541307925896), (3646, 0.003789280229301508), (4137, 0.0037857922064325447), (1355, 0.003785663991027678), (1313, 0.003785407157052442), (399, 0.0037852347573569473), (1273, 0.0037833962766256816), (1170, 0.0037818529356217303), (11, 0.0037792709133114056), (372, 0.003778511701531187), (490, 0.003776440155022303), (2226, 0.003774554110987344), (3220, 0.003774436715129752), (4608, 0.0037743584463909665), (1408, 0.003772599798132092), (495, 0.0037707167428238605), (1533, 0.003769713634590251), (2593, 0.0037696954559108846), (2467, 0.003769506509660329), (114, 0.0037684470993980686), (2129, 0.0037665811905839394), (3548, 0.0037663180863573764), (3147, 0.003765915261618068), (1550, 0.0037652815082941057), (973, 0.00376415496992882), (2461, 0.0037635859898364015), (2965, 0.0037631263744968757), (3906, 0.0037621612444891242), (4059, 0.003760631123730892), (1059, 0.00376014846112874), (4011, 0.003759746141736628), (1672, 0.0037541452955801454), (2213, 0.0037528355570124235), (1117, 0.0037522782715013604), (4020, 0.0037488040638089986), (2634, 0.003744339254345012), (3211, 0.0037424196481448727), (3369, 0.0037403608827361046), (3304, 0.0037313132328674246), (3606, 0.003730395965797728), (2192, 0.0037282545921463657), (749, 0.0037265529406721393), (1831, 0.003724262953372872), (2954, 0.003722212745058001), (505, 0.0037221545065284187), (907, 0.00372172658337163), (1304, 0.0037209235579288413), (3028, 0.0037163003804924584), (1298, 0.0037124552753450227), (4069, 0.003707896424318949), (98, 0.0037074876631286776), (722, 0.003705231676022916), (755, 0.0037045113794376048), (3347, 0.0036999358895140996), (865, 0.0036926579516123816), (522, 0.0036892414796822286), (1110, 0.0036887637976258706), (1813, 0.003688231621776091), (2862, 0.003687393634437844), (3641, 0.0036865265336741863), (2446, 0.0036851674419642994), (3669, 0.0036836693943161406), (2242, 0.003680276231281444), (1131, 0.003677266265367638), (3913, 0.003676483188987138), (1319, 0.0036719142264329853), (959, 0.003668713638161582), (3390, 0.0036674453495453875), (3455, 0.0036673809836023034), (4104, 0.0036622152168835514), (1422, 0.0036593544669306748), (4155, 0.003659299913765315), (2268, 0.003659267219726674), (480, 0.0036590330026859117), (1036, 0.0036585606983308774), (4429, 0.003657488559197855), (1663, 0.003653243716367653), (672, 0.003652280745532524), (4636, 0.003649296867712168), (3765, 0.0036491500257910415), (229, 0.0036471355545809893), (3564, 0.0036459791477027425), (1543, 0.0036451326366927174), (886, 0.0036441648444576163), (4277, 0.003638732180034275), (2060, 0.003638094647128995), (1247, 0.00363629532267618), (2892, 0.0036352797199899973), (4345, 0.003634775377872415), (1416, 0.0036251991121420656), (3795, 0.003624891802689006), (3811, 0.003624432165116772), (2111, 0.0036164699884786967), (2972, 0.003616252984053705), (2457, 0.0036161397208821027), (1882, 0.0036155514354498626), (3300, 0.0036128556000492623), (698, 0.003612169346532072), (798, 0.003610495742798145), (1641, 0.0036068031949160564), (2004, 0.0036037685857258947), (944, 0.0036037051223319267), (132, 0.0036031864167333236), (268, 0.0036028051211458075), (3327, 0.003599921711409587), (645, 0.003597515514320847), (2201, 0.003596526117093653), (4620, 0.003595913760393985), (2313, 0.0035948165410550864), (2399, 0.0035941945406204466), (541, 0.003593982443613264), (158, 0.0035937207412129637), (2802, 0.0035928030148585977), (3868, 0.003588249741475875), (2146, 0.003581391967989029), (4359, 0.003579967697052335), (1645, 0.0035784482589309194), (1034, 0.0035774727613831214), (4139, 0.0035769205120736746), (1605, 0.003575041942210657), (3381, 0.0035748586731918787), (647, 0.0035747901955095703), (1929, 0.003574244012175766), (4634, 0.0035725938732251157), (2800, 0.003571871288369609), (507, 0.003570338732526777), (1558, 0.0035651246186397265), (1565, 0.003562675279450165), (2765, 0.0035590260052214273), (3691, 0.0035575663664843367), (1370, 0.0035563681414025167), (416, 0.003555974379200581), (3315, 0.0035547293698105307), (3311, 0.0035546638870308754), (167, 0.003554553134681872), (2099, 0.003550927187278418), (3200, 0.0035482946823549664), (388, 0.003546462981449164), (4598, 0.003541747130522208), (1404, 0.0035391863278955516), (3071, 0.0035381149035107655), (2323, 0.00353487918482833), (3953, 0.0035348682740833945), (2909, 0.00353318346288238), (2743, 0.0035307452649639085), (1357, 0.003530686066092608), (2920, 0.0035291260398927576), (1954, 0.003528736760236361), (1209, 0.0035258906126468775), (2591, 0.0035250142275977656), (4220, 0.003523080800133303), (359, 0.0035213877011688803), (1042, 0.003519066400389176), (1597, 0.0035186085105419294), (325, 0.003514182887118939), (2525, 0.0035128725250864142), (1002, 0.003509813234156517), (3503, 0.003504355160073132), (3742, 0.003503808439358898), (92, 0.0035036664446600856), (355, 0.0034987943219422723), (1642, 0.003497633087370338), (885, 0.0034976234463457746), (1666, 0.003494891317532167), (1060, 0.0034914434631932566), (1026, 0.0034897210710696015), (1372, 0.003488692299918509), (4066, 0.0034879930850068436), (951, 0.0034869010335913), (1080, 0.0034865568634305445), (659, 0.0034833358595639363), (1284, 0.003483101572276707), (1366, 0.0034827440403821944), (1742, 0.0034815871358592604), (267, 0.003481315826702427), (854, 0.003479802141648567), (2453, 0.003479665592260655), (410, 0.0034763194364671483), (4247, 0.003474075137925775), (2338, 0.0034709736885990762), (136, 0.003470170569944275), (707, 0.003467710798990551), (524, 0.0034639932748753446), (2611, 0.0034622705320700793), (852, 0.003461811792245007), (1969, 0.0034613578821183952), (731, 0.0034610187488767212), (1027, 0.0034575868381786345), (3725, 0.0034556336570232813), (1693, 0.003455425725500271), (3024, 0.003454923848941592), (4626, 0.003453532735833123), (1869, 0.003452989680084778), (759, 0.003452547778400721), (805, 0.0034459717626726676), (598, 0.0034453036193621634), (1977, 0.0034430277211873078), (349, 0.003437112352784993), (1827, 0.003436215716729612), (215, 0.0034338874332900714), (2132, 0.0034314525474435412), (2127, 0.0034279710782637233), (121, 0.003425531684026492), (1528, 0.003425212142997147), (1392, 0.0034251399244442948), (324, 0.0034223709004732685), (4152, 0.003416497915597362), (4476, 0.0034095046644687516), (3894, 0.003407395291689147), (2509, 0.003406354668017064), (1423, 0.0034030001744453477), (373, 0.0034010932589288944), (1503, 0.00339905597638193), (457, 0.003397756251728065), (2552, 0.0033938830681399614), (4550, 0.003393380047070008), (856, 0.0033840287407933814), (589, 0.003379828965815522), (3194, 0.0033777981321306415), (1830, 0.0033766628476612826), (3863, 0.0033749461897365457), (1079, 0.0033740057861692367), (1098, 0.0033727026216009127), (594, 0.0033703887298844578), (3380, 0.003368994774357378), (1004, 0.003367899479523152), (1763, 0.0033663409969135758), (3657, 0.0033618013207313184), (357, 0.0033600593517782236), (3614, 0.0033593058035371252), (3563, 0.003357558510761092), (4428, 0.003357443186337603), (2528, 0.0033574281280102976), (1814, 0.0033562442061218006), (4074, 0.003356048048365923), (195, 0.0033532442558779872), (4479, 0.0033306899414150227), (4350, 0.0033296391356366223), (1186, 0.0033286707981617656), (3167, 0.0033260433193275907), (1352, 0.0033236197919604797), (3027, 0.0033210344629630143), (2845, 0.0033180706793806314), (1456, 0.003315860736098032), (815, 0.003311153080436461), (3254, 0.003303518510904659), (2502, 0.0032964250632714315), (4174, 0.0032940974056116738), (4411, 0.0032940816781256627), (2482, 0.0032907759536593586), (3336, 0.0032870083762238816), (2010, 0.0032866633389309254), (97, 0.0032799246552460627), (2166, 0.003278046355048102), (1782, 0.0032779969304272596), (154, 0.003273497127882597), (1219, 0.0032734406203447875), (3538, 0.003271203901258989), (1616, 0.003267579264357984), (2526, 0.003264240272052675), (712, 0.003261508746860433), (3629, 0.0032602111469960753), (605, 0.003258231404273585), (4143, 0.003247436436008295), (3056, 0.0032458802744596955), (4473, 0.0032404833736425485), (1980, 0.0032260299575321057), (1719, 0.003219012023372819), (2157, 0.0032173631420819786), (1318, 0.0032152825352965244), (184, 0.0032152244824737073), (2753, 0.003209981749247208), (4445, 0.0032045139495049963), (249, 0.0031955160182256144), (2047, 0.0031888516603227925), (1394, 0.0031857989199178473), (1921, 0.0031812138366465194), (1808, 0.003177661862729307), (2287, 0.003176320322243111), (2728, 0.003173601014646693), (3569, 0.0031646904047099734), (1340, 0.003156013310438718), (2721, 0.0031439978792545597), (3855, 0.003143811136485702), (1943, 0.003141070226477526), (3575, 0.0031347425338805446), (703, 0.003133473290559972), (1450, 0.0031177798985950584), (1251, 0.003116806962867645), (1199, 0.003116598927595115), (1301, 0.003113853241611358), (2527, 0.003113782229116129), (2382, 0.003106114132591224), (3199, 0.003104408573022638), (2270, 0.003094032152737502), (1217, 0.0030796750570816), (2240, 0.0030785596816305803), (3393, 0.0030749290802083566), (196, 0.003071367548453647), (1801, 0.003067110990037594), (2761, 0.0030666832288333674), (4015, 0.003066543909632572), (1691, 0.0030638359383358244), (1828, 0.0030609772378206285), (2758, 0.003053122277472558), (3238, 0.003028849153570603), (3252, 0.003024883062468309), (432, 0.0030222387670351737), (286, 0.0030148520794489922), (2039, 0.0030060639361283426), (1088, 0.0030054543267150832), (293, 0.0029906700983077473), (626, 0.0029736081360205277), (1427, 0.002970700479896415), (278, 0.0029686012996890518), (901, 0.0029641186952893517), (607, 0.002958849869882881), (2359, 0.0029554305310812825), (4752, 0.0029338678007044794), (2441, 0.0029197115674362423), (4200, 0.002903089874958197), (1886, 0.0029029121240143926), (1305, 0.0028706286120838303), (1624, 0.0028539200705980905), (194, 0.002842603639589213), (3626, 0.0028282637400275142), (1277, 0.0028252865180031666), (3365, 0.0027983943560482743), (2767, 0.0027797737600580357), (1677, 0.00277961661384426), (4171, 0.002775390165056342), (2766, 0.002752419757472069), (3301, 0.002728230465005579), (351, 0.0026795085642093612), (2760, 0.00267084836497878), (3546, 0.0026526818446119416), (2902, 0.002632431991228857), (228, 0.002600887905650013), (2636, 0.002526138343358358), (3392, 0.0024471144134674103), (202, 0.002401006535817087), (129, 0.0023819107044706265), (24, 0.0022626891703794627), (740, 0.0022500765427099943), (858, 0.0022440281511861837), (1780, 0.0021554754583429517), (2534, 0.001427303142872386), (1, 0.0), (2, 0.0), (14, 0.0), (17, 0.0), (28, 0.0), (36, 0.0), (37, 0.0), (49, 0.0), (53, 0.0), (54, 0.0), (55, 0.0), (58, 0.0), (59, 0.0), (64, 0.0), (73, 0.0), (91, 0.0), (100, 0.0), (101, 0.0), (110, 0.0), (117, 0.0), (133, 0.0), (134, 0.0), (141, 0.0), (146, 0.0), (150, 0.0), (151, 0.0), (153, 0.0), (163, 0.0), (171, 0.0), (186, 0.0), (188, 0.0), (205, 0.0), (214, 0.0), (219, 0.0), (223, 0.0), (225, 0.0), (237, 0.0), (245, 0.0), (257, 0.0), (258, 0.0), (259, 0.0), (264, 0.0), (265, 0.0), (272, 0.0), (275, 0.0), (297, 0.0), (298, 0.0), (299, 0.0), (302, 0.0), (312, 0.0), (319, 0.0), (331, 0.0), (335, 0.0), (337, 0.0), (338, 0.0), (339, 0.0), (344, 0.0), (352, 0.0), (361, 0.0), (362, 0.0), (365, 0.0), (366, 0.0), (376, 0.0), (379, 0.0), (382, 0.0), (383, 0.0), (384, 0.0), (390, 0.0), (391, 0.0), (392, 0.0), (393, 0.0), (394, 0.0), (398, 0.0), (401, 0.0), (404, 0.0), (405, 0.0), (411, 0.0), (415, 0.0), (421, 0.0), (423, 0.0), (427, 0.0), (439, 0.0), (440, 0.0), (454, 0.0), (459, 0.0), (462, 0.0), (484, 0.0), (486, 0.0), (491, 0.0), (492, 0.0), (498, 0.0), (506, 0.0), (516, 0.0), (517, 0.0), (520, 0.0), (525, 0.0), (528, 0.0), (529, 0.0), (531, 0.0), (535, 0.0), (536, 0.0), (546, 0.0), (548, 0.0), (549, 0.0), (552, 0.0), (554, 0.0), (556, 0.0), (557, 0.0), (565, 0.0), (567, 0.0), (569, 0.0), (570, 0.0), (572, 0.0), (573, 0.0), (574, 0.0), (575, 0.0), (577, 0.0), (585, 0.0), (591, 0.0), (592, 0.0), (599, 0.0), (601, 0.0), (602, 0.0), (603, 0.0), (610, 0.0), (630, 0.0), (649, 0.0), (650, 0.0), (656, 0.0), (658, 0.0), (662, 0.0), (663, 0.0), (665, 0.0), (674, 0.0), (679, 0.0), (681, 0.0), (686, 0.0), (699, 0.0), (700, 0.0), (702, 0.0), (704, 0.0), (708, 0.0), (709, 0.0), (711, 0.0), (713, 0.0), (714, 0.0), (718, 0.0), (720, 0.0), (724, 0.0), (725, 0.0), (726, 0.0), (730, 0.0), (736, 0.0), (741, 0.0), (746, 0.0), (747, 0.0), (751, 0.0), (754, 0.0), (764, 0.0), (770, 0.0), (771, 0.0), (772, 0.0), (773, 0.0), (780, 0.0), (781, 0.0), (784, 0.0), (785, 0.0), (786, 0.0), (789, 0.0), (797, 0.0), (807, 0.0), (819, 0.0), (820, 0.0), (822, 0.0), (837, 0.0), (839, 0.0), (840, 0.0), (841, 0.0), (846, 0.0), (859, 0.0), (881, 0.0), (882, 0.0), (892, 0.0), (909, 0.0), (912, 0.0), (913, 0.0), (914, 0.0), (920, 0.0), (926, 0.0), (938, 0.0), (943, 0.0), (945, 0.0), (946, 0.0), (950, 0.0), (954, 0.0), (955, 0.0), (956, 0.0), (960, 0.0), (961, 0.0), (964, 0.0), (965, 0.0), (971, 0.0), (972, 0.0), (977, 0.0), (978, 0.0), (982, 0.0), (983, 0.0), (990, 0.0), (995, 0.0), (1008, 0.0), (1010, 0.0), (1011, 0.0), (1013, 0.0), (1016, 0.0), (1022, 0.0), (1025, 0.0), (1028, 0.0), (1029, 0.0), (1031, 0.0), (1038, 0.0), (1039, 0.0), (1051, 0.0), (1055, 0.0), (1056, 0.0), (1057, 0.0), (1062, 0.0), (1066, 0.0), (1067, 0.0), (1073, 0.0), (1081, 0.0), (1085, 0.0), (1086, 0.0), (1089, 0.0), (1091, 0.0), (1093, 0.0), (1097, 0.0), (1101, 0.0), (1103, 0.0), (1105, 0.0), (1106, 0.0), (1108, 0.0), (1113, 0.0), (1126, 0.0), (1130, 0.0), (1133, 0.0), (1135, 0.0), (1139, 0.0), (1142, 0.0), (1143, 0.0), (1147, 0.0), (1149, 0.0), (1151, 0.0), (1155, 0.0), (1156, 0.0), (1159, 0.0), (1165, 0.0), (1166, 0.0), (1171, 0.0), (1178, 0.0), (1180, 0.0), (1189, 0.0), (1190, 0.0), (1193, 0.0), (1196, 0.0), (1198, 0.0), (1200, 0.0), (1201, 0.0), (1205, 0.0), (1212, 0.0), (1218, 0.0), (1221, 0.0), (1222, 0.0), (1227, 0.0), (1228, 0.0), (1233, 0.0), (1235, 0.0), (1240, 0.0), (1242, 0.0), (1244, 0.0), (1246, 0.0), (1253, 0.0), (1256, 0.0), (1258, 0.0), (1263, 0.0), (1265, 0.0), (1268, 0.0), (1269, 0.0), (1271, 0.0), (1283, 0.0), (1285, 0.0), (1287, 0.0), (1288, 0.0), (1289, 0.0), (1291, 0.0), (1295, 0.0), (1296, 0.0), (1297, 0.0), (1299, 0.0), (1315, 0.0), (1321, 0.0), (1322, 0.0), (1323, 0.0), (1326, 0.0), (1328, 0.0), (1333, 0.0), (1336, 0.0), (1346, 0.0), (1353, 0.0), (1354, 0.0), (1368, 0.0), (1373, 0.0), (1390, 0.0), (1399, 0.0), (1424, 0.0), (1437, 0.0), (1441, 0.0), (1444, 0.0), (1447, 0.0), (1457, 0.0), (1459, 0.0), (1460, 0.0), (1466, 0.0), (1467, 0.0), (1468, 0.0), (1470, 0.0), (1473, 0.0), (1482, 0.0), (1485, 0.0), (1487, 0.0), (1490, 0.0), (1491, 0.0), (1495, 0.0), (1496, 0.0), (1508, 0.0), (1511, 0.0), (1517, 0.0), (1520, 0.0), (1521, 0.0), (1522, 0.0), (1524, 0.0), (1525, 0.0), (1529, 0.0), (1532, 0.0), (1534, 0.0), (1535, 0.0), (1541, 0.0), (1545, 0.0), (1548, 0.0), (1549, 0.0), (1556, 0.0), (1557, 0.0), (1560, 0.0), (1561, 0.0), (1563, 0.0), (1564, 0.0), (1569, 0.0), (1577, 0.0), (1578, 0.0), (1581, 0.0), (1584, 0.0), (1586, 0.0), (1589, 0.0), (1592, 0.0), (1596, 0.0), (1599, 0.0), (1600, 0.0), (1601, 0.0), (1602, 0.0), (1603, 0.0), (1604, 0.0), (1606, 0.0), (1607, 0.0), (1610, 0.0), (1611, 0.0), (1613, 0.0), (1615, 0.0), (1618, 0.0), (1626, 0.0), (1636, 0.0), (1638, 0.0), (1639, 0.0), (1640, 0.0), (1646, 0.0), (1649, 0.0), (1651, 0.0), (1652, 0.0), (1657, 0.0), (1668, 0.0), (1669, 0.0), (1673, 0.0), (1679, 0.0), (1686, 0.0), (1689, 0.0), (1697, 0.0), (1698, 0.0), (1700, 0.0), (1702, 0.0), (1704, 0.0), (1709, 0.0), (1720, 0.0), (1725, 0.0), (1726, 0.0), (1728, 0.0), (1729, 0.0), (1731, 0.0), (1734, 0.0), (1745, 0.0), (1751, 0.0), (1755, 0.0), (1756, 0.0), (1757, 0.0), (1758, 0.0), (1766, 0.0), (1767, 0.0), (1769, 0.0), (1771, 0.0), (1775, 0.0), (1777, 0.0), (1778, 0.0), (1783, 0.0), (1785, 0.0), (1786, 0.0), (1794, 0.0), (1800, 0.0), (1803, 0.0), (1804, 0.0), (1810, 0.0), (1820, 0.0), (1823, 0.0), (1824, 0.0), (1825, 0.0), (1834, 0.0), (1835, 0.0), (1836, 0.0), (1837, 0.0), (1839, 0.0), (1842, 0.0), (1844, 0.0), (1855, 0.0), (1856, 0.0), (1879, 0.0), (1883, 0.0), (1888, 0.0), (1889, 0.0), (1894, 0.0), (1898, 0.0), (1899, 0.0), (1912, 0.0), (1915, 0.0), (1917, 0.0), (1926, 0.0), (1928, 0.0), (1932, 0.0), (1938, 0.0), (1944, 0.0), (1955, 0.0), (1956, 0.0), (1961, 0.0), (1963, 0.0), (1965, 0.0), (1966, 0.0), (1972, 0.0), (1974, 0.0), (1978, 0.0), (1979, 0.0), (1984, 0.0), (1999, 0.0), (2001, 0.0), (2002, 0.0), (2003, 0.0), (2006, 0.0), (2007, 0.0), (2009, 0.0), (2017, 0.0), (2018, 0.0), (2019, 0.0), (2021, 0.0), (2025, 0.0), (2028, 0.0), (2030, 0.0), (2032, 0.0), (2033, 0.0), (2036, 0.0), (2038, 0.0), (2041, 0.0), (2042, 0.0), (2043, 0.0), (2046, 0.0), (2050, 0.0), (2054, 0.0), (2059, 0.0), (2063, 0.0), (2071, 0.0), (2079, 0.0), (2081, 0.0), (2085, 0.0), (2086, 0.0), (2090, 0.0), (2092, 0.0), (2100, 0.0), (2106, 0.0), (2107, 0.0), (2115, 0.0), (2118, 0.0), (2120, 0.0), (2124, 0.0), (2125, 0.0), (2128, 0.0), (2135, 0.0), (2138, 0.0), (2140, 0.0), (2150, 0.0), (2152, 0.0), (2153, 0.0), (2164, 0.0), (2165, 0.0), (2168, 0.0), (2170, 0.0), (2171, 0.0), (2172, 0.0), (2179, 0.0), (2180, 0.0), (2182, 0.0), (2183, 0.0), (2186, 0.0), (2194, 0.0), (2200, 0.0), (2204, 0.0), (2215, 0.0), (2217, 0.0), (2218, 0.0), (2219, 0.0), (2220, 0.0), (2222, 0.0), (2225, 0.0), (2227, 0.0), (2233, 0.0), (2234, 0.0), (2238, 0.0), (2241, 0.0), (2243, 0.0), (2247, 0.0), (2249, 0.0), (2253, 0.0), (2256, 0.0), (2259, 0.0), (2261, 0.0), (2262, 0.0), (2263, 0.0), (2267, 0.0), (2271, 0.0), (2272, 0.0), (2274, 0.0), (2281, 0.0), (2282, 0.0), (2296, 0.0), (2297, 0.0), (2300, 0.0), (2305, 0.0), (2307, 0.0), (2311, 0.0), (2312, 0.0), (2315, 0.0), (2322, 0.0), (2325, 0.0), (2327, 0.0), (2329, 0.0), (2331, 0.0), (2332, 0.0), (2333, 0.0), (2337, 0.0), (2341, 0.0), (2342, 0.0), (2345, 0.0), (2351, 0.0), (2352, 0.0), (2357, 0.0), (2358, 0.0), (2360, 0.0), (2364, 0.0), (2365, 0.0), (2369, 0.0), (2371, 0.0), (2372, 0.0), (2373, 0.0), (2377, 0.0), (2380, 0.0), (2381, 0.0), (2384, 0.0), (2389, 0.0), (2395, 0.0), (2398, 0.0), (2409, 0.0), (2414, 0.0), (2420, 0.0), (2431, 0.0), (2433, 0.0), (2435, 0.0), (2445, 0.0), (2449, 0.0), (2450, 0.0), (2451, 0.0), (2452, 0.0), (2455, 0.0), (2456, 0.0), (2458, 0.0), (2462, 0.0), (2465, 0.0), (2470, 0.0), (2471, 0.0), (2472, 0.0), (2479, 0.0), (2483, 0.0), (2485, 0.0), (2491, 0.0), (2493, 0.0), (2497, 0.0), (2498, 0.0), (2499, 0.0), (2500, 0.0), (2504, 0.0), (2508, 0.0), (2511, 0.0), (2514, 0.0), (2515, 0.0), (2516, 0.0), (2518, 0.0), (2521, 0.0), (2523, 0.0), (2532, 0.0), (2536, 0.0), (2539, 0.0), (2542, 0.0), (2543, 0.0), (2547, 0.0), (2548, 0.0), (2549, 0.0), (2551, 0.0), (2562, 0.0), (2564, 0.0), (2566, 0.0), (2574, 0.0), (2575, 0.0), (2577, 0.0), (2578, 0.0), (2583, 0.0), (2584, 0.0), (2586, 0.0), (2588, 0.0), (2589, 0.0), (2590, 0.0), (2594, 0.0), (2596, 0.0), (2597, 0.0), (2604, 0.0), (2605, 0.0), (2608, 0.0), (2615, 0.0), (2616, 0.0), (2620, 0.0), (2627, 0.0), (2631, 0.0), (2637, 0.0), (2641, 0.0), (2646, 0.0), (2648, 0.0), (2656, 0.0), (2657, 0.0), (2658, 0.0), (2659, 0.0), (2662, 0.0), (2663, 0.0), (2666, 0.0), (2667, 0.0), (2669, 0.0), (2670, 0.0), (2671, 0.0), (2672, 0.0), (2675, 0.0), (2676, 0.0), (2677, 0.0), (2681, 0.0), (2684, 0.0), (2685, 0.0), (2686, 0.0), (2690, 0.0), (2693, 0.0), (2699, 0.0), (2701, 0.0), (2703, 0.0), (2704, 0.0), (2709, 0.0), (2710, 0.0), (2713, 0.0), (2715, 0.0), (2717, 0.0), (2718, 0.0), (2719, 0.0), (2729, 0.0), (2730, 0.0), (2734, 0.0), (2737, 0.0), (2749, 0.0), (2750, 0.0), (2754, 0.0), (2756, 0.0), (2763, 0.0), (2770, 0.0), (2773, 0.0), (2781, 0.0), (2785, 0.0), (2793, 0.0), (2794, 0.0), (2799, 0.0), (2804, 0.0), (2806, 0.0), (2810, 0.0), (2811, 0.0), (2813, 0.0), (2814, 0.0), (2817, 0.0), (2818, 0.0), (2824, 0.0), (2827, 0.0), (2828, 0.0), (2829, 0.0), (2835, 0.0), (2836, 0.0), (2837, 0.0), (2839, 0.0), (2842, 0.0), (2843, 0.0), (2850, 0.0), (2851, 0.0), (2852, 0.0), (2855, 0.0), (2856, 0.0), (2860, 0.0), (2864, 0.0), (2865, 0.0), (2866, 0.0), (2875, 0.0), (2877, 0.0), (2880, 0.0), (2885, 0.0), (2891, 0.0), (2896, 0.0), (2898, 0.0), (2905, 0.0), (2906, 0.0), (2921, 0.0), (2922, 0.0), (2927, 0.0), (2928, 0.0), (2930, 0.0), (2938, 0.0), (2941, 0.0), (2950, 0.0), (2951, 0.0), (2952, 0.0), (2955, 0.0), (2956, 0.0), (2958, 0.0), (2967, 0.0), (2968, 0.0), (2973, 0.0), (2979, 0.0), (2982, 0.0), (2983, 0.0), (2990, 0.0), (3001, 0.0), (3002, 0.0), (3006, 0.0), (3009, 0.0), (3017, 0.0), (3021, 0.0), (3025, 0.0), (3029, 0.0), (3034, 0.0), (3038, 0.0), (3041, 0.0), (3047, 0.0), (3048, 0.0), (3053, 0.0), (3054, 0.0), (3058, 0.0), (3059, 0.0), (3060, 0.0), (3061, 0.0), (3063, 0.0), (3068, 0.0), (3073, 0.0), (3077, 0.0), (3078, 0.0), (3080, 0.0), (3082, 0.0), (3083, 0.0), (3087, 0.0), (3088, 0.0), (3089, 0.0), (3090, 0.0), (3092, 0.0), (3103, 0.0), (3104, 0.0), (3105, 0.0), (3106, 0.0), (3107, 0.0), (3109, 0.0), (3115, 0.0), (3121, 0.0), (3130, 0.0), (3132, 0.0), (3138, 0.0), (3141, 0.0), (3145, 0.0), (3162, 0.0), (3169, 0.0), (3172, 0.0), (3175, 0.0), (3176, 0.0), (3177, 0.0), (3181, 0.0), (3188, 0.0), (3189, 0.0), (3190, 0.0), (3193, 0.0), (3197, 0.0), (3201, 0.0), (3202, 0.0), (3203, 0.0), (3204, 0.0), (3207, 0.0), (3208, 0.0), (3212, 0.0), (3217, 0.0), (3221, 0.0), (3223, 0.0), (3229, 0.0), (3231, 0.0), (3236, 0.0), (3250, 0.0), (3251, 0.0), (3255, 0.0), (3261, 0.0), (3266, 0.0), (3270, 0.0), (3272, 0.0), (3277, 0.0), (3281, 0.0), (3286, 0.0), (3287, 0.0), (3305, 0.0), (3310, 0.0), (3319, 0.0), (3320, 0.0), (3321, 0.0), (3323, 0.0), (3324, 0.0), (3332, 0.0), (3333, 0.0), (3340, 0.0), (3343, 0.0), (3350, 0.0), (3366, 0.0), (3368, 0.0), (3371, 0.0), (3378, 0.0), (3383, 0.0), (3394, 0.0), (3397, 0.0), (3400, 0.0), (3401, 0.0), (3411, 0.0), (3415, 0.0), (3422, 0.0), (3424, 0.0), (3427, 0.0), (3428, 0.0), (3439, 0.0), (3442, 0.0), (3444, 0.0), (3454, 0.0), (3459, 0.0), (3461, 0.0), (3467, 0.0), (3472, 0.0), (3473, 0.0), (3475, 0.0), (3476, 0.0), (3481, 0.0), (3482, 0.0), (3485, 0.0), (3489, 0.0), (3490, 0.0), (3494, 0.0), (3505, 0.0), (3510, 0.0), (3519, 0.0), (3522, 0.0), (3525, 0.0), (3529, 0.0), (3530, 0.0), (3532, 0.0), (3533, 0.0), (3539, 0.0), (3543, 0.0), (3545, 0.0), (3547, 0.0), (3549, 0.0), (3550, 0.0), (3554, 0.0), (3562, 0.0), (3567, 0.0), (3568, 0.0), (3572, 0.0), (3573, 0.0), (3574, 0.0), (3578, 0.0), (3581, 0.0), (3585, 0.0), (3589, 0.0), (3591, 0.0), (3592, 0.0), (3595, 0.0), (3600, 0.0), (3603, 0.0), (3607, 0.0), (3609, 0.0), (3610, 0.0), (3617, 0.0), (3622, 0.0), (3625, 0.0), (3628, 0.0), (3631, 0.0), (3633, 0.0), (3644, 0.0), (3649, 0.0), (3650, 0.0), (3662, 0.0), (3663, 0.0), (3671, 0.0), (3676, 0.0), (3681, 0.0), (3682, 0.0), (3683, 0.0), (3685, 0.0), (3686, 0.0), (3688, 0.0), (3690, 0.0), (3693, 0.0), (3695, 0.0), (3697, 0.0), (3698, 0.0), (3700, 0.0), (3702, 0.0), (3703, 0.0), (3709, 0.0), (3712, 0.0), (3716, 0.0), (3717, 0.0), (3718, 0.0), (3722, 0.0), (3724, 0.0), (3726, 0.0), (3730, 0.0), (3732, 0.0), (3735, 0.0), (3736, 0.0), (3738, 0.0), (3740, 0.0), (3743, 0.0), (3753, 0.0), (3758, 0.0), (3759, 0.0), (3760, 0.0), (3761, 0.0), (3764, 0.0), (3773, 0.0), (3783, 0.0), (3785, 0.0), (3786, 0.0), (3789, 0.0), (3790, 0.0), (3791, 0.0), (3796, 0.0), (3798, 0.0), (3800, 0.0), (3803, 0.0), (3805, 0.0), (3808, 0.0), (3812, 0.0), (3816, 0.0), (3817, 0.0), (3818, 0.0), (3820, 0.0), (3830, 0.0), (3831, 0.0), (3834, 0.0), (3836, 0.0), (3837, 0.0), (3838, 0.0), (3840, 0.0), (3843, 0.0), (3846, 0.0), (3847, 0.0), (3851, 0.0), (3856, 0.0), (3858, 0.0), (3859, 0.0), (3869, 0.0), (3870, 0.0), (3871, 0.0), (3879, 0.0), (3885, 0.0), (3887, 0.0), (3891, 0.0), (3896, 0.0), (3912, 0.0), (3914, 0.0), (3916, 0.0), (3918, 0.0), (3921, 0.0), (3923, 0.0), (3929, 0.0), (3930, 0.0), (3931, 0.0), (3933, 0.0), (3936, 0.0), (3937, 0.0), (3943, 0.0), (3948, 0.0), (3950, 0.0), (3963, 0.0), (3964, 0.0), (3965, 0.0), (3968, 0.0), (3969, 0.0), (3971, 0.0), (3972, 0.0), (3977, 0.0), (3979, 0.0), (3980, 0.0), (3981, 0.0), (3982, 0.0), (3985, 0.0), (3988, 0.0), (3991, 0.0), (3994, 0.0), (3996, 0.0), (4003, 0.0), (4006, 0.0), (4010, 0.0), (4018, 0.0), (4021, 0.0), (4022, 0.0), (4026, 0.0), (4027, 0.0), (4029, 0.0), (4031, 0.0), (4034, 0.0), (4037, 0.0), (4040, 0.0), (4041, 0.0), (4058, 0.0), (4063, 0.0), (4064, 0.0), (4065, 0.0), (4067, 0.0), (4070, 0.0), (4072, 0.0), (4073, 0.0), (4078, 0.0), (4084, 0.0), (4086, 0.0), (4097, 0.0), (4100, 0.0), (4108, 0.0), (4109, 0.0), (4112, 0.0), (4114, 0.0), (4115, 0.0), (4125, 0.0), (4127, 0.0), (4128, 0.0), (4131, 0.0), (4144, 0.0), (4146, 0.0), (4150, 0.0), (4153, 0.0), (4157, 0.0), (4159, 0.0), (4166, 0.0), (4167, 0.0), (4168, 0.0), (4170, 0.0), (4173, 0.0), (4179, 0.0), (4180, 0.0), (4181, 0.0), (4185, 0.0), (4186, 0.0), (4188, 0.0), (4190, 0.0), (4191, 0.0), (4194, 0.0), (4195, 0.0), (4198, 0.0), (4199, 0.0), (4201, 0.0), (4204, 0.0), (4207, 0.0), (4212, 0.0), (4214, 0.0), (4215, 0.0), (4218, 0.0), (4223, 0.0), (4224, 0.0), (4229, 0.0), (4234, 0.0), (4237, 0.0), (4238, 0.0), (4239, 0.0), (4241, 0.0), (4250, 0.0), (4253, 0.0), (4256, 0.0), (4258, 0.0), (4260, 0.0), (4270, 0.0), (4271, 0.0), (4276, 0.0), (4278, 0.0), (4279, 0.0), (4291, 0.0), (4294, 0.0), (4297, 0.0), (4300, 0.0), (4302, 0.0), (4305, 0.0), (4313, 0.0), (4315, 0.0), (4316, 0.0), (4317, 0.0), (4319, 0.0), (4323, 0.0), (4324, 0.0), (4327, 0.0), (4329, 0.0), (4332, 0.0), (4338, 0.0), (4341, 0.0), (4346, 0.0), (4347, 0.0), (4352, 0.0), (4353, 0.0), (4358, 0.0), (4364, 0.0), (4370, 0.0), (4372, 0.0), (4393, 0.0), (4404, 0.0), (4405, 0.0), (4406, 0.0), (4408, 0.0), (4410, 0.0), (4413, 0.0), (4414, 0.0), (4415, 0.0), (4417, 0.0), (4421, 0.0), (4424, 0.0), (4425, 0.0), (4433, 0.0), (4434, 0.0), (4437, 0.0), (4439, 0.0), (4447, 0.0), (4449, 0.0), (4451, 0.0), (4452, 0.0), (4453, 0.0), (4454, 0.0), (4455, 0.0), (4457, 0.0), (4460, 0.0), (4463, 0.0), (4478, 0.0), (4480, 0.0), (4483, 0.0), (4485, 0.0), (4491, 0.0), (4493, 0.0), (4496, 0.0), (4498, 0.0), (4499, 0.0), (4500, 0.0), (4506, 0.0), (4508, 0.0), (4509, 0.0), (4519, 0.0), (4525, 0.0), (4526, 0.0), (4532, 0.0), (4539, 0.0), (4541, 0.0), (4542, 0.0), (4547, 0.0), (4549, 0.0), (4556, 0.0), (4558, 0.0), (4559, 0.0), (4560, 0.0), (4561, 0.0), (4562, 0.0), (4565, 0.0), (4568, 0.0), (4569, 0.0), (4570, 0.0), (4577, 0.0), (4578, 0.0), (4580, 0.0), (4588, 0.0), (4592, 0.0), (4597, 0.0), (4599, 0.0), (4600, 0.0), (4609, 0.0), (4613, 0.0), (4615, 0.0), (4618, 0.0), (4622, 0.0), (4628, 0.0), (4631, 0.0), (4635, 0.0), (4644, 0.0), (4645, 0.0), (4647, 0.0), (4648, 0.0), (4651, 0.0), (4654, 0.0), (4655, 0.0), (4659, 0.0), (4662, 0.0), (4667, 0.0), (4671, 0.0), (4672, 0.0), (4675, 0.0), (4676, 0.0), (4681, 0.0), (4683, 0.0), (4688, 0.0), (4690, 0.0), (4700, 0.0), (4702, 0.0), (4711, 0.0), (4714, 0.0), (4716, 0.0), (4720, 0.0), (4725, 0.0), (4728, 0.0), (4730, 0.0), (4736, 0.0), (4737, 0.0), (4740, 0.0), (4741, 0.0), (4742, 0.0), (4745, 0.0), (4750, 0.0), (4751, 0.0), (4754, 0.0), (4755, 0.0), (4758, 0.0), (4759, 0.0)]\n"
          ]
        }
      ]
    },
    {
      "cell_type": "code",
      "source": [
        "print('Top 30 Movies Suggested for You : \\n')\n",
        "\n",
        "i=1\n",
        "for movie in Sorted_Similar_Movies:\n",
        "  index=movie[0]\n",
        "  title_from_index=df[df.index==index]['Movie_Title'].values[0]\n",
        "  if(i<31):\n",
        "    print(i,'.',title_from_index)\n",
        "    i+=1"
      ],
      "metadata": {
        "colab": {
          "base_uri": "https://localhost:8080/"
        },
        "id": "gaMQED6BnvX2",
        "outputId": "e1cc9834-cf8c-41f5-f033-ed4841b19e71"
      },
      "execution_count": 33,
      "outputs": [
        {
          "output_type": "stream",
          "name": "stdout",
          "text": [
            "Top 30 Movies Suggested for You : \n",
            "\n",
            "1 . Niagara\n",
            "2 . Welcome to the Sticks\n",
            "3 . Harry Brown\n",
            "4 . The Curse of Downers Grove\n",
            "5 . The Boy Next Door\n",
            "6 . Eye for an Eye\n",
            "7 . Back to the Future\n",
            "8 . Enough\n",
            "9 . Superman III\n",
            "10 . Broken Vessels\n",
            "11 . Brokeback Mountain\n",
            "12 . Out of Time\n",
            "13 . The Raid\n",
            "14 . The Other Woman\n",
            "15 . World Trade Center\n",
            "16 . The Juror\n",
            "17 . The Odd Life of Timothy Green\n",
            "18 . All That Jazz\n",
            "19 . House of D\n",
            "20 . The Bank Job\n",
            "21 . The Lost Weekend\n",
            "22 . The Horse Whisperer\n",
            "23 . Premium Rush\n",
            "24 . The Longest Yard\n",
            "25 . Butterfly on a Wheel\n",
            "26 . Hugo\n",
            "27 . The Life Before Her Eyes\n",
            "28 . Blackhat\n",
            "29 . The Believer\n",
            "30 . The End of the Affair\n"
          ]
        }
      ]
    },
    {
      "cell_type": "markdown",
      "source": [
        "**Top 10 Movie Recommendation System**"
      ],
      "metadata": {
        "id": "wr7QQj8uooOK"
      }
    },
    {
      "cell_type": "code",
      "source": [
        "Movie_Name=input('Enter your favorite movie name : ')\n",
        "list_of_all_titles=df['Movie_Title'].tolist()\n",
        "Find_Close_Match=difflib.get_close_matches(Movie_Name,list_of_all_titles)\n",
        "Close_Match=Find_Close_Match[0]\n",
        "Index_of_Movie=df[df.Movie_Title==Close_Match]['Movie_ID'].values[0]\n",
        "Recommendation_Score=list(enumerate(Similarity_Score[Index_of_Movie]))\n",
        "Sorted_Similar_Movies=sorted(Recommendation_Score,key=lambda x:x[1],reverse=True)\n",
        "print(\"Top 10 Movies suggested for you : \\n\")\n",
        "i=1\n",
        "for movie in Sorted_Similar_Movies:\n",
        "  index=movie[0]\n",
        "  title_from_index=df[df.Movie_ID==index]['Movie_Title'].values\n",
        "  if(i<11):\n",
        "    print(i,'.',title_from_index)\n",
        "    i+=1"
      ],
      "metadata": {
        "colab": {
          "base_uri": "https://localhost:8080/"
        },
        "id": "tFYU0oJ2ozpp",
        "outputId": "31aecae4-ce97-4ba0-823f-2dc64090b57d"
      },
      "execution_count": 35,
      "outputs": [
        {
          "output_type": "stream",
          "name": "stdout",
          "text": [
            "Enter your favorite movie name : avtaar\n",
            "Top 10 Movies suggested for you : \n",
            "\n",
            "1 . ['Avatar']\n",
            "2 . ['Jumper']\n",
            "3 . ['Precious']\n",
            "4 . ['The Opposite Sex']\n",
            "5 . ['Heaven is for Real']\n",
            "6 . ['Bright Lights, Big City']\n",
            "7 . ['Run Lola Run']\n",
            "8 . ['Gerry']\n",
            "9 . ['A Prairie Home Companion']\n",
            "10 . ['Bang']\n"
          ]
        }
      ]
    }
  ],
  "metadata": {
    "colab": {
      "provenance": [],
      "authorship_tag": "ABX9TyMb6RwdTxOXpO8NaFfmy4Vr",
      "include_colab_link": true
    },
    "kernelspec": {
      "display_name": "Python 3",
      "name": "python3"
    },
    "language_info": {
      "name": "python"
    }
  },
  "nbformat": 4,
  "nbformat_minor": 0
}